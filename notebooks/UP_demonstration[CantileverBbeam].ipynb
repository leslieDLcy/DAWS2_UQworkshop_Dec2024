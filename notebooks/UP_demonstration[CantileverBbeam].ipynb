{
 "cells": [
  {
   "cell_type": "markdown",
   "metadata": {
    "jp-MarkdownHeadingCollapsed": true
   },
   "source": [
    "This notebook is written by the DAWS2 UQ team based in Univ. of Liverpool for the workshop of UQ & M of the DAWS2 project.\n",
    "\n",
    "Uncertainty Quantification & Management\n",
    "--\n",
    "*placeholder texts*\n",
    "\n",
    "{\n",
    "\n",
    "Personal website: https://yuchenakaleslie.github.io/<br>\n",
    "ResearchGate: https://www.researchgate.net/profile/Yu-Chen-402<br>\n",
    "Contact: yu.chen2@liverpool.ac.uk\n",
    "\n",
    "}\n",
    "\n",
    "DAWS2 UQ team: {Scott Ferson, Ioanna,  [(Leslie) Yu Chen](https://yuchenakaleslie.github.io/)}\n",
    "\n",
    "All rights reserved.\n",
    "\n",
    "==================="
   ]
  },
  {
   "cell_type": "markdown",
   "metadata": {},
   "source": [
    "## Table of Contents\n",
    "#### [1. Setup](#Setup)\n",
    "#### [2. Problem statement](#problem_statement)\n",
    "#### [3. Create propagating function](#create_propagating_function)\n",
    "#### [4. Epistemic uncertainty](#propagate_epistemic_uncertainty)\n",
    "#### <small>[4.1. Uncertainty Characterisation](#4.1-uncertainty-characterisation)</small>\n",
    "#### <small>[4.2. Uncertainty propagation methods](#4.2-uncertainty-propatation-methods)</small>\n",
    "##### <small>[4.2.1. Endpoints propagation](#4.2.1-Endpoints-propatation)</small>\n",
    "##### <small>[4.2.2. Subinterval reconstitution propagation](#4.2.2.-Subinterval-reconstitution-propagation)</small>\n",
    "##### <small>[4.2.3. Sampling propagation](#4.2.3.-Sampling-propagation)</small>\n",
    "##### <small>[4.2.4. Optimisation methods](#4.2.3.-Optimisation-methods)</small>\n",
    "#### [5. Aleatory uncertainty](#aleatory_uncertainty_propagation)\n",
    "#### [5. Mixed types of uncertainty](#mixed_uncertainty_propagation)"
   ]
  },
  {
   "cell_type": "code",
   "execution_count": null,
   "metadata": {},
   "outputs": [],
   "source": []
  },
  {
   "cell_type": "markdown",
   "metadata": {},
   "source": [
    "***\n",
    "<a id=\"setup\"></a>\n",
    "# 1. Setup\n",
    "\n",
    "Import the libraries"
   ]
  },
  {
   "cell_type": "code",
   "execution_count": 1,
   "metadata": {},
   "outputs": [],
   "source": [
    "import numpy as np\n",
    "from PyUncertainNumber.UP.uncertaintyPropagation import epistemic_propagation\n",
    "from PyUncertainNumber import UncertainNumber as UN\n",
    "import matplotlib.pyplot as plt"
   ]
  },
  {
   "cell_type": "code",
   "execution_count": 2,
   "metadata": {},
   "outputs": [],
   "source": [
    "%load_ext autoreload\n",
    "%autoreload 2\n",
    "%load_ext rich"
   ]
  },
  {
   "cell_type": "code",
   "execution_count": 3,
   "metadata": {},
   "outputs": [],
   "source": [
    "# import user-defined function\n",
    "\n",
    "USER_dir = 'C:\\\\Users\\\\Ioanna\\\\Documents\\\\GitHub\\\\PyUncertainNumber\\\\cantilever_beam'\n",
    "import sys\n",
    "sys.path.append(USER_dir)"
   ]
  },
  {
   "cell_type": "markdown",
   "metadata": {},
   "source": [
    "***\n",
    "<a id=\"problem_statement\"></a>\n",
    "# 2. Problem statement\n",
    "\n",
    "The numerical example models a simple cantilever beam with length, $L$, distance to the neutral axis $y$, Young’s modulus, $E$, second moment of inertia, $I$, and external load, $F$. We will compute the bending stress $σ$, and the deflection $d$, assuming the above input parameters are **uncertain numbers**.\n",
    "\n",
    "We will use this example throughout the document to illustrate the differences among various uncertainty quantification approaches. A complete description of the following methods can be found in the [DAWS1 report](https://sites.google.com/view/dawsreports/up).\n",
    "\n",
    "![alt text](../assets/cantilever.png)\n",
    "\n",
    "**Fig.1** Cantilever beam with input parameters.  "
   ]
  },
  {
   "cell_type": "markdown",
   "metadata": {},
   "source": [
    "***\n",
    "<a id=\"create_propagating_function\"></a>\n",
    "# 3. Create the propagating function\n",
    "\n",
    "\n",
    "A propagating function is created which calculates the deflection, $d$, as a function of $L$, $E$, $I$, and $F$.\n",
    "- The function's input is only the uncertain numbers.\n",
    "- As sampling techniques are used it is likely that for a certain input combination the airfoil will fail to reach a solution. we use the try function to accomodate for this.\n",
    "\n",
    "\n",
    "Alternatively, such propating function can be imported as a Python function/method object from a certain local directory."
   ]
  },
  {
   "cell_type": "markdown",
   "metadata": {},
   "source": [
    "<a id=\"3.1.-create-function\"></a>\n",
    "\n",
    "## 3.1. Create propagating function"
   ]
  },
  {
   "cell_type": "code",
   "execution_count": 3,
   "metadata": {},
   "outputs": [],
   "source": [
    "def cantilever_beam_deflection(x):\n",
    "    \"\"\"Calculates deflection and stress for a cantilever beam.\n",
    "\n",
    "    Args:\n",
    "        x (np.array): Array of input parameters:\n",
    "            x[0]: Length of the beam (m)\n",
    "            x[1]: Second moment of area (mm^4)\n",
    "            x[2]: Applied force (N)\n",
    "            x[3]: Young's modulus (MPa)\n",
    "\n",
    "    Returns:\n",
    "        float: deflection (m)\n",
    "               Returns np.nan if calculation error occurs.\n",
    "    \"\"\"\n",
    "\n",
    "    beam_length = x[0]\n",
    "    I = x[1]\n",
    "    F = x[2]\n",
    "    E = x[3]\n",
    "    try:  # try is used to account for cases where the input combinations leads to error in fun due to bugs\n",
    "        deflection = F * beam_length**3 / (3 * E * 10**6 * I)  # deflection in m\n",
    "        \n",
    "    except:\n",
    "        deflection = np.nan\n",
    "\n",
    "    return deflection"
   ]
  },
  {
   "cell_type": "code",
   "execution_count": null,
   "metadata": {},
   "outputs": [],
   "source": [
    "# know the function with default Python help mechanism\n",
    "cantilever_beam_deflection?"
   ]
  },
  {
   "cell_type": "code",
   "execution_count": null,
   "metadata": {},
   "outputs": [],
   "source": [
    "import numpy as np \n",
    "x = np.array([1.00500000e+01 , 3.86159100e-04 ,-8.24387293e+00 , 2.12872340e+02])\n",
    "y = cantilever_beam_deflection(x)\n",
    "print(y)"
   ]
  },
  {
   "cell_type": "markdown",
   "metadata": {},
   "source": [
    "<a id=\"3.2.-Upload-function\"></a>\n",
    "\n",
    "## 3.2. Upload propagating function"
   ]
  },
  {
   "cell_type": "code",
   "execution_count": 7,
   "metadata": {},
   "outputs": [],
   "source": [
    "# Alternatively, such propating function can be imported as a Python function/method object from a certain local directory.\n",
    "from PyUncertainNumber.UP.performance_func import cb_deflection, cb_stress"
   ]
  },
  {
   "cell_type": "markdown",
   "metadata": {
    "jp-MarkdownHeadingCollapsed": true
   },
   "source": [
    "<a id=\"3.3.-verify-function\"></a>\n",
    "\n",
    "## 3.3. Verify the function\n",
    "\n",
    "To ensure that the function yields meaningful results. We consider that input has the nominal values seen below.\n",
    "\n",
    "The function should yield deflection equal to 0.162m.\n",
    " "
   ]
  },
  {
   "cell_type": "code",
   "execution_count": null,
   "metadata": {},
   "outputs": [],
   "source": [
    "# test the function\n",
    "\n",
    "y  = 0.155 # m\n",
    "L  = 10.05 # m\n",
    "I = 0.000386 # m**4\n",
    "F = 37 # kN\n",
    "E = 200 # GPa\n",
    "\n",
    "x = np.array([L, I, F, E])\n",
    "deflection = cantilever_beam_deflection(x)\n",
    "\n",
    "print(deflection) # 0.162m"
   ]
  },
  {
   "cell_type": "markdown",
   "metadata": {},
   "source": [
    "***\n",
    "<a id=\"propagate_epistemic_uncertainty\"></a>\n",
    "# 4. Epistemic uncertainty"
   ]
  },
  {
   "cell_type": "markdown",
   "metadata": {},
   "source": [
    "<a id=\"4.1.-uncertainty-characterisation\"></a>\n",
    "\n",
    "## 4.1. Uncertainty Characterisation\n",
    "\n",
    "Construct `UncertainNumbers` objects for the inputs assuming they are intervals with the lower and upper values are seen below\n",
    "\n",
    "- $y = [0.145, 0.155] \\ m$\n",
    "\n",
    "- $L = [9.95, 10.05] \\ m$\n",
    "\n",
    "- $I = [0.0003861591, 0.0005213425] \\ m^{4}$\n",
    "\n",
    "- $F = [11, 37] \\ kN$\n",
    "\n",
    "- $E = [200, 220] \\ GPa$\n",
    " "
   ]
  },
  {
   "cell_type": "code",
   "execution_count": 2,
   "metadata": {},
   "outputs": [],
   "source": [
    "#y = UN(name='beam width', symbol='y', units='m', essence='interval', bounds=[0.145, 0.155]) # Required only for stress estimation\n",
    "L = UN(name='beam length', symbol='L', units='m', essence='interval', bounds= [9.95, 10.05])\n",
    "I = UN(name='moment of inertia', symbol='I', units='m', essence='interval', bounds= [0.0003861591, 0.0005213425])\n",
    "F = UN(name='vertical force', symbol='F', units='kN', essence='interval', bounds= [11, 37])\n",
    "E = UN(name='elastic modulus', symbol='E', units='GPa', essence='interval', bounds=[200, 220])"
   ]
  },
  {
   "cell_type": "code",
   "execution_count": null,
   "metadata": {},
   "outputs": [],
   "source": [
    "\n",
    "L.display()\n",
    "plt.show()"
   ]
  },
  {
   "cell_type": "code",
   "execution_count": null,
   "metadata": {},
   "outputs": [],
   "source": [
    "import matplotlib.pyplot as plt\n",
    "\n",
    "def plot_interval_box(lower_bound, upper_bound):\n",
    "    \"\"\"Plots an interval as a box on the y-axis at y=1 with no x-axis numbers \n",
    "       and includes vertical lines from y=0 to y=1 at the bounds.\n",
    "    \"\"\"\n",
    "\n",
    "    plt.figure(figsize=(3, 3))  # Adjust figure size as needed\n",
    "\n",
    "    # Create the box\n",
    "    \n",
    "    plt.hlines(y=1, xmin=lower_bound, xmax=upper_bound, linewidth=2, color='blue')\n",
    "\n",
    "    # Add vertical lines\n",
    "    plt.vlines(x=lower_bound, ymin=0, ymax=1, linewidth=1, color='blue')\n",
    "    plt.vlines(x=upper_bound, ymin=0, ymax=1, linewidth=1, color='blue')\n",
    "\n",
    "    #plt.yticks([0])  # Show only the y-axis tick at 0 \n",
    "    plt.xticks([])  # Remove x-axis ticks and numbers\n",
    "\n",
    "    plt.xlabel(\"V\")\n",
    "    plt.ylabel(\"CDF\")\n",
    "\n",
    "    plt.show()\n",
    "\n",
    "\n",
    "# Example usage:\n",
    "plot_interval_box(2, 5)"
   ]
  },
  {
   "cell_type": "markdown",
   "metadata": {},
   "source": [
    "<a id=\"4.2-uncertainty-propatation-methods\"></a>\n",
    "\n",
    "## 4.2 Ucertainty propagation methods \n",
    "\n",
    "Choose from a suite of black box propagating techniques to propagate the intervals through the model. "
   ]
  },
  {
   "cell_type": "markdown",
   "metadata": {
    "jp-MarkdownHeadingCollapsed": true
   },
   "source": [
    "<a id=\"4.2.1.-Endpoints-propatation\"></a>\n",
    "\n",
    "### 4.2.1. Endpoint propagation\n",
    "\n",
    "The endpoint propagation method (Dong and Shah, 1987) is a straightforward way to project intervals through the code, by projecting all input combinations produced by the Cartesian product of the interval bounds. This results in a total of $n = 2^{d}$. \n",
    "\n",
    "For the working example, there are d = 5 intervals which results in $n = 2^{5} = 32$ input combinations.\n",
    "\n",
    "#### Assumptions\n",
    "\n",
    "\n"
   ]
  },
  {
   "cell_type": "markdown",
   "metadata": {},
   "source": [
    "- [x] Ioanna's original top-level UP function with  the 'endspoints' method"
   ]
  },
  {
   "cell_type": "markdown",
   "metadata": {},
   "source": [
    "- [x] Leslie's standalone endspoints implementation"
   ]
  },
  {
   "cell_type": "code",
   "execution_count": null,
   "metadata": {},
   "outputs": [],
   "source": [
    "''' works perfect '''\n",
    "\n",
    "# deflection_bounds_e = UN.endpointsMethod(vars=['L', 'I', 'F', 'E'], \n",
    "#                                          func = cb_deflection, \n",
    "#                                          name='deflection', \n",
    "#                                          symbol='D')\n",
    "# deflection_bounds_e\n",
    "\n",
    "# stress_bounds_e = UN.endpointsMethod(vars=['y', 'L', 'I', 'F'], \n",
    "#                                      func= cb_stress, \n",
    "#                                      name='stress', \n",
    "#                                      symbol='S')\n",
    "# stress_bounds_e"
   ]
  },
  {
   "cell_type": "markdown",
   "metadata": {},
   "source": [
    "- [x] Leslie's integrated top-lelvel endspoints implementation"
   ]
  },
  {
   "cell_type": "code",
   "execution_count": null,
   "metadata": {},
   "outputs": [],
   "source": [
    "METHOD = \"endpoint\"\n",
    "\n",
    "a = epistemic_propagation(vars=['L', 'I', 'F', 'E'], \n",
    "          fun=cantilever_beam_deflection, \n",
    "          n = None, \n",
    "          method = METHOD, \n",
    "          save_raw_data = \"yes\", \n",
    "          base_path = USER_dir\n",
    "         )"
   ]
  },
  {
   "cell_type": "code",
   "execution_count": null,
   "metadata": {},
   "outputs": [],
   "source": [
    "# returned a dict that contains the UN object and some other information\n",
    "a.keys()"
   ]
  },
  {
   "cell_type": "code",
   "execution_count": null,
   "metadata": {},
   "outputs": [],
   "source": [
    "a[\"un\"]"
   ]
  },
  {
   "cell_type": "markdown",
   "metadata": {
    "jp-MarkdownHeadingCollapsed": true
   },
   "source": [
    "<a id=\"4.2.2.-Subinterval-reconstitution-propagation\"></a>\n",
    "\n",
    "### 4.2.2. Subinterval reconstitution propagation\n",
    "\n",
    "The input intervals are partitioned into smaller intervals, which are then propagated through the model using endpoint propagation and the output interval can be reassembled (Ferson and Hajagos, 2004)."
   ]
  },
  {
   "cell_type": "code",
   "execution_count": null,
   "metadata": {},
   "outputs": [],
   "source": [
    "METHOD = \"subinterval\"\n",
    "base_path = \"\"\n",
    "\n",
    "# TODO return either as namedTuple or dict to be explicit\n",
    "a = epistemic_propagation(vars=['L', 'I', 'F', 'E'], \n",
    "          fun = cantilever_beam_deflection, \n",
    "          n = 10, \n",
    "          method = METHOD, \n",
    "          save_raw_data = \"yes\", \n",
    "          base_path = base_path)"
   ]
  },
  {
   "cell_type": "code",
   "execution_count": null,
   "metadata": {},
   "outputs": [],
   "source": [
    "a.keys()"
   ]
  },
  {
   "cell_type": "code",
   "execution_count": null,
   "metadata": {},
   "outputs": [],
   "source": [
    "    \n",
    "A = UN(\n",
    "    essence=\"pbox\",\n",
    "    distribution_parameters=[\"gaussian\", [[1, 2], [1,2]]]\n",
    ")\n",
    "\n",
    "B = UN(\n",
    "    essence=\"distribution\",\n",
    "    distribution_parameters=[\"gaussian\", [1, 1]]\n",
    ")\n",
    "\n",
    "C = UN(\n",
    "    essence=\"interval\",\n",
    "    bounds= [3, 4] \n",
    ")\n",
    "\n",
    "V = UN(name='testing', \n",
    "        symbol='V', \n",
    "        essence='distribution', \n",
    "        distribution_parameters=[\"triang\", [0.5, 10,20]])\n",
    "\n",
    "C.display\n",
    "plt.show\n",
    "# print(A)\n",
    "# print(B)\n",
    "# print(C)\n",
    "\n",
    "# # example\n",
    "# from PyUncertainNumber import UncertainNumber as UN\n",
    "\n",
    "def cantilever_beam_deflection(x):\n",
    "    \"\"\"Calculates deflection and stress for a cantilever beam.\n",
    "\n",
    "    Args:\n",
    "\n",
    "        x (np.array): Array of input parameters:\n",
    "            x[0]: Length of the beam (m)\n",
    "            x[1]: Second moment of area (mm^4)\n",
    "            x[2]: Applied force (N)\n",
    "            x[3]: Young's modulus (MPa)\n",
    "\n",
    "    Returns:\n",
    "        float: deflection (m)\n",
    "               Returns np.nan if calculation error occurs.\n",
    "    \"\"\"\n",
    "\n",
    "    beam_length = x[0]\n",
    "    I = x[1]\n",
    "    F = x[2]\n",
    "    E = x[3]\n",
    "    try:  # try is used to account for cases where the input combinations leads to error in fun due to bugs\n",
    "        deflection = F * beam_length**3 / (3 * E * 10**6 * I)  # deflection in m\n",
    "        \n",
    "    except:\n",
    "        deflection = np.nan\n",
    "\n",
    "    return np.array([deflection]) \n",
    "\n",
    "#L = UN(name='beam length', symbol='L', units='m', essence='distribution', distribution_parameters=[\"gaussian\", [10.05, 0.033]])\n",
    "#I = UN(name='moment of inertia', symbol='I', units='m', essence='distribution', distribution_parameters=[\"gaussian\", [0.000454, 4.5061e-5]])\n",
    "F = UN(name='vertical force', symbol='F', units='kN', essence='distribution', distribution_parameters=[\"gaussian\", [24, 8.67]])\n",
    "#I = UN(name='moment of inertia', symbol='I', units='m', essence='interval', bounds=[\"gaussian\", [0.000454, 4.5061e-5]])\n",
    "\n",
    "E = UN(name='elastic modulus', symbol='E', units='GPa', essence='distribution', distribution_parameters=[\"gaussian\", [210, 6.67]])\n",
    "L = UN(name='beam length', symbol='L', units='m', essence='interval', bounds= [9.95, 10.05])\n",
    "I = UN(name='moment of inertia', symbol='I', units='m', essence='interval', bounds= [0.0003861591, 0.0005213425])\n",
    "#F = UN(name='vertical force', symbol='F', units='kN', essence='interval', bounds= [11, 37])\n",
    "#E = UN(name='elastic modulus', symbol='E', units='GPa', essence='interval', bounds=[200, 220])\n",
    "#E.display()\n",
    "#plt.show()\n",
    "#  print(V)\n",
    "\n",
    "# print(L.essence)\n",
    "# METHOD = \"latin_hypercube\"\n",
    "# base_path = \"\"\n",
    "\n",
    "a = first_order_propagation_method(x=[L, I, F, E], #['L', 'I', 'F', 'E'], \n",
    "          f = cantilever_beam_deflection, \n",
    "          n_disc= 3\n",
    "         )\n",
    "\n",
    "print(a['bounds'])\n",
    "# # Create a p-box UncertainNumber with a Gaussian distribution\n",
    "R = UN(name='deflection', symbol='d', units='m', essence='pbox', distribution_parameters=['empirical', a['bounds']])\n",
    "\n",
    "F = UN(name='vertical force', symbol='F', units='kN', essence='pbox', distribution_parameters=[\"gaussian\", [[22.5, 26.5], 8.67]])\n",
    "\n",
    "#F.display()\n",
    "I = UN(name='moment of inertia', symbol='I', units='m', essence='pbox', distribution_parameters=[\"gaussian\", [[0.0035,0.00067], 4.5061e-5]])\n",
    "\n",
    "#I.display()\n",
    "\n",
    "# Calculate the positions for the horizontal lines (3 equally spaced points)\n",
    "y_positions = np.linspace(0, 1, 5)  # 4 points create 3 spaces\n",
    "print(y_positions)\n",
    "# Plot the horizontal lines\n",
    "for y in y_positions[1:]:  # Skip the first point (ymin)\n",
    "    plt.axhline(y=y, color='gray', linestyle='--')\n",
    "\n",
    "#plt.show()\n",
    "# res = endpoints_monotonic_method(ranges.T, f)\n",
    "\n",
    "    # num_outputs = res['sign_x'].shape[0]\n",
    "    # inpsList = np.zeros((0, d))\n",
    "    # evalsList = np.zeros((0, num_outputs))  # for any number fo outputs\n",
    "    # X_input = []\n",
    "\n",
    "    # X_signs = np.empty((num_outputs, d, n_slices.sum(), 2, d))\n",
    "\n",
    "    # for out in range(num_outputs):\n",
    "    #     for input in range(d):\n",
    "    #         X = [ranges[:,k].tolist() for k in range(d)]\n",
    "    #         temp_X = X.copy()\n",
    "    #         temp_X[input] = []\n",
    "    #         Xsings = np.empty((n_slices[input], 2, d))\n",
    "            \n",
    "    #         current_index = 0\n",
    "    #         for slice in range(n_slices[input]):\n",
    "    #             temp_X[input] = []\n",
    "\n",
    "    #             temp_X[input].extend(np.array([xl[input][slice], xr[input][slice]]).tolist())\n",
    "    #             rang = np.array([temp_X[i] for i in range(d)], dtype=object)\n",
    "    #             Xsings[slice, :, :] = extreme_pointX(rang, res['sign_x'][out])\n",
    "    #             X_signs[out, input, current_index, :, :] = Xsings[slice, :, :]  # Store in X_signs\n",
    "    #             current_index += 1\n",
    "                \n",
    "    #         print(out, input, Xsings)  # Print for debugging\n",
    "    #             #print('temp_X', out, input, slice, temp_X)  # Print for debugging\n",
    "\n",
    "\n",
    "\n",
    "    #     # Initialize all_output as a list to store outputs initially\n",
    "    #             all_output_list = []\n",
    "    #             evalsList = []\n",
    "    #             numRun = 0\n",
    "    #             inpsList = np.empty((0, x_combinations.shape[1]))  # Initialize inpsList with the correct number of columns\n",
    "\n",
    "    #             for case in x_combinations:  # Iterate directly over the rows of x_combinations\n",
    "    #                 im = np.where((inpsList == case).all(axis=1))[0]\n",
    "    #                 if not im.size:\n",
    "    #                     output = f(case)\n",
    "    #                     all_output_list.append(output)\n",
    "    #                     inpsList = np.vstack([inpsList, case])\n",
    "    #                     evalsList.append(output)\n",
    "    #                     numRun += 1\n",
    "    #                 else:\n",
    "    #                     all_output_list.append(evalsList[im[0]])\n",
    "\n",
    "\n",
    "\n",
    "    # for input in range(d):     \n",
    "        \n",
    "    #     X = [ranges[:,i].tolist() for i in range(d)]\n",
    "    #     temp_X = X.copy()  # Create a temporary copy of X\n",
    "    #     temp_X[input] = []  # Clear the list for the current input\n",
    "    #     Xsings = np.empty((num_outputs, n_slices[input], 2, d))\n",
    "\n",
    "    #     current_index = 0\n",
    "    #     for slice in range(n_slices[input]):\n",
    "    #         temp_X[input].extend(np.array([xl[input][slice], xr[input][slice]]).tolist())  # Extend the list for the current input\n",
    "        \n",
    "    #     rang = np.array([temp_X[i] for i in range(d)], dtype=object)\n",
    "         \n",
    "    #     for out in range(num_outputs):\n",
    "    #         Xsings[out, current_index, :, :] = extreme_pointX(rang, res['sign_x'][out])\n",
    "    #         current_index += 1  \n",
    "    #     print(input, Xsings)\n",
    "    #     print('temp_X', input, temp_X)\n",
    "\n",
    "    #    # X_input.append(temp_X)\n",
    "\n",
    "        \n",
    "\n",
    "    \n",
    "\n",
    "        # Generate focal_elemefocal_elements_comb = cartesian(*[np.arange(slice) for i in range(d)])nts_comb with correct cartesian input\n",
    "        \n",
    "\n",
    "    #print('focal elements', focal_elements_comb)\n",
    "\n",
    "    # # Create a list of lists containing both lower and upper bounds for each number\n",
    "    # # combined_bounds = [\n",
    "    # #         np.concatenate((np.atleast_1d(lower), np.atleast_1d(upper)))\n",
    "    # #         for lower, upper in zip(xl, xr)\n",
    "    # #             ]\n",
    "    # # # Generate the Cartesian product of all combinations\n",
    "    # # all_combinations = cartesian(*combined_bounds)\n",
    "    # # #print(all_combinations)\n",
    "\n",
    "    # all_output = None\n",
    "    # if f is not None:\n",
    "    #     # Efficiency upgrade: store repeated evaluations\n",
    "    #     inpsList = np.zeros((0, d))\n",
    "    #     evalsList = []  \n",
    "    #     numRun = 0\n",
    "\n",
    "    #     all_output = []  \n",
    "    #     for c in tqdm.tqdm(all_combinations, desc=\"Evaluating samples\"):\n",
    "    #         im = np.where((inpsList == c).all(axis=1))[0]\n",
    "    #         if not im.size:\n",
    "    #             output = f(c) \n",
    "    #             all_output.append(output)\n",
    "    #             inpsList = np.vstack([inpsList, c])\n",
    "    #             evalsList.append(output)\n",
    "    #             numRun += 1\n",
    "    #         else:\n",
    "    #             all_output.append(evalsList[im[0]]) \n",
    "        \n",
    "    #     # Determine the number of outputs from the first evaluation\n",
    "    #     try:\n",
    "    #         num_outputs = len(all_output[0])\n",
    "    #     except TypeError:\n",
    "    #         num_outputs = 1  # If f returns a single value\n",
    "\n",
    "    #     # Convert all_output to a NumPy array with the correct shape\n",
    "    #     all_output = np.array(all_output).reshape(-1, num_outputs)  \n",
    "\n",
    "    # return all_combinations, all_output #Include all_combinations in the return values\n",
    "    \n",
    "   \n",
    "\n",
    "    # xl = np.zeros((nd , d))\n",
    "    # xr = np.zeros((nd, d))\n",
    "    # ranges = np.zeros((2, d))\n",
    "    \n",
    "    # for i, un in enumerate(x):\n",
    "    #     match un.essence:\n",
    "            \n",
    "    #         case \"distribution\":\n",
    "    #             # xl[:, i] = un.ppf(u[:-1])  # Calculate ppf for all quantiles at once\n",
    "    #             # print('xl', xl[:,i])\n",
    "    #             # xr[:, i] = un.ppf(u[1:])   # Calculate ppf for all quantiles at once\n",
    "    #             # ranges[:, i] = [xl[0, i], xr[-1, i]]\n",
    "    #             pass\n",
    "    #         case 'interval':\n",
    "    #             # Assign the lower bound to the first row of xl for this UN\n",
    "    #             xl[0, i] = un.bounds[0]  \n",
    "    #             # Assign the upper bound to the last row of xr for this UN\n",
    "    #             xr[-1, i] = un.bounds[1]  \n",
    "    #             ranges[:, i] = un.bounds\n",
    "    #         case \"pbox\":\n",
    "    #             print(\"pbox_ppf\", un.ppf(u))\n",
    "    #             xl[:, i] = un.ppf(u)[0]  # Calculate ppf for all quantiles at once\n",
    "    #             xr[:, i] = un.ppf(u)[1]   # Calculate ppf for all quantiles at once\n",
    "    #             ranges[:, i] = [xl[0, i], xr[-1, i]]\n",
    "    #         case _:\n",
    "    #             raise ValueError(f\"Unsupported uncertainty type: {un.essence}\")\n",
    "\n",
    "    # return xl, xr, ranges\n",
    "    #xl, xr, range = mixed_uncertainty(x =[A,B,C], f= None,   n_disc=3)\n",
    "\n",
    "\n",
    "#print(xr)\n",
    "#print(range)\n",
    "\n",
    "    # # Efficiency upgrade: store repeated evaluations\n",
    "    # inpsList = np.zeros((0, d))\n",
    "    # evalsList = np.zeros((0, 2))\n",
    "    # numRun = 0\n",
    "\n",
    "    # # Generate Cartesian product and propagate\n",
    "    # clD = np.full((nd - 1, 2, d), np.nan)\n",
    "    # cmD = np.full((nd - 1, 2, d), np.nan)\n",
    "    # for i in range(d):  # First-order propagation\n",
    "    #     X = ranges.copy()\n",
    "    #     for j in range(nd - 1):\n",
    "    #         X[:, i] = [xl[j, i], xr[j, i]]\n",
    "\n",
    "    #         # Extreme point method\n",
    "    #         XsignCl = extreme_pointX(X, signs[:, 0])\n",
    "    #         XsignCm = extreme_pointX(X, signs[:, 1])\n",
    "    #         C = np.vstack([XsignCl, XsignCm])\n",
    "\n",
    "    #         cl = np.full(C.shape[0], np.nan)\n",
    "    #         cm = np.full(C.shape[0], np.nan)\n",
    "    #         for k in range(C.shape[0]):\n",
    "    #             c = C[k]\n",
    "    #             print(f'Input: {i + 1}, FE: {j + 1}, run: {k + 1} -->  ', end='')\n",
    "\n",
    "    #             # Check for existing evaluations\n",
    "    #             im = np.where((inpsList == c).all(axis=1))[0]\n",
    "    #             if not im.size:\n",
    "    #                 # Replace the following line with your actual xfoilrun function call\n",
    "    #                 cl[k], cm[k] = simulate_xfoilrun(c)  \n",
    "    #                 inpsList = np.vstack([inpsList, c])\n",
    "    #                 evalsList = np.vstack([evalsList, [cl[k], cm[k]]])\n",
    "    #                 numRun += 1\n",
    "    #                 print(f'number of evaluations: {numRun}')\n",
    "    #             else:\n",
    "    #                 cl[k] = evalsList[im[0], 0]\n",
    "    #                 cm[k] = evalsList[im[0], 1]\n",
    "    #                 print('evaluation exists - skipping...')\n",
    "\n",
    "    #         clD[j, :, i] = [np.min(cl), np.max(cl)]\n",
    "    #         cmD[j, :, i] = [np.min(cm), np.max(cm)]\n",
    "    #         print()\n",
    "\n",
    "    #     clD[:, :, i] = np.array(sorted(clD[:, :, i], key=lambda x: x[0]))  # Sort by first column\n",
    "    #     cmD[:, :, i] = np.array(sorted(cmD[:, :, i], key=lambda x: x[0]))\n",
    "    #     print('\\n\\n')\n",
    "\n",
    "    # clI = np.zeros((nd - 1, 2))\n",
    "    # cmI = np.zeros((nd - 1, 2))\n",
    "    # for i in range(nd - 1):\n",
    "    #     clI[i] = imp(np.transpose(clD[i, :, :], (1, 0)))\n",
    "    #     cmI[i] = imp(np.transpose(cmD[i, :, :], (1, 0)))\n",
    "\n",
    "    # print(f'Total number of evaluations: {numRun}')\n",
    "    # return clI, cmI, clD, cmD\n",
    "\n",
    "# def imp(X):\n",
    "#     \"\"\"Imposition of intervals.\"\"\"\n",
    "#     return np.array([np.max(X[0, :]), np.min(X[1, :])])\n",
    "\n",
    "# # Placeholder for your xfoilrun function\n",
    "# def simulate_xfoilrun(c):\n",
    "#     \"\"\"Simulates the xfoilrun function.\"\"\"\n",
    "#     # Replace this with your actual xfoilrun function or a suitable simulation\n",
    "#     cl = c[0] + 2 * c[1] - 0.5 * c[2]  # Example calculation for cl\n",
    "#     cm = c[1] * c[2] + c[3] / c[4]  # Example calculation for cm\n",
    "#     return cl, cm\n",
    "\n"
   ]
  },
  {
   "cell_type": "code",
   "execution_count": 9,
   "metadata": {},
   "outputs": [],
   "source": []
  },
  {
   "cell_type": "code",
   "execution_count": 12,
   "metadata": {},
   "outputs": [],
   "source": [
    "\n"
   ]
  },
  {
   "cell_type": "code",
   "execution_count": null,
   "metadata": {},
   "outputs": [],
   "source": []
  },
  {
   "cell_type": "markdown",
   "metadata": {
    "jp-MarkdownHeadingCollapsed": true
   },
   "source": [
    "<a id=\"4.2.3.-Sampling-propagation\"></a>\n",
    "\n",
    "### 4.2.3. Sampling propagation\n",
    "\n",
    "- Brute Monte Carlo\n",
    "- Latin Hypercube\n",
    "- Brute Monte Carlo + endspoints\n",
    "- Latin Hypercuve + endpoints"
   ]
  },
  {
   "cell_type": "code",
   "execution_count": null,
   "metadata": {},
   "outputs": [],
   "source": [
    "METHOD = \"monte_carlo\"\n",
    "base_path = \"\"\n",
    "\n",
    "a = epistemic_propagation(vars=['L', 'I', 'F', 'E'], \n",
    "          fun = cantilever_beam_deflection, \n",
    "          n = 1000, \n",
    "          method = METHOD, \n",
    "          save_raw_data = \"no\"\n",
    "         )"
   ]
  },
  {
   "cell_type": "code",
   "execution_count": null,
   "metadata": {},
   "outputs": [],
   "source": [
    "a.keys()"
   ]
  },
  {
   "cell_type": "code",
   "execution_count": null,
   "metadata": {},
   "outputs": [],
   "source": [
    "a[\"un\"]"
   ]
  },
  {
   "cell_type": "markdown",
   "metadata": {},
   "source": [
    "<a id=\"4.2.4.-Optimisation-methors\"></a>\n",
    "\n",
    "### 4.2.4. Optimisation methods\n",
    "\n",
    "- Local optimisation\n",
    "- Genetic algorithm\n"
   ]
  },
  {
   "cell_type": "code",
   "execution_count": null,
   "metadata": {},
   "outputs": [],
   "source": [
    "METHOD = \"local_optimisation\"\n",
    "\n",
    "a = epistemic_propagation(vars=['L', 'I', 'F', 'E'], \n",
    "       fun = cantilever_beam_deflection, \n",
    "       x0 = None, \n",
    "       method = METHOD, \n",
    "       method_loc = 'Nelder-Mead')"
   ]
  },
  {
   "cell_type": "code",
   "execution_count": null,
   "metadata": {},
   "outputs": [],
   "source": [
    "a.keys()"
   ]
  },
  {
   "cell_type": "code",
   "execution_count": null,
   "metadata": {},
   "outputs": [],
   "source": [
    "a[\"un\"]"
   ]
  },
  {
   "cell_type": "markdown",
   "metadata": {},
   "source": []
  },
  {
   "cell_type": "code",
   "execution_count": null,
   "metadata": {},
   "outputs": [],
   "source": [
    "METHOD = \"genetic_optimisation\"\n",
    "\n",
    "a = epistemic_propagation(vars=['L', 'I', 'F', 'E'], \n",
    "       fun = cantilever_beam_deflection, \n",
    "       method = METHOD)"
   ]
  },
  {
   "cell_type": "code",
   "execution_count": null,
   "metadata": {},
   "outputs": [],
   "source": [
    "a.keys()"
   ]
  },
  {
   "cell_type": "code",
   "execution_count": null,
   "metadata": {},
   "outputs": [],
   "source": [
    "a[\"un\"]"
   ]
  },
  {
   "cell_type": "markdown",
   "metadata": {},
   "source": [
    "### Naive interval arithmetics"
   ]
  },
  {
   "cell_type": "code",
   "execution_count": null,
   "metadata": {},
   "outputs": [],
   "source": [
    "defl = cantilever_beam_deflection(L, I, F, E)"
   ]
  },
  {
   "cell_type": "code",
   "execution_count": null,
   "metadata": {},
   "outputs": [],
   "source": []
  },
  {
   "cell_type": "markdown",
   "metadata": {},
   "source": [
    "***\n",
    "<a id=\"aleatory_uncertainty_propagation\"></a>\n",
    "# 5. Aleatory uncertainty\n",
    "\n",
    "when inputs have various types of uncertainty."
   ]
  },
  {
   "cell_type": "code",
   "execution_count": null,
   "metadata": {},
   "outputs": [],
   "source": [
    "# y = UN(name='beam width', symbol='y', units='m', essence='interval', bounds=[0.145, 0.155]) # Required only for stress estimation\n",
    "L = UN(name='beam length', symbol='L', units='m', essence='distribution', distribution_parameters=[\"gaussian\", [10.05, 0.033]])\n",
    "I = UN(name='moment of inertia', symbol='I', units='m', essence='distribution', distribution_parameters=[\"gaussian\", [0.000454, 4.5061e-5]])\n",
    "F = UN(name='vertical force', symbol='F', units='kN', essence='distribution', distribution_parameters=[\"gaussian\", [24, 8.67]])\n",
    "E = UN(name='elastic modulus', symbol='E', units='GPa', essence='distribution', distribution_parameters=[\"gaussian\", [210, 6.67]])"
   ]
  },
  {
   "cell_type": "code",
   "execution_count": null,
   "metadata": {},
   "outputs": [],
   "source": [
    "\n",
    "METHOD = \"monte_carlo\"\n",
    "base_path = \"\"\n",
    "\n",
    "a = aleatory_propagation(vars=['L', 'I', 'F', 'E'], \n",
    "          fun = cantilever_beam_deflection, \n",
    "          n = 10, \n",
    "          method = METHOD, \n",
    "          save_raw_data = \"no\"\n",
    "         )\n"
   ]
  },
  {
   "cell_type": "markdown",
   "metadata": {},
   "source": [
    "***\n",
    "<a id=\"mixed_uncertainty_propagation\"></a>\n",
    "# 6. Mixed types of uncertainty\n",
    "\n",
    "when inputs have various types of uncertainty."
   ]
  },
  {
   "cell_type": "code",
   "execution_count": null,
   "metadata": {},
   "outputs": [],
   "source": [
    "#TODO could Scott elaborate? cartesian matrix distribution and interval or pbox - interval horizontal slices through the pbox define an interval, horizontal slicing as an approximation or rigolously each of the ci functions\n",
    "#TODO ferson, hajagos rigorous\n",
    "slicing approimately, slicling rigorously\n",
    "a list of itnervals by horizontal slices and with these lists the cartesian product , interval from each input.\n",
    "stack the intervals and reconstruct this is done. "
   ]
  },
  {
   "cell_type": "code",
   "execution_count": null,
   "metadata": {},
   "outputs": [],
   "source": [
    "import numpy as np\n",
    "import matplotlib.pyplot as plt\n",
    "\n",
    "def plotPbox(X, p=None, color='k'):\n",
    "    \"\"\"\n",
    "    Plots a p-box (probability box) using matplotlib.\n",
    "\n",
    "    Args:\n",
    "        X (np.ndarray): A 2D NumPy array where each row represents an interval [xL, xR].\n",
    "        p (np.ndarray, optional): A 1D NumPy array of probabilities corresponding to the intervals in X. \n",
    "                                   Defaults to None, which generates equally spaced probabilities.\n",
    "        color (str, optional): The color of the plot. Defaults to 'k' (black).\n",
    "    \"\"\"\n",
    "    xL = X[:, 0]\n",
    "    xR = X[:, 1]\n",
    "\n",
    "    if p is None:\n",
    "        p = np.linspace(0, 1, X.shape[0] + 1)\n",
    "\n",
    "    if p.min() > 0:\n",
    "        p = np.concatenate(([0], p))\n",
    "        xL = np.concatenate(([xL[0]], xL))\n",
    "        xR = np.concatenate(([xR[0]], xR))\n",
    "\n",
    "    if p.max() < 1:\n",
    "        p = np.concatenate((p, [1]))\n",
    "        xR = np.concatenate((xR, [xR[-1]]))\n",
    "        xL = np.concatenate((xL, [xL[-1]]))\n",
    "\n",
    "    plt.stairs([xL[0]] + xL.tolist(), p, color=color, linewidth=3)\n",
    "    plt.stairs([xR[0]] + xR.tolist(), p, color=color, linewidth=3)\n",
    "    plt.plot([xL[0], xR[0]], [0, 0], color=color, linewidth=3)\n",
    "    plt.plot([xL[-1], xR[-1]], [1, 1], color=color, linewidth=3)\n",
    "    plt.show()  # Add this to display the plot"
   ]
  },
  {
   "cell_type": "code",
   "execution_count": null,
   "metadata": {},
   "outputs": [],
   "source": [
    "# example\n",
    "from PyUncertainNumber.UP.mixed_uncertainty.second_order_propagation import second_order_propagation_method\n",
    "def cantilever_beam_deflection(x):\n",
    "        \"\"\"Calculates deflection and stress for a cantilever beam.\n",
    "\n",
    "        Args:\n",
    "          x (np.array): Array of input parameters:\n",
    "              x[0]: Length of the beam (m)\n",
    "              x[1]: Second moment of area (mm^4)\n",
    "              x[2]: Applied force (N)\n",
    "              x[3]: Young's modulus (MPa)\n",
    "\n",
    "      Returns:\n",
    "          float: deflection (m)\n",
    "                 Returns np.nan if calculation error occurs.\n",
    "      \"\"\"\n",
    "        beam_length = x[0]\n",
    "        I = x[1]\n",
    "        F = x[2]\n",
    "        E = x[3]\n",
    "        try:  # try is used to account for cases where the input combinations leads to error in fun due to bugs\n",
    "            deflection = F * beam_length**3 / (3 * E * 10**6 * I)  # deflection in m\n",
    "\n",
    "        except:\n",
    "            deflection = np.nan\n",
    "\n",
    "        return deflection\n",
    "    \n",
    "# y = UncertainNumber(name='distance to neutral axis', symbol='y', units='m', essence='distribution', distribution_parameters=[\"gaussian\", [0.15, 0.00333]])\n",
    "# L = UncertainNumber(name='beam length', symbol='L', units='m', essence='distribution', distribution_parameters=[\"gaussian\", [10.05, 0.033]])\n",
    "# I = UncertainNumber(name='moment of inertia', symbol='I', units='m', essence='distribution', distribution_parameters=[\"gaussian\", [0.000454, 4.5061e-5]])\n",
    "# F = UncertainNumber(name='vertical force', symbol='F', units='kN', essence='distribution', distribution_parameters=[\"gaussian\", [24, 8.67]])\n",
    "# E = UncertainNumber(name='elastic modulus', symbol='E', units='GPa', essence='distribution', distribution_parameters=[\"gaussian\", [210, 6.67]])\n",
    "    \n",
    "y = UN(name='beam width', symbol='y', units='m', essence='interval', bounds=[0.145, 0.155]) \n",
    "L = UN(name='beam length', symbol='L', units='m', essence='interval', bounds= [9.95, 10.05])\n",
    "I = UN(name='moment of inertia', symbol='I', units='m', essence='interval', bounds= [0.0003861591, 0.0005213425])\n",
    "F = UN(name='vertical force', symbol='F', units='kN', essence='interval', bounds= [11, 37])\n",
    "E = UN(name='elastic modulus', symbol='E', units='GPa', essence='interval', bounds=[200, 220])\n",
    "\n",
    "METHOD = \"extremepoints\"\n",
    "base_path = \"C:\\\\Users\\\\Ioanna\\\\OneDrive - The University of Liverpool\\\\DAWS2_code\\\\UP\\\\\"\n",
    "# (vars = None,\n",
    "#         results:dict = None,\n",
    "#         fun = None,\n",
    "#         n: np.integer = None,\n",
    "#         method = \"monte_carlo\", \n",
    "             \n",
    "#         save_raw_data=\"no\",\n",
    "#         *,  # Keyword-only arguments start here\n",
    "#         base_path=np.nan,\n",
    "#         **kwargs,\n",
    "a = second_order_propagation_method(vars= [ L, I, F, E], \n",
    "                            results = None,\n",
    "                            fun= cantilever_beam_deflection, \n",
    "                            method= 'endpoints', \n",
    "                            #save_raw_data= \"no\",\n",
    "                            save_raw_data= \"yes\",\n",
    "                            base_path= base_path\n",
    "                        )\n",
    "    \n",
    "    \n",
    "a.print()\n",
    "for i in range(len(a.un)):\n",
    "    print(a.un[i])\n",
    "\n",
    "\n",
    "    "
   ]
  }
 ],
 "metadata": {
  "kernelspec": {
   "display_name": "base",
   "language": "python",
   "name": "python3"
  },
  "language_info": {
   "codemirror_mode": {
    "name": "ipython",
    "version": 3
   },
   "file_extension": ".py",
   "mimetype": "text/x-python",
   "name": "python",
   "nbconvert_exporter": "python",
   "pygments_lexer": "ipython3",
   "version": "3.11.7"
  }
 },
 "nbformat": 4,
 "nbformat_minor": 4
}
