{
 "cells": [
  {
   "cell_type": "markdown",
   "metadata": {},
   "source": [
    "## Table of Contents\n",
    "#### [1. Setup](#Setup)\n",
    "#### [2. Problem statement](#problem_statement)\n",
    "#### [3. Create propagating function](#create_propagating_function)\n",
    "#### [4. Epistemic uncertainty](#propagate_epistemic_uncertainty)\n",
    "#### <small>[4.1. Uncertainty Characterisation](#4.1-uncertainty-characterisation)</small>\n",
    "#### <small>[4.2. Uncertainty propagation methods](#4.2-uncertainty-propatation-methods)</small>\n",
    "##### <small>[4.2.1. Endpoints propagation](#4.2.1-Endpoints-propatation)</small>\n",
    "##### <small>[4.2.2. Subinterval reconstitution propagation](#4.2.2.-Subinterval-reconstitution-propagation)</small>\n",
    "##### <small>[4.2.3. Sampling propagation](#4.2.3.-Sampling-propagation)</small>\n",
    "##### <small>[4.2.4. Optimisation methods](#4.2.3.-Optimisation-methods)</small>\n",
    "#### [5. Aleatory uncertainty](#aleatory_uncertainty_propagation)\n",
    "#### [5. Mixed types of uncertainty](#mixed_uncertainty_propagation)"
   ]
  },
  {
   "cell_type": "markdown",
   "metadata": {},
   "source": [
    "***\n",
    "<a id=\"setup\"></a>\n",
    "# 1. Setup\n",
    "\n",
    "Import the libraries"
   ]
  },
  {
   "cell_type": "code",
   "execution_count": 10,
   "metadata": {},
   "outputs": [],
   "source": [
    "import numpy as np\n",
    "from PyUncertainNumber.propagation.uncertaintyPropagation import Propagation\n",
    "from PyUncertainNumber.characterisation.uncertainNumber import UncertainNumber as UN\n",
    "import docutils # how to use this????"
   ]
  },
  {
   "cell_type": "code",
   "execution_count": 4,
   "metadata": {},
   "outputs": [],
   "source": [
    "%load_ext autoreload\n",
    "%autoreload 2\n",
    "%load_ext rich"
   ]
  },
  {
   "cell_type": "code",
   "execution_count": 5,
   "metadata": {},
   "outputs": [],
   "source": [
    "# import user-defined function\n",
    "\n",
    "USER_dir = 'C:\\\\Users\\\\Ioanna\\\\Documents\\\\GitHub\\\\PyUncertainNumber\\\\Michell_truss'\n",
    "import sys\n",
    "sys.path.append(USER_dir)"
   ]
  },
  {
   "cell_type": "markdown",
   "metadata": {},
   "source": [
    "<a id=\"problem_statement\"></a>\n",
    "# 2. Problem statement\n",
    "\n",
    "We want to design a lightweight mounting structure to support an electric motor to the main spar of a wing. Despite the best intentions of the design team to achieve minimum weight for the structure, considerable uncertainty surrounds its main sizing parameters, giving rise to the risk of producing a lightweight structure which may require substantial changes later on in the design process.\n",
    "\n",
    "The motor mount is a “cage”, each of whose four sides is a Michell lattice, such as the one shown in Fig.1.The complex geometry of each lattice can be created with relative ease through the principles of procedural geometry generation, where topological features can be implemented as variables just as easily as physical dimensions. In particular, the geometry of each lattice is created by the algorithm proposed by Chan {REF}, which implements the mechanical principles developed by Michell {REF}. The complete study can be found in Ioannou I, Hristov PO, Yong HK, Marsh R, Silva E, Sobester A, Ferson S. Towards a Framework for Non-intrusive Uncertainty Propagation in the Preliminary Design of Aircraft Systems. In AIAA Scitech 2023 Forum 2023 (p. 2373). \n",
    "\n",
    "Grasshopper can not be called externally through python. Nonetheless, our code is still useful and can be used to provide necessary input combinations for methods other than optimisation. \n",
    "\n",
    "![alt text](<Motor_mount2_7_24Divs.png>)!\n",
    "\n",
    "**Fig.1** Two instances of the studied parametric motor mount."
   ]
  },
  {
   "cell_type": "markdown",
   "metadata": {},
   "source": [
    "***\n",
    "<a id=\"propagate_epistemic_uncertainty\"></a>\n",
    "# 4. Epistemic uncertainty"
   ]
  },
  {
   "cell_type": "markdown",
   "metadata": {},
   "source": [
    "<a id=\"3.1.-uncertainty-characterisation\"></a>\n",
    "\n",
    "## 3.1. Uncertainty Characterisation\n",
    "\n",
    "Construct `UncertainNumbers` objects for the inputs assuming they are intervals with the lower and upper values are seen below\n",
    "\n",
    "\n",
    "Characterise the uncertainty of the input uncertain numbers:\n",
    "\n",
    "- $D$ Number of divisions. \n",
    "- $R_{out}$ The ratio of between the width of the outer beams (black) and the overall length $L$ of the lattice.\n",
    "- $R_{in}$ The ratio between the width of the inner beams of the lattice (white), excluding the second beams, and the width of the outer beams.\n",
    "- $R_{in2}$ The ratio between the width of the second inner beams (green) and the width of the outer beams\n",
    "- $F$ the download force applied to the tip of the lattice.\n",
    "\n",
    "![alt text](<model_params.PNG>)\n",
    "**Fig.2** Geometric parameterisation of a lattice with 4 divisions."
   ]
  },
  {
   "cell_type": "code",
   "execution_count": 6,
   "metadata": {},
   "outputs": [],
   "source": [
    "D = UN(name='divisions', symbol='D', essence='interval', bounds=[4, 24]) \n",
    "R_out = UN(name='outer_length_ratio', symbol='R_out', essence='interval', bounds= [0.002, 0.008])\n",
    "R_in = UN(name='inner_outer_ratio', symbol='R_in', essence='interval', bounds= [0.25, 1.00])\n",
    "R_in2 = UN(name='inner2_outer_ratio', symbol='R_in2', essence='interval', bounds=[0.25, 1.00])\n",
    "F = UN(name='vertical force', symbol='F', units='kN', essence='interval', bounds= [15, 25])\n"
   ]
  },
  {
   "cell_type": "code",
   "execution_count": null,
   "metadata": {},
   "outputs": [],
   "source": [
    "print(D)"
   ]
  },
  {
   "cell_type": "markdown",
   "metadata": {},
   "source": [
    "<a id=\"3.2-uncertainty-propatation-methods\"></a>\n",
    "\n",
    "## 3.2 Ucertainty propagation methods \n",
    "\n",
    "Choose from a suite of black box propagating techniques to propagate the intervals through the model. "
   ]
  },
  {
   "cell_type": "markdown",
   "metadata": {},
   "source": [
    "<a id=\"3.2.1.-Endpoints-propatation\"></a>\n",
    "\n",
    "### 3.2.1. Endpoint propagation\n",
    "\n",
    "The endpoint propagation method (Dong and Shah, 1987) is a straightforward way to project intervals through the code, by projecting all input combinations produced by the Cartesian product of the interval bounds. This results in a total of $n = 2^{d}$. "
   ]
  },
  {
   "cell_type": "code",
   "execution_count": null,
   "metadata": {},
   "outputs": [],
   "source": [
    "2**5"
   ]
  },
  {
   "cell_type": "code",
   "execution_count": null,
   "metadata": {},
   "outputs": [],
   "source": [
    "METHOD = \"endpoints\"\n",
    "\n",
    "a = Propagation(vars=[D, R_out, R_in, R_in2, F], \n",
    "          fun=None, \n",
    "          method = METHOD, \n",
    "          save_raw_data = \"yes\", \n",
    "          base_path = USER_dir\n",
    "         )"
   ]
  },
  {
   "cell_type": "code",
   "execution_count": null,
   "metadata": {},
   "outputs": [],
   "source": [
    "a.raw_data['x'] # the input combinations."
   ]
  },
  {
   "cell_type": "code",
   "execution_count": null,
   "metadata": {},
   "outputs": [],
   "source": [
    "a.print() # display of results\n",
    "#TODO perhaps change the display of hte results only the input and output to appear. "
   ]
  },
  {
   "cell_type": "markdown",
   "metadata": {},
   "source": [
    "<a id=\"3.2.2.-Subinterval-reconstitution\"></a>\n",
    "\n",
    "### 3.2.2. Subinterval reconstitution"
   ]
  },
  {
   "cell_type": "code",
   "execution_count": null,
   "metadata": {},
   "outputs": [],
   "source": [
    "METHOD = \"subinterval\"\n",
    "\n",
    "a = Propagation(vars=[D, R_out, R_in, R_in2, F], \n",
    "          fun=None,\n",
    "          n_sub = 3, \n",
    "          method = METHOD, \n",
    "          save_raw_data = \"yes\", \n",
    "          base_path = USER_dir\n",
    "         )"
   ]
  },
  {
   "cell_type": "code",
   "execution_count": null,
   "metadata": {},
   "outputs": [],
   "source": [
    "a.raw_data['x'] # the input combinations."
   ]
  },
  {
   "cell_type": "code",
   "execution_count": null,
   "metadata": {},
   "outputs": [],
   "source": [
    "a.print()"
   ]
  },
  {
   "cell_type": "markdown",
   "metadata": {},
   "source": [
    "<a id=\"3.2.3.-Sampling-propatation\"></a>\n",
    "\n",
    "### 3.2.3. Sampling propagation"
   ]
  },
  {
   "cell_type": "code",
   "execution_count": null,
   "metadata": {},
   "outputs": [],
   "source": [
    "METHOD = \"monte_carlo\"\n",
    "\n",
    "a = Propagation(vars=[D, R_out, R_in, R_in2, F], \n",
    "          fun=None,\n",
    "          n_sam = 300, \n",
    "          method = METHOD, \n",
    "          save_raw_data = \"yes\", \n",
    "          base_path = USER_dir\n",
    "         )"
   ]
  },
  {
   "cell_type": "code",
   "execution_count": null,
   "metadata": {},
   "outputs": [],
   "source": [
    "METHOD = \"monte_carlo_endpoints\"\n",
    "\n",
    "b = Propagation(vars=[D, R_out, R_in, R_in2, F], \n",
    "          fun=None,\n",
    "          n_sam = 300, \n",
    "          method = METHOD, \n",
    "          save_raw_data = \"yes\", \n",
    "          base_path = USER_dir\n",
    "         )"
   ]
  },
  {
   "cell_type": "code",
   "execution_count": null,
   "metadata": {},
   "outputs": [],
   "source": [
    "#a.print()\n",
    "len(a.raw_data['x'])"
   ]
  },
  {
   "cell_type": "code",
   "execution_count": null,
   "metadata": {},
   "outputs": [],
   "source": [
    "len(b.raw_data['x'])"
   ]
  },
  {
   "cell_type": "code",
   "execution_count": null,
   "metadata": {},
   "outputs": [],
   "source": [
    "METHOD = \"endpoints_cauchy\"\n",
    "\n",
    "c = Propagation(vars=[D, R_out, R_in, R_in2, F], \n",
    "          fun=None,\n",
    "          n_sam = 300, \n",
    "          method = METHOD, \n",
    "          save_raw_data = \"yes\", \n",
    "          base_path = USER_dir\n",
    "         )"
   ]
  },
  {
   "cell_type": "code",
   "execution_count": null,
   "metadata": {},
   "outputs": [],
   "source": [
    "c.raw_data['x']"
   ]
  },
  {
   "cell_type": "code",
   "execution_count": null,
   "metadata": {},
   "outputs": [],
   "source": [
    "print(len(c.raw_data['K']))\n",
    "c.raw_data['K']"
   ]
  },
  {
   "cell_type": "markdown",
   "metadata": {},
   "source": [
    "<a id=\"3.2.5.-Optimisation_methods\"></a>\n",
    "\n",
    "### 3.2.5. Optimisation propagation"
   ]
  },
  {
   "cell_type": "code",
   "execution_count": null,
   "metadata": {},
   "outputs": [],
   "source": [
    "METHOD = \"local_optimisation\"\n",
    "\n",
    "a = Propagation(vars=[D, R_out, R_in, R_in2, F], \n",
    "          fun=None, \n",
    "          method = METHOD, \n",
    "          save_raw_data = \"yes\", \n",
    "          base_path = USER_dir\n",
    "         )"
   ]
  },
  {
   "cell_type": "code",
   "execution_count": null,
   "metadata": {},
   "outputs": [],
   "source": [
    "METHOD = \"genetic_optimisation\"\n",
    "\n",
    "a = Propagation(vars=[D, R_out, R_in, R_in2, F], \n",
    "          fun=None, \n",
    "          method = METHOD, \n",
    "          save_raw_data = \"yes\", \n",
    "          base_path = USER_dir\n",
    "         )"
   ]
  },
  {
   "cell_type": "markdown",
   "metadata": {},
   "source": []
  },
  {
   "cell_type": "code",
   "execution_count": null,
   "metadata": {},
   "outputs": [],
   "source": []
  }
 ],
 "metadata": {
  "kernelspec": {
   "display_name": "Python 3",
   "language": "python",
   "name": "python3"
  },
  "language_info": {
   "codemirror_mode": {
    "name": "ipython",
    "version": 3
   },
   "file_extension": ".py",
   "mimetype": "text/x-python",
   "name": "python",
   "nbconvert_exporter": "python",
   "pygments_lexer": "ipython3",
   "version": "3.12.4"
  }
 },
 "nbformat": 4,
 "nbformat_minor": 2
}
