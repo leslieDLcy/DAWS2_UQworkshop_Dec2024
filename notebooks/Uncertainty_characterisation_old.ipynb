{
 "cells": [
  {
   "cell_type": "markdown",
   "id": "d69d4d56-a843-487b-8621-7f9e1db49392",
   "metadata": {},
   "source": [
    "This notebook is written by the DAWS2 UQ team based in Univ. of Liverpool for the workshop of UQ & M of the DAWS2 project.\n",
    "\n",
    "Uncertainty Quantification & Management\n",
    "--\n",
    "*placeholder texts*\n",
    "\n",
    "{\n",
    "\n",
    "Personal website: https://yuchenakaleslie.github.io/<br>\n",
    "ResearchGate: https://www.researchgate.net/profile/Yu-Chen-402<br>\n",
    "Contact: yu.chen2@liverpool.ac.uk\n",
    "\n",
    "}\n",
    "\n",
    "DAWS2 UQ team: {Scott Ferson, Ioanna,  [(Leslie) Yu Chen](https://yuchenakaleslie.github.io/)}\n",
    "\n",
    "\n",
    "All rights reserved.\n",
    "\n",
    "==================="
   ]
  },
  {
   "cell_type": "markdown",
   "id": "906a955c-a0a6-466d-8b7f-e2a1a37e0ed6",
   "metadata": {},
   "source": [
    "## Uncertainty Characterisation\n",
    "\n",
    "### Table of Contents\n",
    "#### [1. Setup](#Setup)\n",
    "#### [2. Instantiation of `UncertainNumber` objects](#instantiation_UN_objects)\n",
    "#### [3. Hedged language](#hedled_language)\n",
    "#### [4. Imprecise measurements](#imprecise_measurements)\n",
    "<!-- #### [5. Mixed types of uncertainty](#mixed_uncertainty_propagation) -->\n",
    "<!-- #### [6. Final thoughts and discussion](#final_throughts) -->"
   ]
  },
  {
   "cell_type": "markdown",
   "id": "45a5cbe9-019c-461e-9072-fa6d0eeb0a21",
   "metadata": {},
   "source": [
    "***\n",
    "<a id=\"setup\"></a>\n",
    "# 1. Setup\n",
    "\n",
    "Import the libraries"
   ]
  },
  {
   "cell_type": "code",
   "execution_count": null,
   "id": "a8076bfa-bf9f-4136-906a-0e7eb6eccc0e",
   "metadata": {},
   "outputs": [],
   "source": []
  },
  {
   "cell_type": "code",
   "execution_count": null,
   "id": "67bd385f-e4da-44f5-8888-4952d4ff7fab",
   "metadata": {},
   "outputs": [],
   "source": []
  },
  {
   "cell_type": "markdown",
   "id": "c940e3d3-14bb-4ece-a186-508cdf232d89",
   "metadata": {},
   "source": [
    "\n",
    "***\n",
    "<a id=\"instantiation_UN_objects\"></a>\n",
    "# 2. Instantiation of `UncertainNumber` objects"
   ]
  },
  {
   "cell_type": "markdown",
   "id": "f9efb00f-b189-44cb-b53a-989b520ea940",
   "metadata": {},
   "source": [
    "## Construction of pboxes"
   ]
  },
  {
   "cell_type": "code",
   "execution_count": null,
   "id": "b20c9719-0396-48bb-8a7a-96a0bbf9a05f",
   "metadata": {},
   "outputs": [],
   "source": []
  },
  {
   "cell_type": "code",
   "execution_count": null,
   "id": "c217936f-89b4-4f2d-9817-01469a588fe9",
   "metadata": {},
   "outputs": [],
   "source": []
  },
  {
   "cell_type": "markdown",
   "id": "6d71cda5-6b24-4ee5-a8d6-ee1b2874d26c",
   "metadata": {},
   "source": [
    "\n",
    "***\n",
    "<a id=\"hedled_language\"></a>\n",
    "# 3. Hedged language"
   ]
  },
  {
   "cell_type": "markdown",
   "id": "5dda2470-5ce8-4782-ab05-c5de35490c07",
   "metadata": {},
   "source": [
    "Experts often describe the inaccuracy of their estimates in terms of imprecise words from natural language, such as “approximately 0.1”, etc. We have it covered!"
   ]
  },
  {
   "cell_type": "code",
   "execution_count": null,
   "id": "16584271-34b6-4b5c-ae8b-c5faa7f2a8f2",
   "metadata": {},
   "outputs": [],
   "source": []
  },
  {
   "cell_type": "code",
   "execution_count": null,
   "id": "a9ce0564-29e0-4f07-a525-b35fa65fb3dc",
   "metadata": {},
   "outputs": [],
   "source": []
  },
  {
   "cell_type": "markdown",
   "id": "90d4f0ba-c03b-4886-a9ea-91649bb0add9",
   "metadata": {},
   "source": [
    "\n",
    "***\n",
    "<a id=\"imprecise_measurements\"></a>\n",
    "# 4. Imprecise measurements"
   ]
  },
  {
   "cell_type": "code",
   "execution_count": null,
   "id": "2e6fd640-ab7c-41c1-91c3-7ed3b7b0333d",
   "metadata": {},
   "outputs": [],
   "source": []
  },
  {
   "cell_type": "code",
   "execution_count": null,
   "id": "0b837f97-9a47-40bd-b62c-b6793eebc82a",
   "metadata": {},
   "outputs": [],
   "source": []
  }
 ],
 "metadata": {
  "kernelspec": {
   "display_name": "pyun",
   "language": "python",
   "name": "pyun"
  },
  "language_info": {
   "codemirror_mode": {
    "name": "ipython",
    "version": 3
   },
   "file_extension": ".py",
   "mimetype": "text/x-python",
   "name": "python",
   "nbconvert_exporter": "python",
   "pygments_lexer": "ipython3",
   "version": "3.10.14"
  }
 },
 "nbformat": 4,
 "nbformat_minor": 5
}
