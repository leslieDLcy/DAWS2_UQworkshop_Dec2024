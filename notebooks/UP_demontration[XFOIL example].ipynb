{
 "cells": [
  {
   "cell_type": "markdown",
   "metadata": {},
   "source": [
    "EpistemicPropagationBlackBboxWorkshop"
   ]
  },
  {
   "cell_type": "markdown",
   "metadata": {},
   "source": [
    "# Import the needed libraries"
   ]
  },
  {
   "cell_type": "code",
   "execution_count": 2,
   "metadata": {},
   "outputs": [],
   "source": [
    "import subprocess  # needed for running the function\n",
    "import os  # needed for running the function\n",
    "#from PyUncertainNumber.UC.uncertainNumber import UncertainNumber\n",
    "#from PyUncertainNumber.UC.utils import UNEncoder, cd_root_dir\n",
    "import numpy as np"
   ]
  },
  {
   "cell_type": "markdown",
   "metadata": {},
   "source": [
    "# XFOIL\n",
    "\n",
    "XFOIL is an interactive program for analyzing isolated subsonic airfoils, available under the GNU General Purpose License. For more details, see https://web.mit.edu/drela/Public/web/xfoil .\n",
    "\n",
    "A special version, v6.99uq, has been compiled with enhanced features like increased output precision, a higher maximum panel count (2048), and adjustable boundary layer convergence criteria. Executables for Windows, MacOS, and Linux, provided by Marshall Galbraith of MIT, are available in a compressed tar file found in the link below\n",
    "\n",
    "https://acdl.mit.edu/galbramc/UQ_Challenge/xfoil_execs.tgz\n"
   ]
  },
  {
   "cell_type": "markdown",
   "metadata": {},
   "source": [
    "# Problem setup\n",
    "\n",
    "Use XFOIL to compute the **lift**, c_l, and **moment** c_m, **coefficients** for:\n",
    "\n",
    "- NACA 2412 airfoil\n",
    "- simple flap starting at 70% chord and hinged at the midpoint\n",
    "- incompressible, viscous flow\n",
    "- 100 panels are to be used in all analyses except in estimating the discretisation error\n",
    "\n",
    "Assess whether, at nominally zero degree angle of attack and flap deflection:\n",
    "-  0.155 ≤ c_l ≤  0.265 \n",
    "- -0.050 ≤ c_m ≤ -0.044\n",
    "\n",
    "##TODO what can we say about their dependence/correlation? \n",
    "##TODO the software shoudl give you the input combinations, without a function.\n",
    "##TODO endpoint cauchy, bernstein ??\n",
    "##TODO only with aleatory , just monte carlo, what about dependence/correlation? \n",
    "##TODO Mitcell truss, how it would work given there is not intrusive access to the code or possibility to run it through python. "
   ]
  },
  {
   "cell_type": "markdown",
   "metadata": {},
   "source": [
    "# Problem parameterisation\n",
    "Table 1. Summary of uncertain parameters \n",
    "![alt text](<Screenshot 2024-11-05 155042.png>)"
   ]
  },
  {
   "cell_type": "markdown",
   "metadata": {},
   "source": [
    "# Create the function\n",
    "\n",
    "A function is created which calculates the lift coefficient (c_l) and moment coefficient (c_m) for a given set of input parameters using XFOIL\n",
    "- The function's input is only the uncertain numbers.\n",
    "- The deterministic inpyt are defined within the function. \n",
    "- As sampling techniques are used it is likley that for a certain input combination the airfoil will fail to reach a solution. we use the try function to accomodate for this. "
   ]
  },
  {
   "cell_type": "code",
   "execution_count": 52,
   "metadata": {},
   "outputs": [],
   "source": [
    "def coef_xfoil(x):\n",
    "    \"\"\"\n",
    "    Calculates the lift coefficient (c_l) and moment coefficient (c_m) for a given \n",
    "    set of input parameters using XFOIL.\n",
    "\n",
    "    Args:\n",
    "        x np.array: An np.array of input parameters containing:\n",
    "            x[0]: Flap deflection angle (float)\n",
    "            x[1]: Reynolds number (float)\n",
    "            x[2]: Upper surface trip location (float)\n",
    "            x[3]: Lower surface trip location (float)\n",
    "            x[4]: Angle of attack (alpha) (float)\n",
    "\n",
    "    Returns:\n",
    "        np.array: A numpy array containing the lift coefficient (c_l) and moment coefficient (c_m).\n",
    "    \"\"\"\n",
    "    try:\n",
    "        # Certain Input parameters\n",
    "        airfoil_name = 2412\n",
    "        pacc = 1\n",
    "        flap_hinge_x = 0.70  \n",
    "        flap_hinge_y = 999\n",
    "        flap_hinge_r = 0.50\n",
    "        no_panel_nodes = 256\n",
    "        Mach = 0.00 \n",
    "       \n",
    "        # Create the XFOIL input file\n",
    "        input_file = open(\"C:\\\\Users\\\\Ioanna\\\\Documents\\\\GitHub\\\\daws2\\\\xfoil_workshop\\\\input_file_cha.in\", 'w')\n",
    "        input_file.write(\"NACA {0}\\n\".format(airfoil_name))\n",
    "        input_file.write(\"gdes\\n\")\n",
    "        input_file.write(\"flap\\n\")\n",
    "        input_file.write(str(flap_hinge_x))\n",
    "        input_file.write(\"\\n\")\n",
    "        input_file.write(str(flap_hinge_y))\n",
    "        input_file.write(\"\\n\")\n",
    "        input_file.write(str(flap_hinge_r))\n",
    "        input_file.write(\"\\n\")\n",
    "        input_file.write(str(format(x[0], '.4f')))  # flap deflection\n",
    "        input_file.write(\"\\n\")\n",
    "        input_file.write(\"exec\\n\\n\")\n",
    "        input_file.write(\"ppar\\n\")\n",
    "        input_file.write(\"n {0}\\n\".format(no_panel_nodes))\n",
    "        input_file.write(\"p {0}\\n\".format(1.0))\n",
    "        input_file.write(\"\\n\\n\")\n",
    "        input_file.write(\"oper\\n\")\n",
    "        input_file.write(\"mach {0}\\n\".format(Mach))\n",
    "        #input_file.write(\"iter {0}\\n\".format(100))\n",
    "        input_file.write(\"visc\\n\")\n",
    "        input_file.write(str(format(x[1], '.0f')))  # Reynolds number\n",
    "        input_file.write(\"\\n\")\n",
    "        input_file.write(\"vpar\\n\")\n",
    "        input_file.write(\"xtr\\n\")\n",
    "        input_file.write(str(format(x[2], '.4f')) ) # Upper Surface Trip Location\n",
    "        input_file.write(\"\\n\")\n",
    "        input_file.write(str(format(x[3], '.4f'))) # Lower Surface Trip Location\n",
    "        input_file.write(\"\\n\\n\")\n",
    "        input_file.write(\"pacc {0}\\n\".format(pacc))\n",
    "        input_file.write(\"C:\\\\Users\\\\Ioanna\\\\Documents\\\\GitHub\\\\daws2\\\\xfoil_workshop\\\\output_up.txt\\n\\n\")\n",
    "        input_file.write(\"alfa\\n\")\n",
    "        input_file.write(str(format(x[4], '.4f')))  # alpha\n",
    "        input_file.write(\"\\n\\n\")\n",
    "        input_file.write(\"quit\\n\")\n",
    "        input_file.close()\n",
    "        \n",
    "        # Run XFOIL\n",
    "        subprocess.call(\"C:\\\\Users\\\\Ioanna\\\\Documents\\\\GitHub\\\\daws2\\\\xfoil_workshop\\\\xfoil.exe < C:\\\\Users\\\\Ioanna\\\\Documents\\\\GitHub\\\\daws2\\\\xfoil_workshop\\\\input_file_cha.in\", shell=True)\n",
    "        \n",
    "        # Extract results from the output file\n",
    "        old_file_name = \"C:\\\\Users\\\\Ioanna\\\\Documents\\\\GitHub\\\\daws2\\\\xfoil_workshop\\\\output_up\"  # Or the current file name with any extension\n",
    "        new_file_name = \"C:\\\\Users\\\\Ioanna\\\\Documents\\\\GitHub\\\\daws2\\\\xfoil_workshop\\\\output_up.txt\"\n",
    "        os.rename(old_file_name, new_file_name)\n",
    "\n",
    "        results = np.loadtxt((\"C:\\\\Users\\\\Ioanna\\\\Documents\\\\GitHub\\\\daws2\\\\xfoil_workshop\\\\output_up.txt\"), \n",
    "                     skiprows=12, encoding='latin1')\n",
    "        \n",
    "        c_l = results[1]  # Extract lift coefficient\n",
    "        c_m = results[4]  # Extract moment coefficient\n",
    "\n",
    "    except FileNotFoundError:\n",
    "        print(\"Error: XFOIL executable not found. Please check the path.\")\n",
    "        return np.array([0.0, 0.0])\n",
    "    except IndexError:\n",
    "        print(\"Error: XFOIL output file is empty or has unexpected format.\")\n",
    "        return np.array([0.0, 0.0])\n",
    "    except Exception as e:\n",
    "        print(f\"An unexpected error occurred: {e}\")\n",
    "        return np.array([0.0, 0.0])\n",
    "    finally:        \n",
    "        # Remove the output file (if it exists)\n",
    "        try:\n",
    "            os.unlink(\"C:\\\\Users\\\\Ioanna\\\\Documents\\\\GitHub\\\\daws2\\\\xfoil_workshop\\\\output_up.txt\")\n",
    "        except FileNotFoundError:\n",
    "            pass\n",
    "\n",
    "    # Return the results as a numpy array\n",
    "    return np.array([c_l, c_m]) \n"
   ]
  },
  {
   "cell_type": "markdown",
   "metadata": {},
   "source": [
    "#### Test the installation\n",
    "\n",
    "To ensure that the installation is correct, try to match the results with the following expected output values. Variations in the final 3-4 significant figures are expected. "
   ]
  },
  {
   "cell_type": "code",
   "execution_count": 37,
   "metadata": {},
   "outputs": [],
   "source": [
    "# test the function\n",
    "\n",
    "x = np.array([0.5, 500000, 0.3, 0.7, 0])\n",
    "\n",
    "y = coef_xfoil(x)\n",
    "\n",
    "# Comment out the following lines from the coef_xfoil function so the output file is not deleted after each run.\n",
    "#finally:\n",
    "        # Remove the output file (if it exists)\n",
    "      #  try:\n",
    "           # os.unlink(\"C:\\\\Users\\\\Ioanna\\\\Documents\\\\GitHub\\\\daws2\\\\xfoil_workshop\\\\output_up.txt\")\n",
    "     #   except FileNotFoundError:\n",
    "      #      pass\n",
    "\n",
    "# Open the output.txt file and check that the following coeffcients \n",
    "\n",
    "#CL      = 0.245832312525558E+00\n",
    "#CD      = 0.897255056288259E-02\n",
    "#CDp     = 0.639220543894256E-03    \n",
    "#CM      =-0.525018720205690E-01\n",
    "#Top_Xtr = 0.300000000000043E+00 \n",
    "#Bot_Xtr = 0.700000000000001E+00 \n",
    "#Top_Itr = 0.286192798167708E+02 \n",
    "#Bot_Itr = 0.881204554341905E+02\n",
    "\n",
    "## TODO DO not forget to uncomment the lines when propagating the uncertainty in the input parameters. "
   ]
  },
  {
   "cell_type": "markdown",
   "metadata": {},
   "source": [
    "# Propagate aleatory uncertainty \n",
    "\n",
    "Step 2. Create 5 uncertain numbers assuming they follow a normal distribution with the parameters provided in Table 1."
   ]
  },
  {
   "cell_type": "code",
   "execution_count": 45,
   "metadata": {},
   "outputs": [
    {
     "data": {
      "text/plain": [
       "<module 'PyUncertainNumber.UP.endpoint' from 'C:\\\\Users\\\\Ioanna\\\\Documents\\\\GitHub\\\\daws2\\\\src\\\\PyUncertainNumber\\\\UP\\\\endpoint.py'>"
      ]
     },
     "execution_count": 45,
     "metadata": {},
     "output_type": "execute_result"
    }
   ],
   "source": [
    "#from PyUncertainNumber.UC.uncertainNumber import \n",
    "import importlib\n",
    "import PyUncertainNumber.UP.endpoint as up\n",
    "\n",
    "\n",
    "importlib.reload(up)"
   ]
  },
  {
   "cell_type": "markdown",
   "metadata": {},
   "source": [
    "# Propagate epistemic uncertainty \n",
    "\n",
    "Create 5 uncertain numbers assuming htey are intervals with the lower and upper values provided in Table 1. "
   ]
  },
  {
   "cell_type": "code",
   "execution_count": 46,
   "metadata": {},
   "outputs": [
    {
     "name": "stdout",
     "output_type": "stream",
     "text": [
      "[[-2.400e-01  2.400e-01]\n",
      " [ 4.925e+05  5.075e+05]\n",
      " [ 2.550e-01  3.450e-01]\n",
      " [ 6.370e-01  7.630e-01]\n",
      " [-3.000e-01  3.000e-01]]\n"
     ]
    }
   ],
   "source": [
    "# %% Inputs\n",
    "#Define input intervals\n",
    "flap_deflection = np.array([-0.24,0.24]) \n",
    "Re = np.array([492500, 507500])\n",
    "xtr_top = np.array([0.255, 0.345])\n",
    "xtr_bottom = np.array([0.637, 0.763])\n",
    "alpha = np.array([-0.3, 0.3])\n",
    "\n",
    "# Create a 2D np.array with all uncertain input parameters in the **correct** order.\n",
    "xInt = np.array([flap_deflection, Re,  xtr_top, xtr_bottom, alpha])\n",
    "print(xInt)"
   ]
  },
  {
   "cell_type": "markdown",
   "metadata": {},
   "source": [
    "- Step 3. Choose multiple black box techniques to propagate the intervals through the model. \n",
    "\n",
    "It should be noted that for this example it makes sense to use..."
   ]
  },
  {
   "cell_type": "markdown",
   "metadata": {},
   "source": [
    "### Endpoint propagation\n",
    "\n",
    "The endpoint propagation method (Dong and Shah, 1987) is a straightforward way to project intervals through the code, by projecting all input combinations produced by the Cartesian product of the interval bounds. This results in a total of n = 2**d. \n",
    "\n",
    "For the working example, there are d = 5 intervals which results in n = 2**5 = 32 input combinations.\n",
    "\n",
    "#### Assumptions\n",
    "\n",
    "\n"
   ]
  },
  {
   "cell_type": "code",
   "execution_count": 42,
   "metadata": {},
   "outputs": [
    {
     "name": "stdout",
     "output_type": "stream",
     "text": [
      "Total number of input combinations for the endpoint method: 32\n"
     ]
    }
   ],
   "source": [
    "# How many input combinations are expected from the endpoint propagation?\n",
    "d = 5 # is the number of uncertain input expressed as intervals.\n",
    "n = 2**d # The total number of combinations \n",
    "print(\"Total number of input combinations for the endpoint method:\", n) "
   ]
  },
  {
   "cell_type": "markdown",
   "metadata": {},
   "source": [
    "The user has "
   ]
  },
  {
   "cell_type": "code",
   "execution_count": 53,
   "metadata": {},
   "outputs": [
    {
     "name": "stdout",
     "output_type": "stream",
     "text": [
      "<class 'numpy.ndarray'>\n"
     ]
    },
    {
     "name": "stderr",
     "output_type": "stream",
     "text": [
      "100%|██████████| 31/31 [00:06<00:00,  4.95it/s]\n"
     ]
    }
   ],
   "source": [
    "min_y, max_y, x_miny, x_maxy = up.endpoints_method(xInt, coef_xfoil, save_raw_data = 'no')\n",
    "\n"
   ]
  },
  {
   "cell_type": "code",
   "execution_count": null,
   "metadata": {},
   "outputs": [
    {
     "name": "stdout",
     "output_type": "stream",
     "text": [
      "[ 0.1523357  -0.05083742]\n",
      "[ 0.26711539 -0.0434172 ]\n",
      "[[-2.400e-01  4.925e+05  2.550e-01  7.630e-01 -3.000e-01]\n",
      " [ 2.400e-01  5.075e+05  3.450e-01  6.370e-01  3.000e-01]]\n",
      "[[ 2.400e-01  5.075e+05  3.450e-01  6.370e-01  3.000e-01]\n",
      " [-2.400e-01  4.925e+05  2.550e-01  7.630e-01 -3.000e-01]]\n"
     ]
    }
   ],
   "source": [
    "# check the results.\n",
    "print(min_y)\n",
    "print(max_y)\n",
    "print(x_miny)\n",
    "print(x_maxy)"
   ]
  },
  {
   "cell_type": "markdown",
   "metadata": {},
   "source": [
    "### Subinterval reconstitution propagation\n",
    "\n",
    "The input intervals are partitioned into smaller intervals, which are then propagated through the model using endpoint propagation and the output interval can be reassembled (Ferson and Hajagos, 2004)."
   ]
  },
  {
   "cell_type": "code",
   "execution_count": 27,
   "metadata": {},
   "outputs": [
    {
     "name": "stdout",
     "output_type": "stream",
     "text": [
      "Total number of input combinations for the subinterval reconstitution method: 3125\n"
     ]
    }
   ],
   "source": [
    "# How many input combinations are expected from the subinterval reconstitution propagation?\n",
    "d = 5 # is the number of uncertain input expressed as intervals.\n",
    "m = 4 # is the number of partitions. \n",
    "n = (m+1)**d # The total number of combinations \n",
    "print(\"Total number of input combinations for the subinterval reconstitution method:\", n) "
   ]
  },
  {
   "cell_type": "code",
   "execution_count": null,
   "metadata": {},
   "outputs": [],
   "source": []
  },
  {
   "cell_type": "markdown",
   "metadata": {},
   "source": [
    "### Sampling propagation"
   ]
  }
 ],
 "metadata": {
  "kernelspec": {
   "display_name": "Python 3 (ipykernel)",
   "language": "python",
   "name": "python3"
  },
  "language_info": {
   "codemirror_mode": {
    "name": "ipython",
    "version": 3
   },
   "file_extension": ".py",
   "mimetype": "text/x-python",
   "name": "python",
   "nbconvert_exporter": "python",
   "pygments_lexer": "ipython3",
   "version": "3.10.14"
  }
 },
 "nbformat": 4,
 "nbformat_minor": 4
}
