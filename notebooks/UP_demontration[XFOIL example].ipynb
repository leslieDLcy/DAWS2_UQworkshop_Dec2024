{
 "cells": [
  {
   "cell_type": "markdown",
   "metadata": {},
   "source": [
    "EpistemicPropagationBlackBboxWorkshop"
   ]
  },
  {
   "cell_type": "markdown",
   "metadata": {},
   "source": [
    "# Import the needed libraries"
   ]
  },
  {
   "cell_type": "code",
   "execution_count": 1,
   "metadata": {},
   "outputs": [],
   "source": [
    "import subprocess  # needed for running the function\n",
    "import os  # needed for running the function\n",
    "from PyUncertainNumber.characterisation.uncertainNumber import UncertainNumber as UN\n",
    "from PyUncertainNumber.characterisation.utils import UNEncoder, cd_root_dir\n",
    "from PyUncertainNumber import UncertainNumber as UN\n",
    "import numpy as np\n",
    "\n",
    "from PyUncertainNumber.propagation.uncertaintyPropagation import Propagation"
   ]
  },
  {
   "cell_type": "markdown",
   "metadata": {},
   "source": [
    "# XFOIL\n",
    "\n",
    "XFOIL is an interactive program for analyzing isolated subsonic airfoils, available under the GNU General Purpose License. For more details, see https://web.mit.edu/drela/Public/web/xfoil .\n",
    "\n",
    "A special version, v6.99uq, has been compiled with enhanced features like increased output precision, a higher maximum panel count (2048), and adjustable boundary layer convergence criteria. Executables for Windows, MacOS, and Linux, provided by Marshall Galbraith of MIT, are available in a compressed tar file found in the link below\n",
    "\n",
    "https://acdl.mit.edu/galbramc/UQ_Challenge/xfoil_execs.tgz\n"
   ]
  },
  {
   "cell_type": "markdown",
   "metadata": {},
   "source": [
    "\n",
    "\n",
    "# Problem setup\n",
    "\n",
    "Use XFOIL to compute the **lift**, c_l, and **moment** c_m, **coefficients** for:\n",
    "\n",
    "- NACA 2412 airfoil\n",
    "- simple flap starting at 70% chord and hinged at the midpoint\n",
    "- incompressible, viscous flow\n",
    "- 100 panels are to be used in all analyses except in estimating the discretisation error\n",
    "\n",
    "Assess whether, at nominally zero degree angle of attack and flap deflection:\n",
    "-  0.155 ≤ c_l ≤  0.265 \n",
    "- -0.050 ≤ c_m ≤ -0.044\n",
    "\n",
    "##TODO what can we say about their dependence/correlation? \n",
    "##TODO the software shoudl give you the input combinations, without a function.\n",
    "##TODO endpoint cauchy, bernstein ??\n",
    "##TODO only with aleatory , just monte carlo, what about dependence/correlation? \n",
    "##TODO Mitcell truss, how it would work given there is not intrusive access to the code or possibility to run it through python. "
   ]
  },
  {
   "cell_type": "markdown",
   "metadata": {},
   "source": [
    "# Problem parameterisation\n",
    "Table 1. Summary of uncertain parameters \n",
    "![alt text](<Screenshot 2024-11-05 155042.png>)"
   ]
  },
  {
   "cell_type": "markdown",
   "metadata": {},
   "source": [
    "# Create the function\n",
    "\n",
    "A function is created which calculates the lift coefficient (c_l) and moment coefficient (c_m) for a given set of input parameters using XFOIL\n",
    "- The function's input is only the uncertain numbers.\n",
    "- The deterministic inpyt are defined within the function. \n",
    "- As sampling techniques are used it is likley that for a certain input combination the airfoil will fail to reach a solution. we use the try function to accomodate for this. "
   ]
  },
  {
   "cell_type": "code",
   "execution_count": 2,
   "metadata": {},
   "outputs": [],
   "source": [
    "def coef_xfoil(x):\n",
    "    \"\"\"\n",
    "    Calculates the lift coefficient (c_l) and moment coefficient (c_m) for a given \n",
    "    set of input parameters using XFOIL.\n",
    "\n",
    "    Args:\n",
    "        x np.array: An np.array of input parameters containing:\n",
    "            x[0]: Flap deflection angle (float)\n",
    "            x[1]: Reynolds number (float)\n",
    "            x[2]: Upper surface trip location (float)\n",
    "            x[3]: Lower surface trip location (float)\n",
    "            x[4]: Angle of attack (alpha) (float)\n",
    "\n",
    "    Returns:\n",
    "        np.array: A numpy array containing the lift coefficient (c_l) and moment coefficient (c_m).\n",
    "    \"\"\"\n",
    "    try:\n",
    "        # Certain Input parameters\n",
    "        airfoil_name = 2412\n",
    "        pacc = 1\n",
    "        flap_hinge_x = 0.70  \n",
    "        flap_hinge_y = 999\n",
    "        flap_hinge_r = 0.50\n",
    "        no_panel_nodes = 256\n",
    "        Mach = 0.00 \n",
    "       \n",
    "        # Create the XFOIL input file\n",
    "        input_file = open(\"C:\\\\Users\\\\Ioanna\\\\Documents\\\\GitHub\\\\daws2\\\\xfoil_workshop\\\\input_file_cha.in\", 'w')\n",
    "        input_file.write(\"NACA {0}\\n\".format(airfoil_name))\n",
    "        input_file.write(\"gdes\\n\")\n",
    "        input_file.write(\"flap\\n\")\n",
    "        input_file.write(str(flap_hinge_x))\n",
    "        input_file.write(\"\\n\")\n",
    "        input_file.write(str(flap_hinge_y))\n",
    "        input_file.write(\"\\n\")\n",
    "        input_file.write(str(flap_hinge_r))\n",
    "        input_file.write(\"\\n\")\n",
    "        input_file.write(str(format(x[0], '.4f')))  # flap deflection\n",
    "        input_file.write(\"\\n\")\n",
    "        input_file.write(\"exec\\n\\n\")\n",
    "        input_file.write(\"ppar\\n\")\n",
    "        input_file.write(\"n {0}\\n\".format(no_panel_nodes))\n",
    "        input_file.write(\"p {0}\\n\".format(1.0))\n",
    "        input_file.write(\"\\n\\n\")\n",
    "        input_file.write(\"oper\\n\")\n",
    "        input_file.write(\"mach {0}\\n\".format(Mach))\n",
    "        #input_file.write(\"iter {0}\\n\".format(100))\n",
    "        input_file.write(\"visc\\n\")\n",
    "        input_file.write(str(format(x[1], '.0f')))  # Reynolds number\n",
    "        input_file.write(\"\\n\")\n",
    "        input_file.write(\"vpar\\n\")\n",
    "        input_file.write(\"xtr\\n\")\n",
    "        input_file.write(str(format(x[2], '.4f')) ) # Upper Surface Trip Location\n",
    "        input_file.write(\"\\n\")\n",
    "        input_file.write(str(format(x[3], '.4f'))) # Lower Surface Trip Location\n",
    "        input_file.write(\"\\n\\n\")\n",
    "        input_file.write(\"pacc {0}\\n\".format(pacc))\n",
    "        input_file.write(\"C:\\\\Users\\\\Ioanna\\\\Documents\\\\GitHub\\\\daws2\\\\xfoil_workshop\\\\output_up.txt\\n\\n\")\n",
    "        input_file.write(\"alfa\\n\")\n",
    "        input_file.write(str(format(x[4], '.4f')))  # alpha\n",
    "        input_file.write(\"\\n\\n\")\n",
    "        input_file.write(\"quit\\n\")\n",
    "        input_file.close()\n",
    "        \n",
    "        # Run XFOIL\n",
    "        subprocess.call(\"C:\\\\Users\\\\Ioanna\\\\Documents\\\\GitHub\\\\daws2\\\\xfoil_workshop\\\\xfoil.exe < C:\\\\Users\\\\Ioanna\\\\Documents\\\\GitHub\\\\daws2\\\\xfoil_workshop\\\\input_file_cha.in\", shell=True)\n",
    "        \n",
    "        # Extract results from the output file\n",
    "        old_file_name = \"C:\\\\Users\\\\Ioanna\\\\Documents\\\\GitHub\\\\daws2\\\\xfoil_workshop\\\\output_up\"  # Or the current file name with any extension\n",
    "        new_file_name = \"C:\\\\Users\\\\Ioanna\\\\Documents\\\\GitHub\\\\daws2\\\\xfoil_workshop\\\\output_up.txt\"\n",
    "        os.rename(old_file_name, new_file_name)\n",
    "\n",
    "        results = np.loadtxt((\"C:\\\\Users\\\\Ioanna\\\\Documents\\\\GitHub\\\\daws2\\\\xfoil_workshop\\\\output_up.txt\"), \n",
    "                     skiprows=12, encoding='latin1')\n",
    "        \n",
    "        c_l = results[1]  # Extract lift coefficient\n",
    "        c_m = results[4]  # Extract moment coefficient\n",
    "\n",
    "    except FileNotFoundError:\n",
    "        print(\"Error: XFOIL executable not found. Please check the path.\")\n",
    "        return np.array([0.0, 0.0])\n",
    "    except IndexError:\n",
    "        print(\"Error: XFOIL output file is empty or has unexpected format.\")\n",
    "        return np.array([0.0, 0.0])\n",
    "    except Exception as e:\n",
    "        print(f\"An unexpected error occurred: {e}\")\n",
    "        return np.array([0.0, 0.0])\n",
    "    finally:        \n",
    "        # Remove the output file (if it exists)\n",
    "        try:\n",
    "            os.unlink(\"C:\\\\Users\\\\Ioanna\\\\Documents\\\\GitHub\\\\daws2\\\\xfoil_workshop\\\\output_up.txt\")\n",
    "        except FileNotFoundError:\n",
    "            pass\n",
    "\n",
    "    # Return the results as a numpy array\n",
    "    return np.array([c_l, c_m]) \n"
   ]
  },
  {
   "cell_type": "markdown",
   "metadata": {},
   "source": [
    "#### Test the installation\n",
    "\n",
    "To ensure that the installation is correct, try to match the results with the following expected output values. Variations in the final 3-4 significant figures are expected. "
   ]
  },
  {
   "cell_type": "code",
   "execution_count": 3,
   "metadata": {},
   "outputs": [
    {
     "data": {
      "text/plain": [
       "array([ 0.24657635, -0.05268048])"
      ]
     },
     "execution_count": 3,
     "metadata": {},
     "output_type": "execute_result"
    }
   ],
   "source": [
    "# test the function\n",
    "flap_deflection = 0.5\n",
    "Re = 500000\n",
    "xtr_top = 0.3\n",
    "xtr_bottom = 0.7\n",
    "alpha = 0\n",
    "# for no_panel_nodes = 256\n",
    "\n",
    "# Create a 2D np.array with all input parameters in the **correct** order.\n",
    "ranges = np.array([flap_deflection, Re,  xtr_top, xtr_bottom, alpha])\n",
    "\n",
    "# Run the function\n",
    "coef_xfoil(ranges)\n",
    "\n",
    "# Comment out the following lines from the coef_xfoil function so the output file is not deleted after each run.\n",
    "#finally:\n",
    "        # Remove the output file (if it exists)\n",
    "      #  try:\n",
    "           # os.unlink(\"C:\\\\Users\\\\Ioanna\\\\Documents\\\\GitHub\\\\daws2\\\\xfoil_workshop\\\\output_up.txt\")\n",
    "     #   except FileNotFoundError:\n",
    "      #      pass\n",
    "\n",
    "# Open the output.txt file and check that the following coeffcients \n",
    "\n",
    "#CL      = 0.245832312525558E+00\n",
    "#CD      = 0.897255056288259E-02\n",
    "#CDp     = 0.639220543894256E-03    \n",
    "#CM      =-0.525018720205690E-01\n",
    "#Top_Xtr = 0.300000000000043E+00 \n",
    "#Bot_Xtr = 0.700000000000001E+00 \n",
    "#Top_Itr = 0.286192798167708E+02 \n",
    "#Bot_Itr = 0.881204554341905E+02"
   ]
  },
  {
   "cell_type": "markdown",
   "metadata": {},
   "source": [
    "In what follows variou assumptions are performed to highlight for no_panel_nodes = 100"
   ]
  },
  {
   "cell_type": "markdown",
   "metadata": {},
   "source": [
    "***\n",
    "<a id=\"propagate_epistemic_uncertainty\"></a>\n",
    "# Epistemic uncertainty"
   ]
  },
  {
   "cell_type": "markdown",
   "metadata": {},
   "source": [
    "# Propagate aleatory uncertainty \n",
    "\n",
    "Step 2. Create 5 uncertain numbers assuming they follow a normal distribution with the parameters provided in Table 1."
   ]
  },
  {
   "cell_type": "markdown",
   "metadata": {},
   "source": [
    "***\n",
    "<a id=\"Aleatory_propagation\"></a>\n",
    "# 3. Aleatory uncertainty"
   ]
  },
  {
   "cell_type": "code",
   "execution_count": 4,
   "metadata": {},
   "outputs": [],
   "source": [
    "\n",
    "flap_deflection = UN(name='flap deflection',  symbol='flap_d', units='degrees', \n",
    "            essence=\"distribution\", distribution_parameters=[\"gaussian\", [0, 0.08]])\n",
    "Re  = UN(name='Reynolds number', symbol='Re', \n",
    "            essence=\"distribution\", distribution_parameters=[\"gaussian\", [500000, 2500]])\n",
    "xtr_top = UN(name='Upper Surface Trip Location', symbol='xtr_top', \n",
    "            essence=\"distribution\", distribution_parameters=[\"gaussian\", [0.3, 0.015]])\n",
    "xtr_bottom = UN(name='Lower Surface Trip Location', symbol='xtr_bot',   \n",
    "            essence=\"distribution\", distribution_parameters=[\"gaussian\", [0.7, 0.021]])\n",
    "alpha = UN(name='angle of attaack', symbol='a', units='degrees', \n",
    "           essence=\"distribution\", distribution_parameters=[\"gaussian\", [0, 0.1]])\n",
    "\n",
    "#input\n",
    "vars_alea = [flap_deflection, Re, xtr_top, xtr_bottom, alpha]"
   ]
  },
  {
   "cell_type": "code",
   "execution_count": 5,
   "metadata": {},
   "outputs": [
    {
     "name": "stdout",
     "output_type": "stream",
     "text": [
      "UncertainNumber(name='Reynolds number', symbol='Re', _Q=<Quantity(500000.0, 'dimensionless')>, essence='distribution', distribution_parameters=['gaussian', [500000, 2500]], _construct=dist ~ gaussian[500000, 2500], naked_value=np.float64(500000.0), p_flag=True)\n"
     ]
    }
   ],
   "source": [
    "print(Re)"
   ]
  },
  {
   "cell_type": "code",
   "execution_count": 6,
   "metadata": {},
   "outputs": [
    {
     "data": {
      "image/png": "[encoded data removed]",
      "text/plain": [
       "<Figure size 640x480 with 1 Axes>"
      ]
     },
     "metadata": {},
     "output_type": "display_data"
    }
   ],
   "source": [
    "Re.display()"
   ]
  },
  {
   "cell_type": "code",
   "execution_count": 7,
   "metadata": {},
   "outputs": [
    {
     "name": "stdout",
     "output_type": "stream",
     "text": [
      "Total number of input combinations for the monte_carlo method: 500\n"
     ]
    },
    {
     "name": "stderr",
     "output_type": "stream",
     "text": [
      "Evaluating samples: 100%|██████████| 500/500 [01:19<00:00,  6.32it/s]\n"
     ]
    }
   ],
   "source": [
    "# Propagate the aleatory uncertainty with monte_carlo\n",
    "y_alea_mc = Propagation(vars_alea, coef_xfoil, \n",
    "                #n_sam =500, \n",
    "                method = 'monte_carlo')"
   ]
  },
  {
   "cell_type": "code",
   "execution_count": 8,
   "metadata": {},
   "outputs": [
    {
     "name": "stdout",
     "output_type": "stream",
     "text": [
      "------------------------------\n",
      "Output 1:\n",
      "------------------------------\n",
      "Uncertain Number: dist ~ sample-approximated distribution object\n",
      "------------------------------\n",
      "Output 2:\n",
      "------------------------------\n",
      "Uncertain Number: dist ~ sample-approximated distribution object\n",
      "------------------------------\n",
      "Input combinations and corresponding output(s):\n",
      "x: [[ 3.90889663e-04  4.97989196e+05  3.12467636e-01  7.13653094e-01\n",
      "  -8.92723200e-02]\n",
      " [ 1.10740191e-02  5.02731919e+05  3.28823988e-01  6.85888239e-01\n",
      "   8.55948976e-02]\n",
      " [-4.18632933e-02  4.95752813e+05  2.83383657e-01  6.80956686e-01\n",
      "   7.36166796e-02]\n",
      " ...\n",
      " [-1.22019536e-03  4.98290686e+05  3.01866219e-01  6.85282596e-01\n",
      "  -6.57698116e-02]\n",
      " [ 8.38702750e-02  5.03226458e+05  2.91292803e-01  6.96899907e-01\n",
      "   5.04139457e-02]\n",
      " [-8.33972942e-02  5.00564709e+05  2.99516416e-01  6.84237110e-01\n",
      "  -8.64224941e-03]]\n",
      "------------------------------\n",
      "f: [[ 0.19974258 -0.04716085]\n",
      " [ 0.22286067 -0.04775901]\n",
      " [ 0.21543807 -0.04691371]\n",
      " [ 0.20005746 -0.04574759]\n",
      " [ 0.20613912 -0.04734629]\n",
      " [ 0.19769834 -0.04704443]\n",
      " [ 0.21805109 -0.04756769]\n",
      " [ 0.22032684 -0.04631545]\n",
      " [ 0.20271757 -0.045678  ]\n",
      " [ 0.21311774 -0.04797775]\n",
      " [ 0.21502666 -0.04641521]\n",
      " [ 0.20191839 -0.04743577]\n",
      " [ 0.23111147 -0.04773922]\n",
      " [ 0.2206491  -0.04864892]\n",
      " [ 0.21571106 -0.04734893]\n",
      " [ 0.22177076 -0.04674538]\n",
      " [ 0.20284998 -0.04772826]\n",
      " [ 0.20093863 -0.04611738]\n",
      " [ 0.20156353 -0.04666411]\n",
      " [ 0.20162893 -0.04708944]\n",
      " [ 0.21300758 -0.04741909]\n",
      " [ 0.19293242 -0.04586152]\n",
      " [ 0.19606242 -0.04596473]\n",
      " [ 0.21066642 -0.04764257]\n",
      " [ 0.2142649  -0.04636728]\n",
      " [ 0.23578388 -0.04951452]\n",
      " [ 0.20493742 -0.04742297]\n",
      " [ 0.20005352 -0.0454901 ]\n",
      " [ 0.20542479 -0.04624259]\n",
      " [ 0.19555479 -0.04717838]\n",
      " [ 0.20205972 -0.04722735]\n",
      " [ 0.20370606 -0.04828096]\n",
      " [ 0.20593319 -0.04817865]\n",
      " [ 0.20060899 -0.04605894]\n",
      " [ 0.19586187 -0.04745311]\n",
      " [ 0.22369364 -0.04836634]\n",
      " [ 0.20039301 -0.04794591]\n",
      " [ 0.22616802 -0.04983296]\n",
      " [ 0.21237099 -0.04711203]\n",
      " [ 0.21840772 -0.04708258]\n",
      " [ 0.20508376 -0.04799948]\n",
      " [ 0.1975528  -0.04766786]\n",
      " [ 0.20895407 -0.04927002]\n",
      " [ 0.22234511 -0.04854706]\n",
      " [ 0.19224046 -0.04722649]\n",
      " [ 0.21656744 -0.04696302]\n",
      " [ 0.1977472  -0.04625721]\n",
      " [ 0.22880276 -0.04838706]\n",
      " [ 0.19224438 -0.0465375 ]\n",
      " [ 0.21623817 -0.04801839]\n",
      " [ 0.1948885  -0.0465895 ]\n",
      " [ 0.21668108 -0.04721011]\n",
      " [ 0.20548124 -0.04677845]\n",
      " [ 0.19614168 -0.04716869]\n",
      " [ 0.20631482 -0.04710184]\n",
      " [ 0.22554946 -0.048146  ]\n",
      " [ 0.192525   -0.04675108]\n",
      " [ 0.199396   -0.04706417]\n",
      " [ 0.20400817 -0.04590159]\n",
      " [ 0.22583758 -0.04838729]\n",
      " [ 0.21802728 -0.04862102]\n",
      " [ 0.2056773  -0.04690721]\n",
      " [ 0.20545009 -0.04800035]\n",
      " [ 0.18517137 -0.04685287]\n",
      " [ 0.20977745 -0.04585673]\n",
      " [ 0.1920205  -0.04627369]\n",
      " [ 0.21743697 -0.04779859]\n",
      " [ 0.23054526 -0.04690594]\n",
      " [ 0.19986411 -0.04645087]\n",
      " [ 0.1932399  -0.04765634]\n",
      " [ 0.20530638 -0.04743172]\n",
      " [ 0.19240608 -0.04575825]\n",
      " [ 0.20830385 -0.04608145]\n",
      " [ 0.2229838  -0.04872178]\n",
      " [ 0.20433744 -0.04576122]\n",
      " [ 0.18243253 -0.04412633]\n",
      " [ 0.2107925  -0.04743067]\n",
      " [ 0.20498905 -0.04724354]\n",
      " [ 0.20479365 -0.04799086]\n",
      " [ 0.20252629 -0.04736161]\n",
      " [ 0.19103827 -0.04652887]\n",
      " [ 0.21953348 -0.04591911]\n",
      " [ 0.20446842 -0.04744795]\n",
      " [ 0.21159517 -0.04744106]\n",
      " [ 0.20132305 -0.04574484]\n",
      " [ 0.18880623 -0.04740235]\n",
      " [ 0.22416204 -0.04732329]\n",
      " [ 0.19553433 -0.04691495]\n",
      " [ 0.20662517 -0.04808623]\n",
      " [ 0.20381395 -0.04677743]\n",
      " [ 0.21284135 -0.04744138]\n",
      " [ 0.17376352 -0.04501134]\n",
      " [ 0.2116871  -0.04648461]\n",
      " [ 0.21147444 -0.04861946]\n",
      " [ 0.22882625 -0.04680914]\n",
      " [ 0.2001759  -0.04614409]\n",
      " [ 0.22472963 -0.0468371 ]\n",
      " [ 0.23179187 -0.04868819]\n",
      " [ 0.21286515 -0.0480914 ]\n",
      " [ 0.18638218 -0.04615634]\n",
      " [ 0.22321472 -0.04747614]\n",
      " [ 0.21928428 -0.04767577]\n",
      " [ 0.22723197 -0.04821951]\n",
      " [ 0.20695536 -0.04813082]\n",
      " [ 0.1982661  -0.04784289]\n",
      " [ 0.19584469 -0.04685106]\n",
      " [ 0.21046056 -0.04722363]\n",
      " [ 0.22339924 -0.04755979]\n",
      " [ 0.23580336 -0.04846232]\n",
      " [ 0.19479663 -0.04680181]\n",
      " [ 0.2279819  -0.04916978]\n",
      " [ 0.21362721 -0.04611422]\n",
      " [ 0.22688892 -0.04742379]\n",
      " [ 0.21624677 -0.04631254]\n",
      " [ 0.20751419 -0.04690808]\n",
      " [ 0.20166673 -0.04679396]\n",
      " [ 0.22329915 -0.04740106]\n",
      " [ 0.18762102 -0.04599624]\n",
      " [ 0.19674629 -0.04753066]\n",
      " [ 0.19152279 -0.04708571]\n",
      " [ 0.190086   -0.04690497]\n",
      " [ 0.19278304 -0.04670297]\n",
      " [ 0.21366928 -0.04841911]\n",
      " [ 0.22706817 -0.04653039]\n",
      " [ 0.20000142 -0.04905265]\n",
      " [ 0.17883554 -0.04580033]\n",
      " [ 0.21161314 -0.04745196]\n",
      " [ 0.21493752 -0.04780171]\n",
      " [ 0.20929798 -0.04753699]\n",
      " [ 0.20196652 -0.0472233 ]\n",
      " [ 0.18464683 -0.04681136]\n",
      " [ 0.21430018 -0.04924357]\n",
      " [ 0.1943585  -0.04650271]\n",
      " [ 0.21300907 -0.04689006]\n",
      " [ 0.19393914 -0.04873273]\n",
      " [ 0.24562695 -0.04820751]\n",
      " [ 0.22429992 -0.04702632]\n",
      " [ 0.20940169 -0.04674646]\n",
      " [ 0.22482198 -0.04702053]\n",
      " [ 0.18903133 -0.04539603]\n",
      " [ 0.22438292 -0.04884858]\n",
      " [ 0.20830066 -0.04826877]\n",
      " [ 0.20365146 -0.04637748]\n",
      " [ 0.20976625 -0.04684782]\n",
      " [ 0.20929755 -0.04823082]\n",
      " [ 0.20804469 -0.0476387 ]\n",
      " [ 0.20219637 -0.04629045]\n",
      " [ 0.21233176 -0.04696308]\n",
      " [ 0.19200701 -0.04525281]\n",
      " [ 0.20446874 -0.04762332]\n",
      " [ 0.22041412 -0.04836584]\n",
      " [ 0.23811508 -0.04790176]\n",
      " [ 0.22044955 -0.04869382]\n",
      " [ 0.20918616 -0.04731672]\n",
      " [ 0.21059304 -0.04748649]\n",
      " [ 0.19744324 -0.04766086]\n",
      " [ 0.21235722 -0.0460124 ]\n",
      " [ 0.21372825 -0.047064  ]\n",
      " [ 0.19623977 -0.04741753]\n",
      " [ 0.20443937 -0.04747742]\n",
      " [ 0.19524661 -0.0472465 ]\n",
      " [ 0.20652383 -0.04631655]\n",
      " [ 0.20034262 -0.04597192]\n",
      " [ 0.20096248 -0.04735158]\n",
      " [ 0.22405638 -0.04878068]\n",
      " [ 0.19642268 -0.04698539]\n",
      " [ 0.20188648 -0.04729846]\n",
      " [ 0.21117018 -0.04802691]\n",
      " [ 0.20010366 -0.04724655]\n",
      " [ 0.22267353 -0.0465899 ]\n",
      " [ 0.21462485 -0.04716074]\n",
      " [ 0.2257085  -0.04818958]\n",
      " [ 0.20587229 -0.04784532]\n",
      " [ 0.22823727 -0.04753313]\n",
      " [ 0.21819642 -0.04789423]\n",
      " [ 0.22405672 -0.04798261]\n",
      " [ 0.2163996  -0.04616065]\n",
      " [ 0.20938045 -0.04596148]\n",
      " [ 0.20557503 -0.04746534]\n",
      " [ 0.20916827 -0.04778124]\n",
      " [ 0.21037099 -0.04752206]\n",
      " [ 0.23266754 -0.04806205]\n",
      " [ 0.20597019 -0.04670908]\n",
      " [ 0.19720336 -0.04709234]\n",
      " [ 0.22510878 -0.04646558]\n",
      " [ 0.19359166 -0.04623248]\n",
      " [ 0.21695493 -0.04737885]\n",
      " [ 0.23410348 -0.04940401]\n",
      " [ 0.21679038 -0.04858097]\n",
      " [ 0.22268632 -0.04829013]\n",
      " [ 0.22457827 -0.04790286]\n",
      " [ 0.22405039 -0.04812919]\n",
      " [ 0.18519561 -0.04614109]\n",
      " [ 0.19760251 -0.04676729]\n",
      " [ 0.21329495 -0.04615696]\n",
      " [ 0.19731719 -0.04796415]\n",
      " [ 0.2075403  -0.04694309]\n",
      " [ 0.22133492 -0.04841121]\n",
      " [ 0.22540696 -0.04793824]\n",
      " [ 0.2255533  -0.04777107]\n",
      " [ 0.17785324 -0.04614191]\n",
      " [ 0.21867653 -0.04682311]\n",
      " [ 0.19486659 -0.0457651 ]\n",
      " [ 0.21166401 -0.04781   ]\n",
      " [ 0.20494237 -0.04671791]\n",
      " [ 0.19501458 -0.0482866 ]\n",
      " [ 0.23306357 -0.04686218]\n",
      " [ 0.20297899 -0.0474052 ]\n",
      " [ 0.21652374 -0.04740006]\n",
      " [ 0.2173038  -0.04773722]\n",
      " [ 0.18830543 -0.04641846]\n",
      " [ 0.2229318  -0.04813993]\n",
      " [ 0.22390964 -0.04835816]\n",
      " [ 0.219325   -0.04660204]\n",
      " [ 0.19246215 -0.04793528]\n",
      " [ 0.21056004 -0.04680101]\n",
      " [ 0.21459276 -0.04729221]\n",
      " [ 0.20910968 -0.0473341 ]\n",
      " [ 0.21465174 -0.0479542 ]\n",
      " [ 0.21551012 -0.04722734]\n",
      " [ 0.23109992 -0.04729725]\n",
      " [ 0.21553295 -0.04629625]\n",
      " [ 0.21657709 -0.04614408]\n",
      " [ 0.21421426 -0.04728974]\n",
      " [ 0.23160302 -0.04782032]\n",
      " [ 0.23729033 -0.04754696]\n",
      " [ 0.2090873  -0.04690394]\n",
      " [ 0.21695003 -0.04895227]\n",
      " [ 0.20807826 -0.04740296]\n",
      " [ 0.23008515 -0.0485079 ]\n",
      " [ 0.20375809 -0.04910448]\n",
      " [ 0.20742143 -0.04708018]\n",
      " [ 0.19622352 -0.04623985]\n",
      " [ 0.21329422 -0.04753089]\n",
      " [ 0.20646857 -0.04870471]\n",
      " [ 0.18935634 -0.04674537]\n",
      " [ 0.20685393 -0.04814299]\n",
      " [ 0.20254928 -0.04626578]\n",
      " [ 0.21252571 -0.04621722]\n",
      " [ 0.21467892 -0.04802195]\n",
      " [ 0.19503314 -0.04624967]\n",
      " [ 0.20752996 -0.04667012]\n",
      " [ 0.21122937 -0.0482115 ]\n",
      " [ 0.21471667 -0.04855433]\n",
      " [ 0.21220051 -0.04789111]\n",
      " [ 0.21470532 -0.04889058]\n",
      " [ 0.19685316 -0.04650885]\n",
      " [ 0.20937818 -0.04814465]\n",
      " [ 0.20426388 -0.04678609]\n",
      " [ 0.20539311 -0.04728444]\n",
      " [ 0.19751514 -0.04748028]\n",
      " [ 0.21724075 -0.04673213]\n",
      " [ 0.19476264 -0.04684411]\n",
      " [ 0.2084291  -0.04666947]\n",
      " [ 0.19675747 -0.0470591 ]\n",
      " [ 0.22328547 -0.04802122]\n",
      " [ 0.17741908 -0.04549222]\n",
      " [ 0.20070406 -0.04512632]\n",
      " [ 0.22083532 -0.0488234 ]\n",
      " [ 0.20626179 -0.04796041]\n",
      " [ 0.22394481 -0.04930612]\n",
      " [ 0.21579611 -0.04827069]\n",
      " [ 0.23788261 -0.04817585]\n",
      " [ 0.20733475 -0.0476881 ]\n",
      " [ 0.20488948 -0.04704403]\n",
      " [ 0.20377166 -0.04694541]\n",
      " [ 0.21260372 -0.04802672]\n",
      " [ 0.20771903 -0.04760339]\n",
      " [ 0.20347531 -0.04754465]\n",
      " [ 0.20943852 -0.04830557]\n",
      " [ 0.23294318 -0.0482687 ]\n",
      " [ 0.22075525 -0.04833636]\n",
      " [ 0.20361238 -0.04763794]\n",
      " [ 0.20163002 -0.04727535]\n",
      " [ 0.19635774 -0.04566683]\n",
      " [ 0.20047327 -0.04691587]\n",
      " [ 0.18692788 -0.04620662]\n",
      " [ 0.22131864 -0.04841796]\n",
      " [ 0.22109882 -0.04830821]\n",
      " [ 0.19172646 -0.04698713]\n",
      " [ 0.20409458 -0.04635581]\n",
      " [ 0.21023702 -0.04763312]\n",
      " [ 0.20599319 -0.04833044]\n",
      " [ 0.20878008 -0.04803274]\n",
      " [ 0.22079598 -0.04693169]\n",
      " [ 0.21316987 -0.04721342]\n",
      " [ 0.20718865 -0.04818303]\n",
      " [ 0.19296735 -0.04666147]\n",
      " [ 0.23902502 -0.04857386]\n",
      " [ 0.2116025  -0.04718088]\n",
      " [ 0.21922994 -0.04831433]\n",
      " [ 0.20642137 -0.04761618]\n",
      " [ 0.22270085 -0.04820074]\n",
      " [ 0.21573903 -0.04734138]\n",
      " [ 0.2372321  -0.04795715]\n",
      " [ 0.22439578 -0.04774895]\n",
      " [ 0.225183   -0.04764267]\n",
      " [ 0.2218563  -0.04834231]\n",
      " [ 0.21780444 -0.04849111]\n",
      " [ 0.22782254 -0.04730262]\n",
      " [ 0.21310679 -0.04639995]\n",
      " [ 0.21159139 -0.04661963]\n",
      " [ 0.20337743 -0.04593718]\n",
      " [ 0.19882275 -0.04759119]\n",
      " [ 0.23066727 -0.0480214 ]\n",
      " [ 0.19881118 -0.04674099]\n",
      " [ 0.19141848 -0.04594951]\n",
      " [ 0.20797028 -0.04740798]\n",
      " [ 0.22140026 -0.04704241]\n",
      " [ 0.19815933 -0.04671231]\n",
      " [ 0.23514872 -0.04896912]\n",
      " [ 0.20821833 -0.04762707]\n",
      " [ 0.20465153 -0.04720826]\n",
      " [ 0.20072052 -0.04696718]\n",
      " [ 0.20535022 -0.04677319]\n",
      " [ 0.19408327 -0.04761907]\n",
      " [ 0.23254655 -0.04943108]\n",
      " [ 0.20112459 -0.04462478]\n",
      " [ 0.22217724 -0.04776739]\n",
      " [ 0.20771186 -0.0475029 ]\n",
      " [ 0.21776253 -0.04590422]\n",
      " [ 0.22489515 -0.04879132]\n",
      " [ 0.2042311  -0.04727326]\n",
      " [ 0.21546958 -0.04690834]\n",
      " [ 0.18194199 -0.04590771]\n",
      " [ 0.21246477 -0.0465763 ]\n",
      " [ 0.21999827 -0.04818539]\n",
      " [ 0.23442393 -0.04862766]\n",
      " [ 0.22691662 -0.04880685]\n",
      " [ 0.23469207 -0.04888729]\n",
      " [ 0.22220542 -0.04806848]\n",
      " [ 0.23172769 -0.04858714]\n",
      " [ 0.19537875 -0.04705178]\n",
      " [ 0.19926668 -0.04600961]\n",
      " [ 0.22450147 -0.04793555]\n",
      " [ 0.20152612 -0.04807278]\n",
      " [ 0.20156479 -0.04632423]\n",
      " [ 0.21247119 -0.04665919]\n",
      " [ 0.22782989 -0.04723805]\n",
      " [ 0.19068354 -0.04668518]\n",
      " [ 0.19998571 -0.0484871 ]\n",
      " [ 0.22728822 -0.04783775]\n",
      " [ 0.20216433 -0.04750146]\n",
      " [ 0.21909439 -0.04782543]\n",
      " [ 0.2103746  -0.04753621]\n",
      " [ 0.21948923 -0.04855876]\n",
      " [ 0.23381673 -0.04871606]\n",
      " [ 0.19246388 -0.04692883]\n",
      " [ 0.21099316 -0.04663242]\n",
      " [ 0.24137688 -0.04765742]\n",
      " [ 0.21979066 -0.04773008]\n",
      " [ 0.19716958 -0.0468903 ]\n",
      " [ 0.1841002  -0.04689842]\n",
      " [ 0.20202333 -0.04776713]\n",
      " [ 0.20943768 -0.04598247]\n",
      " [ 0.22160639 -0.04890107]\n",
      " [ 0.22519696 -0.04781995]\n",
      " [ 0.22501842 -0.04741667]\n",
      " [ 0.21307154 -0.04624477]\n",
      " [ 0.22116299 -0.04756637]\n",
      " [ 0.20976156 -0.04737529]\n",
      " [ 0.20801452 -0.04699284]\n",
      " [ 0.20609262 -0.04706219]\n",
      " [ 0.20233811 -0.04667512]\n",
      " [ 0.19966038 -0.04632738]\n",
      " [ 0.20016123 -0.04722943]\n",
      " [ 0.2283362  -0.04805906]\n",
      " [ 0.198679   -0.04629366]\n",
      " [ 0.22698786 -0.0476775 ]\n",
      " [ 0.20202827 -0.04743211]\n",
      " [ 0.20797934 -0.04865721]\n",
      " [ 0.21899125 -0.046277  ]\n",
      " [ 0.1909345  -0.04612981]\n",
      " [ 0.18633599 -0.04629425]\n",
      " [ 0.22098957 -0.04752578]\n",
      " [ 0.2187654  -0.04835404]\n",
      " [ 0.21341548 -0.04717132]\n",
      " [ 0.20035083 -0.04656204]\n",
      " [ 0.20940635 -0.04751724]\n",
      " [ 0.20478214 -0.04792427]\n",
      " [ 0.19597349 -0.04590407]\n",
      " [ 0.23820917 -0.04842206]\n",
      " [ 0.20836464 -0.04662824]\n",
      " [ 0.20113747 -0.0471104 ]\n",
      " [ 0.20689918 -0.04658029]\n",
      " [ 0.21506448 -0.04873026]\n",
      " [ 0.20802049 -0.04756337]\n",
      " [ 0.21123239 -0.04695773]\n",
      " [ 0.19734242 -0.0469995 ]\n",
      " [ 0.19545094 -0.04556718]\n",
      " [ 0.21828515 -0.04777717]\n",
      " [ 0.21565138 -0.04703878]\n",
      " [ 0.2430938  -0.04875371]\n",
      " [ 0.18820955 -0.04568062]\n",
      " [ 0.216292   -0.04799432]\n",
      " [ 0.18138702 -0.04727857]\n",
      " [ 0.20574057 -0.04793547]\n",
      " [ 0.19274979 -0.04756422]\n",
      " [ 0.23688419 -0.04714679]\n",
      " [ 0.1886187  -0.04638305]\n",
      " [ 0.19604134 -0.04733053]\n",
      " [ 0.22308365 -0.04673337]\n",
      " [ 0.2127447  -0.04903391]\n",
      " [ 0.23122436 -0.04811218]\n",
      " [ 0.21909777 -0.04741944]\n",
      " [ 0.21840707 -0.0460497 ]\n",
      " [ 0.20605654 -0.046117  ]\n",
      " [ 0.20322065 -0.04663804]\n",
      " [ 0.21816433 -0.04827919]\n",
      " [ 0.2275221  -0.04891703]\n",
      " [ 0.22254201 -0.0466618 ]\n",
      " [ 0.21257944 -0.04591256]\n",
      " [ 0.20931937 -0.0455186 ]\n",
      " [ 0.20821381 -0.04721503]\n",
      " [ 0.23834695 -0.04760819]\n",
      " [ 0.19900974 -0.04692469]\n",
      " [ 0.20020405 -0.04584149]\n",
      " [ 0.21655919 -0.0471975 ]\n",
      " [ 0.20281753 -0.04790952]\n",
      " [ 0.20251483 -0.0473005 ]\n",
      " [ 0.22883494 -0.04843914]\n",
      " [ 0.20641334 -0.04785158]\n",
      " [ 0.23475594 -0.04845922]\n",
      " [ 0.20990445 -0.04767496]\n",
      " [ 0.20734507 -0.04651994]\n",
      " [ 0.20430392 -0.04683408]\n",
      " [ 0.2072495  -0.0468449 ]\n",
      " [ 0.19513797 -0.04690682]\n",
      " [ 0.21346024 -0.04813474]\n",
      " [ 0.20655076 -0.04655761]\n",
      " [ 0.21092422 -0.04778124]\n",
      " [ 0.20768562 -0.04808065]\n",
      " [ 0.17610281 -0.04629424]\n",
      " [ 0.21615863 -0.04805604]\n",
      " [ 0.18245963 -0.04467043]\n",
      " [ 0.20673499 -0.04798493]\n",
      " [ 0.19655273 -0.04700325]\n",
      " [ 0.19820607 -0.04659578]\n",
      " [ 0.2147128  -0.04810825]\n",
      " [ 0.2213777  -0.04800409]\n",
      " [ 0.23220268 -0.04881891]\n",
      " [ 0.20679675 -0.04676531]\n",
      " [ 0.22899912 -0.04774539]\n",
      " [ 0.2080437  -0.04881481]\n",
      " [ 0.19865748 -0.04581895]\n",
      " [ 0.22790517 -0.04755326]\n",
      " [ 0.21228909 -0.04813005]\n",
      " [ 0.20514714 -0.04735797]\n",
      " [ 0.2137552  -0.0469214 ]\n",
      " [ 0.20454233 -0.0465664 ]\n",
      " [ 0.21639814 -0.04698684]\n",
      " [ 0.19261409 -0.04768732]\n",
      " [ 0.21154657 -0.0488385 ]\n",
      " [ 0.21047557 -0.0473832 ]\n",
      " [ 0.21015626 -0.04892762]\n",
      " [ 0.22296145 -0.04702825]\n",
      " [ 0.19434249 -0.0471557 ]\n",
      " [ 0.2293864  -0.04773846]\n",
      " [ 0.20362514 -0.04649885]\n",
      " [ 0.21441808 -0.04628269]\n",
      " [ 0.22877761 -0.04806282]\n",
      " [ 0.2230032  -0.04881705]\n",
      " [ 0.22556553 -0.04949167]\n",
      " [ 0.22067747 -0.04756453]\n",
      " [ 0.21556018 -0.04697404]\n",
      " [ 0.18946527 -0.04541495]\n",
      " [ 0.20799576 -0.04744909]\n",
      " [ 0.21948936 -0.04827128]\n",
      " [ 0.21347537 -0.04718263]\n",
      " [ 0.22584412 -0.04884589]\n",
      " [ 0.21348775 -0.04693684]\n",
      " [ 0.22688132 -0.04837875]\n",
      " [ 0.18400863 -0.04709002]\n",
      " [ 0.19268066 -0.04594944]\n",
      " [ 0.20135039 -0.04870939]\n",
      " [ 0.22366701 -0.0493711 ]\n",
      " [ 0.20099638 -0.04607579]\n",
      " [ 0.19116909 -0.04576024]\n",
      " [ 0.22765714 -0.04835827]\n",
      " [ 0.19238417 -0.04783031]\n",
      " [ 0.23183485 -0.04840828]\n",
      " [ 0.21718444 -0.04791652]\n",
      " [ 0.19829979 -0.04670037]\n",
      " [ 0.19974623 -0.04728875]\n",
      " [ 0.22373106 -0.04838285]\n",
      " [ 0.20727688 -0.04667958]\n",
      " [ 0.22864814 -0.04783326]\n",
      " [ 0.21308138 -0.04748435]\n",
      " [ 0.20503791 -0.04575566]\n",
      " [ 0.20925812 -0.04844951]\n",
      " [ 0.18557649 -0.04714905]\n",
      " [ 0.22175166 -0.04722038]\n",
      " [ 0.18991761 -0.04715818]\n",
      " [ 0.20893738 -0.04561967]\n",
      " [ 0.2374939  -0.04761583]\n",
      " [ 0.22411143 -0.04870349]\n",
      " [ 0.23761741 -0.04779556]\n",
      " [ 0.20314402 -0.04739378]\n",
      " [ 0.22178225 -0.04818774]\n",
      " [ 0.20370117 -0.04652867]]\n",
      "------------------------------\n"
     ]
    }
   ],
   "source": [
    "y_alea_mc.summary()"
   ]
  },
  {
   "cell_type": "code",
   "execution_count": 9,
   "metadata": {},
   "outputs": [
    {
     "name": "stdout",
     "output_type": "stream",
     "text": [
      "Total number of input combinations for the latin_hypercube method: 500\n"
     ]
    },
    {
     "name": "stderr",
     "output_type": "stream",
     "text": [
      "Evaluating samples: 100%|██████████| 500/500 [01:17<00:00,  6.48it/s]\n"
     ]
    }
   ],
   "source": [
    "# Propagate the aleatory uncertainty with latin_hypercube\n",
    "y_alea_lhs = Propagation(vars_alea, coef_xfoil, \n",
    "                #n_sam =500, \n",
    "                method = 'latin_hypercube')"
   ]
  },
  {
   "cell_type": "markdown",
   "metadata": {},
   "source": [
    "# Epistemic uncertainty "
   ]
  },
  {
   "cell_type": "code",
   "execution_count": 10,
   "metadata": {},
   "outputs": [],
   "source": [
    "# Uncertainty characterisation\n",
    "flap_deflection = UN(name='flap deflection', symbol='flap_d',  units='degrees', essence='interval', bounds= [-0.24, 0.24])\n",
    "Re = UN(name='Reynolds Number', symbol='Re',  essence='interval', bounds= [492500, 507500])\n",
    "xtr_top = UN(name='Upper Surface Trip Location', symbol='xtr_top',  essence='interval', bounds=[0.255, 0.345])\n",
    "xtr_bottom = UN(name='Lower Surface Trip Location', symbol='xtr_bot',  essence='interval', bounds= [0.637, 0.763])\n",
    "alpha = UN(name='angle of attaack', symbol='a', units='degrees', essence='interval', bounds= [-0.3, 0.3])\n",
    "\n",
    "#input\n",
    "vars_epi = [flap_deflection, Re, xtr_top, xtr_bottom, alpha]"
   ]
  },
  {
   "cell_type": "code",
   "execution_count": 11,
   "metadata": {},
   "outputs": [],
   "source": [
    "# Plot the uncertain numbers\n",
    "\n",
    "# flap_deflection.display()\n",
    "# Re.display()\n",
    "# xtr_top.display()\n",
    "# xtr_bottom.display()\n",
    "# alpha.display()"
   ]
  },
  {
   "cell_type": "markdown",
   "metadata": {},
   "source": [
    "### Endpoint propagation\n",
    "\n",
    "The endpoint propagation method (Dong and Shah, 1987) is a straightforward way to project intervals through the code, by projecting all input combinations produced by the Cartesian product of the interval bounds. This results in a total of n = 2**d. \n",
    "\n",
    "For the working example, there are d = 5 intervals which results in n = 2**5 = 32 input combinations.\n",
    "\n",
    "#### Assumptions\n",
    "\n",
    "\n"
   ]
  },
  {
   "cell_type": "code",
   "execution_count": 12,
   "metadata": {},
   "outputs": [
    {
     "name": "stdout",
     "output_type": "stream",
     "text": [
      "Total number of input combinations for the endpoint method: 32\n"
     ]
    }
   ],
   "source": [
    "# How many input combinations are expected from the endpoint propagation?\n",
    "d = 5 # is the number of uncertain input expressed as intervals.\n",
    "n = 2**d # The total number of combinations \n",
    "print(\"Total number of input combinations for the endpoint method:\", n) "
   ]
  },
  {
   "cell_type": "code",
   "execution_count": 13,
   "metadata": {},
   "outputs": [
    {
     "name": "stdout",
     "output_type": "stream",
     "text": [
      "Total number of input combinations for the endpoint method: 32\n"
     ]
    },
    {
     "name": "stderr",
     "output_type": "stream",
     "text": [
      "Evaluating samples: 100%|██████████| 32/32 [00:05<00:00,  6.16it/s]\n"
     ]
    }
   ],
   "source": [
    "y_end = Propagation(vars_epi, coef_xfoil, method = 'endpoints')"
   ]
  },
  {
   "cell_type": "code",
   "execution_count": 14,
   "metadata": {},
   "outputs": [
    {
     "name": "stdout",
     "output_type": "stream",
     "text": [
      "------------------------------\n",
      "Output 1:\n",
      "------------------------------\n",
      "Uncertain Number: UncertainNumber(_Q=<Quantity(0.209725545, 'dimensionless')>, essence='interval', bounds=array([0.1523357 , 0.26711539]), _construct=Interval [0.152336, 0.267115], naked_value=np.float64(0.2097255452185155), p_flag=True)\n",
      "------------------------------\n",
      "Bounds: [0.1523357  0.26711539]\n",
      "------------------------------\n",
      "Minimum:\n",
      "f: 0.152335700570157\n",
      "x: [[-2.400e-01  4.925e+05  2.550e-01  7.630e-01 -3.000e-01]]\n",
      "------------------------------\n",
      "Maximum:\n",
      "f: 0.267115389866874\n",
      "x: [[2.400e-01 5.075e+05 3.450e-01 6.370e-01 3.000e-01]]\n",
      "------------------------------\n",
      "Output 2:\n",
      "------------------------------\n",
      "Uncertain Number: UncertainNumber(_Q=<Quantity(-0.0471273098, 'dimensionless')>, essence='interval', bounds=array([-0.05083742, -0.0434172 ]), _construct=Interval [-0.0508374, -0.0434172], naked_value=np.float64(-0.047127309819833), p_flag=True)\n",
      "------------------------------\n",
      "Bounds: [-0.05083742 -0.0434172 ]\n",
      "------------------------------\n",
      "Minimum:\n",
      "f: -0.0508374187657765\n",
      "x: [[2.400e-01 5.075e+05 3.450e-01 6.370e-01 3.000e-01]]\n",
      "------------------------------\n",
      "Maximum:\n",
      "f: -0.0434172008738895\n",
      "x: [[-2.400e-01  4.925e+05  2.550e-01  7.630e-01 -3.000e-01]]\n",
      "------------------------------\n",
      "Input combinations and corresponding output(s):\n",
      "x: [[-2.400e-01  4.925e+05  2.550e-01  6.370e-01 -3.000e-01]\n",
      " [-2.400e-01  4.925e+05  2.550e-01  6.370e-01  3.000e-01]\n",
      " [-2.400e-01  4.925e+05  2.550e-01  7.630e-01 -3.000e-01]\n",
      " [-2.400e-01  4.925e+05  2.550e-01  7.630e-01  3.000e-01]\n",
      " [-2.400e-01  4.925e+05  3.450e-01  6.370e-01 -3.000e-01]\n",
      " [-2.400e-01  4.925e+05  3.450e-01  6.370e-01  3.000e-01]\n",
      " [-2.400e-01  4.925e+05  3.450e-01  7.630e-01 -3.000e-01]\n",
      " [-2.400e-01  4.925e+05  3.450e-01  7.630e-01  3.000e-01]\n",
      " [-2.400e-01  5.075e+05  2.550e-01  6.370e-01 -3.000e-01]\n",
      " [-2.400e-01  5.075e+05  2.550e-01  6.370e-01  3.000e-01]\n",
      " [-2.400e-01  5.075e+05  2.550e-01  7.630e-01 -3.000e-01]\n",
      " [-2.400e-01  5.075e+05  2.550e-01  7.630e-01  3.000e-01]\n",
      " [-2.400e-01  5.075e+05  3.450e-01  6.370e-01 -3.000e-01]\n",
      " [-2.400e-01  5.075e+05  3.450e-01  6.370e-01  3.000e-01]\n",
      " [-2.400e-01  5.075e+05  3.450e-01  7.630e-01 -3.000e-01]\n",
      " [-2.400e-01  5.075e+05  3.450e-01  7.630e-01  3.000e-01]\n",
      " [ 2.400e-01  4.925e+05  2.550e-01  6.370e-01 -3.000e-01]\n",
      " [ 2.400e-01  4.925e+05  2.550e-01  6.370e-01  3.000e-01]\n",
      " [ 2.400e-01  4.925e+05  2.550e-01  7.630e-01 -3.000e-01]\n",
      " [ 2.400e-01  4.925e+05  2.550e-01  7.630e-01  3.000e-01]\n",
      " [ 2.400e-01  4.925e+05  3.450e-01  6.370e-01 -3.000e-01]\n",
      " [ 2.400e-01  4.925e+05  3.450e-01  6.370e-01  3.000e-01]\n",
      " [ 2.400e-01  4.925e+05  3.450e-01  7.630e-01 -3.000e-01]\n",
      " [ 2.400e-01  4.925e+05  3.450e-01  7.630e-01  3.000e-01]\n",
      " [ 2.400e-01  5.075e+05  2.550e-01  6.370e-01 -3.000e-01]\n",
      " [ 2.400e-01  5.075e+05  2.550e-01  6.370e-01  3.000e-01]\n",
      " [ 2.400e-01  5.075e+05  2.550e-01  7.630e-01 -3.000e-01]\n",
      " [ 2.400e-01  5.075e+05  2.550e-01  7.630e-01  3.000e-01]\n",
      " [ 2.400e-01  5.075e+05  3.450e-01  6.370e-01 -3.000e-01]\n",
      " [ 2.400e-01  5.075e+05  3.450e-01  6.370e-01  3.000e-01]\n",
      " [ 2.400e-01  5.075e+05  3.450e-01  7.630e-01 -3.000e-01]\n",
      " [ 2.400e-01  5.075e+05  3.450e-01  7.630e-01  3.000e-01]]\n",
      "------------------------------\n",
      "f: [[ 0.15860709 -0.04490093]\n",
      " [ 0.22734098 -0.04502703]\n",
      " [ 0.1523357  -0.0434172 ]\n",
      " [ 0.22144933 -0.04366089]\n",
      " [ 0.16273462 -0.04541737]\n",
      " [ 0.23178971 -0.04558828]\n",
      " [ 0.1564605  -0.0439331 ]\n",
      " [ 0.22589195 -0.04422078]\n",
      " [ 0.15890396 -0.04495916]\n",
      " [ 0.22766843 -0.04509065]\n",
      " [ 0.15268798 -0.04349536]\n",
      " [ 0.22183218 -0.04374376]\n",
      " [ 0.16302665 -0.04547621]\n",
      " [ 0.23210719 -0.04565193]\n",
      " [ 0.1568075  -0.04401177]\n",
      " [ 0.22626427 -0.04430357]\n",
      " [ 0.1934488  -0.05005041]\n",
      " [ 0.26203789 -0.0501539 ]\n",
      " [ 0.18722384 -0.04857925]\n",
      " [ 0.25620529 -0.04880532]\n",
      " [ 0.19784112 -0.0506163 ]\n",
      " [ 0.26676432 -0.05076707]\n",
      " [ 0.19161085 -0.04914402]\n",
      " [ 0.26092296 -0.04941651]\n",
      " [ 0.19377826 -0.05011515]\n",
      " [ 0.26239837 -0.05022412]\n",
      " [ 0.18761022 -0.04866386]\n",
      " [ 0.25662303 -0.04889483]\n",
      " [ 0.19816409 -0.05068144]\n",
      " [ 0.26711539 -0.05083742]\n",
      " [ 0.1919907  -0.04922899]\n",
      " [ 0.26133051 -0.04950601]]\n",
      "------------------------------\n"
     ]
    }
   ],
   "source": [
    "# check the results.\n",
    "y_end.summary()"
   ]
  },
  {
   "cell_type": "markdown",
   "metadata": {},
   "source": [
    "### Subinterval reconstitution propagation\n",
    "\n",
    "The input intervals are partitioned into smaller intervals, which are then propagated through the model using endpoint propagation and the output interval can be reassembled (Ferson and Hajagos, 2004)."
   ]
  },
  {
   "cell_type": "code",
   "execution_count": 15,
   "metadata": {},
   "outputs": [
    {
     "name": "stdout",
     "output_type": "stream",
     "text": [
      "Total number of input combinations for the subinterval reconstitution method: 3125\n"
     ]
    }
   ],
   "source": [
    "# How many input combinations are expected from the subinterval reconstitution propagation?\n",
    "d = 5 # is the number of uncertain input expressed as intervals.\n",
    "m = 4 # is the number of partitions. \n",
    "n = (m+1)**d # The total number of combinations \n",
    "print(\"Total number of input combinations for the subinterval reconstitution method:\", n) "
   ]
  },
  {
   "cell_type": "code",
   "execution_count": 16,
   "metadata": {},
   "outputs": [
    {
     "name": "stdout",
     "output_type": "stream",
     "text": [
      "Total number of input combinations for the subinterval method: 1024\n"
     ]
    },
    {
     "name": "stderr",
     "output_type": "stream",
     "text": [
      "Evaluating samples: 100%|██████████| 1024/1024 [02:46<00:00,  6.14it/s]\n"
     ]
    }
   ],
   "source": [
    "y_sub = Propagation(vars_epi, coef_xfoil, \n",
    "                    # n_sub = 3, \n",
    "                    method = 'subinterval')"
   ]
  },
  {
   "cell_type": "code",
   "execution_count": 17,
   "metadata": {},
   "outputs": [
    {
     "data": {
      "text/plain": [
       "array([{'x': array([[0.24, 507500.0, 0.345, 0.637, 0.3]], dtype=object), 'f': np.float64(0.267115389866874)},\n",
       "       {'x': array([[-0.24, 492500.0, 0.255, 0.763, -0.3]], dtype=object), 'f': np.float64(-0.0434172008738895)}],\n",
       "      dtype=object)"
      ]
     },
     "execution_count": 17,
     "metadata": {},
     "output_type": "execute_result"
    }
   ],
   "source": [
    "# check the results.\n",
    "y_sub.raw_data['max']"
   ]
  },
  {
   "cell_type": "markdown",
   "metadata": {},
   "source": [
    "### Sampling methods"
   ]
  },
  {
   "cell_type": "code",
   "execution_count": 18,
   "metadata": {},
   "outputs": [
    {
     "name": "stdout",
     "output_type": "stream",
     "text": [
      "Total number of input combinations for the monte_carlo method: 500\n"
     ]
    },
    {
     "name": "stderr",
     "output_type": "stream",
     "text": [
      "Evaluating samples: 100%|██████████| 500/500 [01:17<00:00,  6.45it/s]\n"
     ]
    }
   ],
   "source": [
    "y_mc = Propagation(vars_epi, coef_xfoil, \n",
    "                    # n_sam = 500, \n",
    "                    method = \"monte_carlo\")"
   ]
  },
  {
   "cell_type": "code",
   "execution_count": 19,
   "metadata": {},
   "outputs": [
    {
     "name": "stdout",
     "output_type": "stream",
     "text": [
      "------------------------------\n",
      "Output 1:\n",
      "------------------------------\n",
      "Uncertain Number: UncertainNumber(_Q=<Quantity(0.209159428, 'dimensionless')>, essence='interval', bounds=array([0.16142936, 0.25688949]), _construct=Interval [0.161429, 0.256889], naked_value=np.float64(0.20915942824720452), p_flag=True)\n",
      "------------------------------\n",
      "Bounds: [0.16142936 0.25688949]\n",
      "------------------------------\n",
      "Minimum:\n",
      "f: 0.161429363784399\n",
      "x: [[-2.35598714e-01  5.02094944e+05  2.98827681e-01  6.78611722e-01\n",
      "  -2.81212625e-01]]\n",
      "------------------------------\n",
      "Maximum:\n",
      "f: 0.25688949271001\n",
      "x: [[1.86403777e-01 4.96824513e+05 3.44302809e-01 7.28287275e-01\n",
      "  2.81589936e-01]]\n",
      "------------------------------\n",
      "Output 2:\n",
      "------------------------------\n",
      "Uncertain Number: UncertainNumber(_Q=<Quantity(-0.0472403835, 'dimensionless')>, essence='interval', bounds=array([-0.05053417, -0.0439466 ]), _construct=Interval [-0.0505342, -0.0439466], naked_value=np.float64(-0.04724038354575555), p_flag=True)\n",
      "------------------------------\n",
      "Bounds: [-0.05053417 -0.0439466 ]\n",
      "------------------------------\n",
      "Minimum:\n",
      "f: -0.050534166437404\n",
      "x: [[2.39983215e-01 5.06085608e+05 3.18864721e-01 6.47748664e-01\n",
      "  1.51854297e-01]]\n",
      "------------------------------\n",
      "Maximum:\n",
      "f: -0.0439466006541071\n",
      "x: [[-2.23051206e-01  4.99344545e+05  2.59963423e-01  7.57016709e-01\n",
      "   1.42626803e-01]]\n",
      "------------------------------\n",
      "Input combinations and corresponding output(s):\n",
      "x: [[-2.08798835e-01  4.94694078e+05  3.05961083e-01  6.87616108e-01\n",
      "  -2.20349937e-01]\n",
      " [-2.19242451e-02  4.93557923e+05  2.70111370e-01  6.68252957e-01\n",
      "  -2.93289499e-01]\n",
      " [ 4.62906008e-02  5.01577401e+05  3.36043767e-01  6.81096155e-01\n",
      "  -1.44266291e-01]\n",
      " ...\n",
      " [-1.98243258e-01  5.07478124e+05  2.97558203e-01  7.58250770e-01\n",
      "   1.26963488e-01]\n",
      " [ 1.73025394e-01  5.00869831e+05  2.84335043e-01  6.47469263e-01\n",
      "  -2.55144789e-02]\n",
      " [ 1.16017585e-01  5.03238604e+05  2.59085452e-01  7.59381961e-01\n",
      "  -7.11529980e-02]]\n",
      "------------------------------\n",
      "f: [[ 0.17016259 -0.045073  ]\n",
      " [ 0.17462243 -0.04706011]\n",
      " [ 0.19953699 -0.04816068]\n",
      " [ 0.18636063 -0.04583011]\n",
      " [ 0.17820314 -0.04556802]\n",
      " [ 0.22616354 -0.04721851]\n",
      " [ 0.17969102 -0.04606807]\n",
      " [ 0.22753192 -0.04501064]\n",
      " [ 0.23151058 -0.04854191]\n",
      " [ 0.21328123 -0.04919712]\n",
      " [ 0.21839481 -0.04584428]\n",
      " [ 0.25299408 -0.04936918]\n",
      " [ 0.17979761 -0.0463806 ]\n",
      " [ 0.21461497 -0.04897937]\n",
      " [ 0.24469778 -0.04847001]\n",
      " [ 0.20959544 -0.04715663]\n",
      " [ 0.2269171  -0.04573205]\n",
      " [ 0.21591887 -0.0449223 ]\n",
      " [ 0.24404881 -0.04858944]\n",
      " [ 0.18864155 -0.04798454]\n",
      " [ 0.16838192 -0.04527709]\n",
      " [ 0.22831127 -0.04966428]\n",
      " [ 0.21523305 -0.04937609]\n",
      " [ 0.18522528 -0.04688609]\n",
      " [ 0.22784479 -0.04716389]\n",
      " [ 0.24606342 -0.04940041]\n",
      " [ 0.19788272 -0.04614176]\n",
      " [ 0.21173705 -0.04891827]\n",
      " [ 0.23490876 -0.04774769]\n",
      " [ 0.23347469 -0.04629882]\n",
      " [ 0.17408216 -0.04580768]\n",
      " [ 0.20500756 -0.04878453]\n",
      " [ 0.23384471 -0.04590639]\n",
      " [ 0.22754435 -0.04581176]\n",
      " [ 0.23441861 -0.04811369]\n",
      " [ 0.19960405 -0.04669921]\n",
      " [ 0.20234549 -0.04604373]\n",
      " [ 0.21758849 -0.04804817]\n",
      " [ 0.25203097 -0.04890676]\n",
      " [ 0.21472157 -0.04936509]\n",
      " [ 0.21168613 -0.04664277]\n",
      " [ 0.19363379 -0.04885936]\n",
      " [ 0.20863121 -0.04516772]\n",
      " [ 0.20189342 -0.04633473]\n",
      " [ 0.20518856 -0.04782097]\n",
      " [ 0.21798209 -0.04670337]\n",
      " [ 0.18628506 -0.04638898]\n",
      " [ 0.212987   -0.0449438 ]\n",
      " [ 0.22786539 -0.0489585 ]\n",
      " [ 0.22510286 -0.04654222]\n",
      " [ 0.18689567 -0.04757444]\n",
      " [ 0.18470547 -0.04561428]\n",
      " [ 0.22090582 -0.04759173]\n",
      " [ 0.22760161 -0.04559492]\n",
      " [ 0.17931901 -0.04648956]\n",
      " [ 0.18270471 -0.04585086]\n",
      " [ 0.19515258 -0.04528628]\n",
      " [ 0.19196556 -0.04646669]\n",
      " [ 0.20681242 -0.04598502]\n",
      " [ 0.19441    -0.04628958]\n",
      " [ 0.20906056 -0.0477112 ]\n",
      " [ 0.23432019 -0.04593091]\n",
      " [ 0.21697049 -0.04856266]\n",
      " [ 0.23825467 -0.04818671]\n",
      " [ 0.22187891 -0.04471317]\n",
      " [ 0.20230387 -0.04910523]\n",
      " [ 0.21528551 -0.04777213]\n",
      " [ 0.22659263 -0.04900016]\n",
      " [ 0.24212816 -0.04794099]\n",
      " [ 0.24776906 -0.04808326]\n",
      " [ 0.20487897 -0.04853999]\n",
      " [ 0.213015   -0.04896423]\n",
      " [ 0.20570225 -0.04588846]\n",
      " [ 0.17453371 -0.04525466]\n",
      " [ 0.22523606 -0.04687262]\n",
      " [ 0.25688949 -0.04933097]\n",
      " [ 0.21389584 -0.04910943]\n",
      " [ 0.23895792 -0.04964282]\n",
      " [ 0.24643839 -0.04814978]\n",
      " [ 0.21256265 -0.04942487]\n",
      " [ 0.18825228 -0.04650223]\n",
      " [ 0.22672392 -0.0482151 ]\n",
      " [ 0.19986746 -0.04874733]\n",
      " [ 0.21156534 -0.04875341]\n",
      " [ 0.21102936 -0.04782785]\n",
      " [ 0.1942424  -0.04875685]\n",
      " [ 0.22119824 -0.04550893]\n",
      " [ 0.24019628 -0.04902171]\n",
      " [ 0.17214258 -0.0450333 ]\n",
      " [ 0.21961519 -0.04672601]\n",
      " [ 0.23214592 -0.0480015 ]\n",
      " [ 0.20534655 -0.0439466 ]\n",
      " [ 0.21779986 -0.04719208]\n",
      " [ 0.23037453 -0.04887947]\n",
      " [ 0.20551679 -0.04832325]\n",
      " [ 0.23584191 -0.04624819]\n",
      " [ 0.18859043 -0.04740648]\n",
      " [ 0.18733093 -0.04883785]\n",
      " [ 0.24831386 -0.05053417]\n",
      " [ 0.20801189 -0.0456512 ]\n",
      " [ 0.17170443 -0.04576138]\n",
      " [ 0.20800943 -0.04693945]\n",
      " [ 0.22249893 -0.04944645]\n",
      " [ 0.18571041 -0.04534464]\n",
      " [ 0.25449231 -0.05007946]\n",
      " [ 0.22530492 -0.04923817]\n",
      " [ 0.20904848 -0.04472521]\n",
      " [ 0.21979925 -0.04848528]\n",
      " [ 0.17863216 -0.04592191]\n",
      " [ 0.22867754 -0.04552526]\n",
      " [ 0.1950108  -0.04535917]\n",
      " [ 0.24274775 -0.04914653]\n",
      " [ 0.21212061 -0.04517718]\n",
      " [ 0.17591418 -0.04632144]\n",
      " [ 0.20501279 -0.04559849]\n",
      " [ 0.21581447 -0.04822204]\n",
      " [ 0.20590934 -0.04838917]\n",
      " [ 0.22969032 -0.04616148]\n",
      " [ 0.21383809 -0.04894088]\n",
      " [ 0.19281222 -0.04841473]\n",
      " [ 0.22838359 -0.04927378]\n",
      " [ 0.23073812 -0.0472013 ]\n",
      " [ 0.19507815 -0.04806833]\n",
      " [ 0.19726083 -0.04532643]\n",
      " [ 0.21136387 -0.0484546 ]\n",
      " [ 0.21083891 -0.04488389]\n",
      " [ 0.23062046 -0.04680374]\n",
      " [ 0.22258008 -0.04899842]\n",
      " [ 0.22225681 -0.04760033]\n",
      " [ 0.23278072 -0.04700483]\n",
      " [ 0.19341653 -0.04620962]\n",
      " [ 0.17065806 -0.04473343]\n",
      " [ 0.18359559 -0.0474022 ]\n",
      " [ 0.20737369 -0.04869837]\n",
      " [ 0.22328445 -0.0448017 ]\n",
      " [ 0.23216586 -0.04833652]\n",
      " [ 0.22397677 -0.04603107]\n",
      " [ 0.21902138 -0.04621695]\n",
      " [ 0.23806087 -0.04681938]\n",
      " [ 0.21455377 -0.04611859]\n",
      " [ 0.18585114 -0.04750792]\n",
      " [ 0.18944088 -0.04908214]\n",
      " [ 0.17381753 -0.0455544 ]\n",
      " [ 0.21633417 -0.04475438]\n",
      " [ 0.2019378  -0.04955283]\n",
      " [ 0.17235773 -0.0458933 ]\n",
      " [ 0.18859413 -0.04521433]\n",
      " [ 0.20867203 -0.04608544]\n",
      " [ 0.24053622 -0.04922947]\n",
      " [ 0.16142936 -0.0448483 ]\n",
      " [ 0.20780433 -0.04945126]\n",
      " [ 0.21402451 -0.04468149]\n",
      " [ 0.18453066 -0.0457332 ]\n",
      " [ 0.16796318 -0.04517297]\n",
      " [ 0.22412074 -0.04484095]\n",
      " [ 0.23551507 -0.0482467 ]\n",
      " [ 0.18941301 -0.04730567]\n",
      " [ 0.22707491 -0.04605736]\n",
      " [ 0.22393112 -0.04777986]\n",
      " [ 0.22411571 -0.04591843]\n",
      " [ 0.24268934 -0.04723921]\n",
      " [ 0.21543408 -0.0480266 ]\n",
      " [ 0.21771217 -0.04524358]\n",
      " [ 0.22133988 -0.04563487]\n",
      " [ 0.22239965 -0.04585942]\n",
      " [ 0.21861166 -0.04617359]\n",
      " [ 0.17998078 -0.04673924]\n",
      " [ 0.19172121 -0.04494514]\n",
      " [ 0.19568649 -0.04575118]\n",
      " [ 0.20826059 -0.0475286 ]\n",
      " [ 0.25465405 -0.0491657 ]\n",
      " [ 0.18737364 -0.04605313]\n",
      " [ 0.21597528 -0.04811275]\n",
      " [ 0.2215505  -0.04520397]\n",
      " [ 0.20247289 -0.04659277]\n",
      " [ 0.21011293 -0.04526433]\n",
      " [ 0.23036938 -0.04816001]\n",
      " [ 0.20028809 -0.0468416 ]\n",
      " [ 0.23988446 -0.04805942]\n",
      " [ 0.20406366 -0.04879844]\n",
      " [ 0.20052961 -0.04686032]\n",
      " [ 0.24621569 -0.04764794]\n",
      " [ 0.18389638 -0.04608866]\n",
      " [ 0.20331372 -0.04924702]\n",
      " [ 0.21481176 -0.04563333]\n",
      " [ 0.19965209 -0.04728021]\n",
      " [ 0.19365034 -0.04591779]\n",
      " [ 0.23609063 -0.04629602]\n",
      " [ 0.20147899 -0.04435003]\n",
      " [ 0.22229437 -0.04856042]\n",
      " [ 0.18670992 -0.04636928]\n",
      " [ 0.16273285 -0.04400215]\n",
      " [ 0.21915358 -0.04690714]\n",
      " [ 0.22311252 -0.04736681]\n",
      " [ 0.20542728 -0.04694932]\n",
      " [ 0.24372491 -0.04738812]\n",
      " [ 0.248325   -0.04819639]\n",
      " [ 0.19038681 -0.04788609]\n",
      " [ 0.18879756 -0.04897283]\n",
      " [ 0.18163128 -0.04544416]\n",
      " [ 0.19598043 -0.04555346]\n",
      " [ 0.22396574 -0.04634466]\n",
      " [ 0.17011175 -0.04495064]\n",
      " [ 0.23210177 -0.04805979]\n",
      " [ 0.25050747 -0.0496874 ]\n",
      " [ 0.21332998 -0.04715881]\n",
      " [ 0.24016878 -0.04751281]\n",
      " [ 0.23720813 -0.04868443]\n",
      " [ 0.24914838 -0.04801198]\n",
      " [ 0.18950914 -0.04535172]\n",
      " [ 0.20843304 -0.04947796]\n",
      " [ 0.19517696 -0.04905734]\n",
      " [ 0.18863017 -0.04615356]\n",
      " [ 0.23324436 -0.04775339]\n",
      " [ 0.17272726 -0.04595609]\n",
      " [ 0.1840967  -0.04588006]\n",
      " [ 0.20683777 -0.04617336]\n",
      " [ 0.2015585  -0.04899895]\n",
      " [ 0.18552681 -0.04799788]\n",
      " [ 0.21567675 -0.04696558]\n",
      " [ 0.2449295  -0.04911299]\n",
      " [ 0.25373551 -0.04902698]\n",
      " [ 0.21551402 -0.04912447]\n",
      " [ 0.22198314 -0.04876415]\n",
      " [ 0.18236589 -0.04761134]\n",
      " [ 0.21897695 -0.04660347]\n",
      " [ 0.24083923 -0.04907497]\n",
      " [ 0.2168409  -0.0465173 ]\n",
      " [ 0.19070783 -0.04844567]\n",
      " [ 0.20743666 -0.04765806]\n",
      " [ 0.21778582 -0.04629438]\n",
      " [ 0.22709605 -0.04943153]\n",
      " [ 0.21687844 -0.046147  ]\n",
      " [ 0.20115455 -0.04756212]\n",
      " [ 0.22934209 -0.04661968]\n",
      " [ 0.22165848 -0.04851915]\n",
      " [ 0.21805717 -0.04597985]\n",
      " [ 0.24818376 -0.04911375]\n",
      " [ 0.23436008 -0.04721078]\n",
      " [ 0.17484327 -0.04633653]\n",
      " [ 0.19844256 -0.04814721]\n",
      " [ 0.19880717 -0.04790589]\n",
      " [ 0.21456856 -0.04682465]\n",
      " [ 0.22105975 -0.04801315]\n",
      " [ 0.2299331  -0.04587684]\n",
      " [ 0.23096653 -0.04615825]\n",
      " [ 0.19952148 -0.04748725]\n",
      " [ 0.17917189 -0.04766286]\n",
      " [ 0.20486916 -0.04703777]\n",
      " [ 0.22384763 -0.04711075]\n",
      " [ 0.22103614 -0.04562627]\n",
      " [ 0.23387914 -0.05005659]\n",
      " [ 0.22292295 -0.04828043]\n",
      " [ 0.23568682 -0.0469113 ]\n",
      " [ 0.21908628 -0.04940998]\n",
      " [ 0.18713636 -0.04536558]\n",
      " [ 0.2226564  -0.04850431]\n",
      " [ 0.19940557 -0.047596  ]\n",
      " [ 0.19451972 -0.0491768 ]\n",
      " [ 0.19487601 -0.04884997]\n",
      " [ 0.18575334 -0.04826798]\n",
      " [ 0.21805763 -0.04809825]\n",
      " [ 0.19924803 -0.04702887]\n",
      " [ 0.25501496 -0.04940386]\n",
      " [ 0.19457867 -0.04853516]\n",
      " [ 0.19274963 -0.04902215]\n",
      " [ 0.19726249 -0.04525646]\n",
      " [ 0.19938032 -0.04564964]\n",
      " [ 0.19994839 -0.0484737 ]\n",
      " [ 0.19106092 -0.04612361]\n",
      " [ 0.21944387 -0.04919795]\n",
      " [ 0.20038982 -0.04836709]\n",
      " [ 0.23247282 -0.04721194]\n",
      " [ 0.1965521  -0.04574817]\n",
      " [ 0.17039687 -0.04438859]\n",
      " [ 0.20737965 -0.0458695 ]\n",
      " [ 0.2503093  -0.0490216 ]\n",
      " [ 0.19223413 -0.04704449]\n",
      " [ 0.17920109 -0.04512962]\n",
      " [ 0.23976012 -0.04759514]\n",
      " [ 0.2009287  -0.05011921]\n",
      " [ 0.23777438 -0.04743944]\n",
      " [ 0.22523555 -0.04681286]\n",
      " [ 0.25121619 -0.04924341]\n",
      " [ 0.22457641 -0.04957487]\n",
      " [ 0.21257638 -0.0497103 ]\n",
      " [ 0.19932842 -0.04765512]\n",
      " [ 0.2284028  -0.04873469]\n",
      " [ 0.21327382 -0.04845363]\n",
      " [ 0.24107678 -0.04743815]\n",
      " [ 0.21332971 -0.04581622]\n",
      " [ 0.21896266 -0.0448233 ]\n",
      " [ 0.19091283 -0.04477792]\n",
      " [ 0.23575763 -0.04755263]\n",
      " [ 0.24251241 -0.04910582]\n",
      " [ 0.22334106 -0.04448864]\n",
      " [ 0.20318229 -0.04885454]\n",
      " [ 0.18793922 -0.04812927]\n",
      " [ 0.24458922 -0.04887114]\n",
      " [ 0.1965566  -0.04620419]\n",
      " [ 0.21993546 -0.04424133]\n",
      " [ 0.17638545 -0.04549322]\n",
      " [ 0.23072201 -0.04773708]\n",
      " [ 0.19403256 -0.0450001 ]\n",
      " [ 0.24070957 -0.04934231]\n",
      " [ 0.21119078 -0.04964419]\n",
      " [ 0.20408774 -0.04839618]\n",
      " [ 0.21978758 -0.04591464]\n",
      " [ 0.23314465 -0.04874861]\n",
      " [ 0.24115761 -0.04948859]\n",
      " [ 0.21458833 -0.04916425]\n",
      " [ 0.19946472 -0.04800857]\n",
      " [ 0.18584539 -0.04812822]\n",
      " [ 0.22446152 -0.04741521]\n",
      " [ 0.18027287 -0.04558726]\n",
      " [ 0.20134307 -0.04643463]\n",
      " [ 0.24966536 -0.04850828]\n",
      " [ 0.21541699 -0.04948241]\n",
      " [ 0.18219955 -0.04724564]\n",
      " [ 0.22662105 -0.04825561]\n",
      " [ 0.23032029 -0.04655794]\n",
      " [ 0.16756373 -0.04458858]\n",
      " [ 0.20961666 -0.04507709]\n",
      " [ 0.22782992 -0.0469605 ]\n",
      " [ 0.22291115 -0.04497371]\n",
      " [ 0.23553503 -0.04771407]\n",
      " [ 0.18816055 -0.0461347 ]\n",
      " [ 0.19058279 -0.04627969]\n",
      " [ 0.21836046 -0.04551556]\n",
      " [ 0.23828412 -0.04913644]\n",
      " [ 0.21713553 -0.04798536]\n",
      " [ 0.20391966 -0.04544955]\n",
      " [ 0.19284594 -0.04825141]\n",
      " [ 0.22150375 -0.04649539]\n",
      " [ 0.24106183 -0.04824332]\n",
      " [ 0.18685065 -0.04588907]\n",
      " [ 0.24647706 -0.04945855]\n",
      " [ 0.21919999 -0.04729475]\n",
      " [ 0.23118983 -0.04775251]\n",
      " [ 0.21427221 -0.04709753]\n",
      " [ 0.24119985 -0.048326  ]\n",
      " [ 0.18008701 -0.0473798 ]\n",
      " [ 0.20166647 -0.04625026]\n",
      " [ 0.22711685 -0.04646184]\n",
      " [ 0.22091746 -0.04589124]\n",
      " [ 0.22331342 -0.04638076]\n",
      " [ 0.22673961 -0.04738681]\n",
      " [ 0.19101599 -0.04516987]\n",
      " [ 0.18331581 -0.04479248]\n",
      " [ 0.17250811 -0.04688116]\n",
      " [ 0.1883246  -0.0450528 ]\n",
      " [ 0.19742217 -0.04550399]\n",
      " [ 0.22468456 -0.04858675]\n",
      " [ 0.19329954 -0.04616922]\n",
      " [ 0.17169677 -0.04482206]\n",
      " [ 0.23034278 -0.0472588 ]\n",
      " [ 0.24126419 -0.04924134]\n",
      " [ 0.18562304 -0.04522266]\n",
      " [ 0.22316454 -0.04779082]\n",
      " [ 0.18483713 -0.04667749]\n",
      " [ 0.17972892 -0.04578449]\n",
      " [ 0.20881027 -0.04814405]\n",
      " [ 0.17986525 -0.04612074]\n",
      " [ 0.16368967 -0.04536415]\n",
      " [ 0.2011727  -0.04429647]\n",
      " [ 0.24263814 -0.05019364]\n",
      " [ 0.23585505 -0.04662815]\n",
      " [ 0.21400734 -0.04586528]\n",
      " [ 0.23773199 -0.0492248 ]\n",
      " [ 0.20403084 -0.04848581]\n",
      " [ 0.21033075 -0.04985069]\n",
      " [ 0.19717138 -0.04577805]\n",
      " [ 0.19962958 -0.04827074]\n",
      " [ 0.25627697 -0.04997007]\n",
      " [ 0.21617358 -0.0485622 ]\n",
      " [ 0.21000719 -0.04801798]\n",
      " [ 0.21628018 -0.04901491]\n",
      " [ 0.21110879 -0.04840519]\n",
      " [ 0.2180109  -0.04931155]\n",
      " [ 0.21014826 -0.04480697]\n",
      " [ 0.20579695 -0.04641467]\n",
      " [ 0.22681343 -0.0491548 ]\n",
      " [ 0.20406483 -0.04565504]\n",
      " [ 0.21220535 -0.04558933]\n",
      " [ 0.1722954  -0.04603479]\n",
      " [ 0.22374713 -0.04660684]\n",
      " [ 0.23005439 -0.04907553]\n",
      " [ 0.20781296 -0.04550289]\n",
      " [ 0.1778023  -0.04530588]\n",
      " [ 0.24989648 -0.04847867]\n",
      " [ 0.2067306  -0.0462697 ]\n",
      " [ 0.19667117 -0.04789887]\n",
      " [ 0.23320058 -0.04645788]\n",
      " [ 0.20873117 -0.04805738]\n",
      " [ 0.23728829 -0.04812895]\n",
      " [ 0.23182773 -0.04888584]\n",
      " [ 0.1971383  -0.04677003]\n",
      " [ 0.24905149 -0.04827394]\n",
      " [ 0.18411776 -0.04660617]\n",
      " [ 0.19067026 -0.0457955 ]\n",
      " [ 0.22217065 -0.04913955]\n",
      " [ 0.22130325 -0.0484123 ]\n",
      " [ 0.24021696 -0.04693672]\n",
      " [ 0.18783161 -0.04648182]\n",
      " [ 0.17131193 -0.04488177]\n",
      " [ 0.2061167  -0.04614353]\n",
      " [ 0.23709346 -0.04827798]\n",
      " [ 0.24134825 -0.04868846]\n",
      " [ 0.20847029 -0.04692258]\n",
      " [ 0.17912379 -0.04571154]\n",
      " [ 0.24688808 -0.04809071]\n",
      " [ 0.2215219  -0.04548883]\n",
      " [ 0.17520685 -0.04626776]\n",
      " [ 0.20995407 -0.04712764]\n",
      " [ 0.1705133  -0.04474749]\n",
      " [ 0.24459998 -0.04794286]\n",
      " [ 0.23702554 -0.04911059]\n",
      " [ 0.19027351 -0.04740678]\n",
      " [ 0.20455773 -0.04846534]\n",
      " [ 0.18037941 -0.04681879]\n",
      " [ 0.20978006 -0.04835561]\n",
      " [ 0.24080452 -0.04774692]\n",
      " [ 0.22891827 -0.04722785]\n",
      " [ 0.20112856 -0.04646255]\n",
      " [ 0.18314244 -0.0472093 ]\n",
      " [ 0.17005869 -0.04575653]\n",
      " [ 0.23213414 -0.04898236]\n",
      " [ 0.17362329 -0.04651917]\n",
      " [ 0.22620752 -0.04825675]\n",
      " [ 0.24882722 -0.04807318]\n",
      " [ 0.20034501 -0.04740952]\n",
      " [ 0.17507977 -0.04587972]\n",
      " [ 0.17850829 -0.0449164 ]\n",
      " [ 0.19757301 -0.04906841]\n",
      " [ 0.22109581 -0.04711573]\n",
      " [ 0.18727798 -0.04864305]\n",
      " [ 0.22274065 -0.0455969 ]\n",
      " [ 0.19864266 -0.04863772]\n",
      " [ 0.23284969 -0.04675544]\n",
      " [ 0.22507093 -0.04717194]\n",
      " [ 0.20905054 -0.04729172]\n",
      " [ 0.22969095 -0.05016786]\n",
      " [ 0.24095901 -0.04960448]\n",
      " [ 0.19339481 -0.04905157]\n",
      " [ 0.19673672 -0.04826227]\n",
      " [ 0.1644927  -0.04513263]\n",
      " [ 0.17904809 -0.04723988]\n",
      " [ 0.18798087 -0.04768409]\n",
      " [ 0.19898022 -0.0463897 ]\n",
      " [ 0.18595164 -0.04646703]\n",
      " [ 0.24214092 -0.04772506]\n",
      " [ 0.21572078 -0.04644759]\n",
      " [ 0.20450193 -0.04544296]\n",
      " [ 0.2294313  -0.04953667]\n",
      " [ 0.19409816 -0.04789859]\n",
      " [ 0.16646478 -0.04552984]\n",
      " [ 0.18265793 -0.04637372]\n",
      " [ 0.21067286 -0.04473437]\n",
      " [ 0.23233197 -0.04698059]\n",
      " [ 0.20567712 -0.04837201]\n",
      " [ 0.19271689 -0.04697418]\n",
      " [ 0.19898833 -0.04998135]\n",
      " [ 0.19891811 -0.04573077]\n",
      " [ 0.18774825 -0.04871518]\n",
      " [ 0.23917588 -0.04687623]\n",
      " [ 0.19778332 -0.04584235]\n",
      " [ 0.24201654 -0.0471974 ]\n",
      " [ 0.22131055 -0.04784867]\n",
      " [ 0.21253743 -0.04526293]\n",
      " [ 0.22543148 -0.04754552]\n",
      " [ 0.18220606 -0.04594745]\n",
      " [ 0.20641784 -0.04666713]\n",
      " [ 0.20472451 -0.0469267 ]\n",
      " [ 0.22755201 -0.04624994]\n",
      " [ 0.19885956 -0.04651535]\n",
      " [ 0.24926824 -0.04857432]\n",
      " [ 0.1827268  -0.04749892]\n",
      " [ 0.22085736 -0.04553033]\n",
      " [ 0.23999035 -0.04928954]\n",
      " [ 0.20589446 -0.04995788]\n",
      " [ 0.19498625 -0.04676881]\n",
      " [ 0.21259821 -0.04796235]\n",
      " [ 0.23004794 -0.04941808]\n",
      " [ 0.22305248 -0.04639965]\n",
      " [ 0.20142571 -0.04508442]\n",
      " [ 0.21590658 -0.04728977]\n",
      " [ 0.22672054 -0.04953487]\n",
      " [ 0.23612931 -0.0472993 ]\n",
      " [ 0.21987772 -0.04706409]\n",
      " [ 0.19143201 -0.04568448]\n",
      " [ 0.17969231 -0.04625435]\n",
      " [ 0.2054438  -0.0490763 ]\n",
      " [ 0.1798586  -0.04773084]\n",
      " [ 0.18625944 -0.04800125]\n",
      " [ 0.16611945 -0.0450005 ]\n",
      " [ 0.21026996 -0.0454961 ]\n",
      " [ 0.20379954 -0.04966642]\n",
      " [ 0.207277   -0.04445408]\n",
      " [ 0.22124078 -0.04952508]\n",
      " [ 0.20526254 -0.04748464]]\n",
      "------------------------------\n"
     ]
    }
   ],
   "source": [
    "# check the results.\n",
    "y_mc.summary()"
   ]
  },
  {
   "cell_type": "code",
   "execution_count": 20,
   "metadata": {},
   "outputs": [
    {
     "name": "stdout",
     "output_type": "stream",
     "text": [
      "Total number of input combinations for the monte_carlo method: 500\n"
     ]
    },
    {
     "name": "stderr",
     "output_type": "stream",
     "text": [
      "Evaluating samples: 100%|██████████| 532/532 [01:21<00:00,  6.49it/s]\n"
     ]
    }
   ],
   "source": [
    "y_mc_end = Propagation(vars_epi, coef_xfoil, \n",
    "                    # n_sam = 500, \n",
    "                    method = 'monte_carlo_endpoints')"
   ]
  },
  {
   "cell_type": "code",
   "execution_count": 21,
   "metadata": {},
   "outputs": [
    {
     "data": {
      "image/png": "[encoded data removed]",
      "text/plain": [
       "<Figure size 640x480 with 1 Axes>"
      ]
     },
     "metadata": {},
     "output_type": "display_data"
    }
   ],
   "source": [
    "y_mc_end.un[0].display()"
   ]
  },
  {
   "cell_type": "code",
   "execution_count": 22,
   "metadata": {},
   "outputs": [
    {
     "data": {
      "image/png": "[encoded data removed]",
      "text/plain": [
       "<Figure size 640x480 with 1 Axes>"
      ]
     },
     "metadata": {},
     "output_type": "display_data"
    }
   ],
   "source": [
    "y_mc_end.un[1].display()"
   ]
  },
  {
   "cell_type": "code",
   "execution_count": 44,
   "metadata": {},
   "outputs": [
    {
     "name": "stdout",
     "output_type": "stream",
     "text": [
      "Total number of input combinations for the latin_hypercube method: 500\n"
     ]
    },
    {
     "name": "stderr",
     "output_type": "stream",
     "text": [
      "Evaluating samples: 100%|██████████| 500/500 [01:45<00:00,  4.76it/s]\n"
     ]
    }
   ],
   "source": [
    "y_lhs = Propagation(vars_epi, coef_xfoil, \n",
    "                    # n_sam = 500, \n",
    "                    method = \"latin_hypercube\")"
   ]
  },
  {
   "cell_type": "code",
   "execution_count": 23,
   "metadata": {},
   "outputs": [
    {
     "name": "stdout",
     "output_type": "stream",
     "text": [
      "Total number of input combinations for the endpoints Cauchy deviates method: 500\n"
     ]
    },
    {
     "name": "stderr",
     "output_type": "stream",
     "text": [
      "Calculating Cauchy deviates:   3%|▎         | 14/500 [00:02<01:23,  5.83it/s]C:\\Users\\Ioanna\\AppData\\Local\\Temp\\ipykernel_37036\\3633351781.py:73: UserWarning: loadtxt: input contained no data: \"C:\\Users\\Ioanna\\Documents\\GitHub\\daws2\\xfoil_workshop\\output_up.txt\"\n",
      "  results = np.loadtxt((\"C:\\\\Users\\\\Ioanna\\\\Documents\\\\GitHub\\\\daws2\\\\xfoil_workshop\\\\output_up.txt\"),\n",
      "Calculating Cauchy deviates:   3%|▎         | 16/500 [00:04<04:21,  1.85it/s]"
     ]
    },
    {
     "name": "stdout",
     "output_type": "stream",
     "text": [
      "Error: XFOIL output file is empty or has unexpected format.\n"
     ]
    },
    {
     "name": "stderr",
     "output_type": "stream",
     "text": [
      "Calculating Cauchy deviates:   6%|▋         | 32/500 [00:06<01:15,  6.18it/s]"
     ]
    },
    {
     "name": "stdout",
     "output_type": "stream",
     "text": [
      "Error: XFOIL output file is empty or has unexpected format.\n"
     ]
    },
    {
     "name": "stderr",
     "output_type": "stream",
     "text": [
      "Calculating Cauchy deviates:   8%|▊         | 42/500 [00:08<01:19,  5.78it/s]"
     ]
    },
    {
     "name": "stdout",
     "output_type": "stream",
     "text": [
      "Error: XFOIL output file is empty or has unexpected format.\n"
     ]
    },
    {
     "name": "stderr",
     "output_type": "stream",
     "text": [
      "Calculating Cauchy deviates:  17%|█▋        | 84/500 [00:15<01:05,  6.38it/s]"
     ]
    },
    {
     "name": "stdout",
     "output_type": "stream",
     "text": [
      "Error: XFOIL output file is empty or has unexpected format.\n"
     ]
    },
    {
     "name": "stderr",
     "output_type": "stream",
     "text": [
      "Calculating Cauchy deviates:  21%|██▏       | 107/500 [00:19<01:10,  5.59it/s]"
     ]
    },
    {
     "name": "stdout",
     "output_type": "stream",
     "text": [
      "Error: XFOIL output file is empty or has unexpected format.\n"
     ]
    },
    {
     "name": "stderr",
     "output_type": "stream",
     "text": [
      "Calculating Cauchy deviates:  24%|██▎       | 118/500 [00:21<01:07,  5.65it/s]"
     ]
    },
    {
     "name": "stdout",
     "output_type": "stream",
     "text": [
      "Error: XFOIL output file is empty or has unexpected format.\n"
     ]
    },
    {
     "name": "stderr",
     "output_type": "stream",
     "text": [
      "Calculating Cauchy deviates:  30%|██▉       | 148/500 [00:26<01:01,  5.75it/s]"
     ]
    },
    {
     "name": "stdout",
     "output_type": "stream",
     "text": [
      "Error: XFOIL output file is empty or has unexpected format.\n"
     ]
    },
    {
     "name": "stderr",
     "output_type": "stream",
     "text": [
      "Calculating Cauchy deviates:  38%|███▊      | 191/500 [00:33<00:51,  6.05it/s]"
     ]
    },
    {
     "name": "stdout",
     "output_type": "stream",
     "text": [
      "Error: XFOIL output file is empty or has unexpected format.\n"
     ]
    },
    {
     "name": "stderr",
     "output_type": "stream",
     "text": [
      "Calculating Cauchy deviates:  43%|████▎     | 214/500 [00:37<00:47,  6.00it/s]"
     ]
    },
    {
     "name": "stdout",
     "output_type": "stream",
     "text": [
      "Error: XFOIL output file is empty or has unexpected format.\n"
     ]
    },
    {
     "name": "stderr",
     "output_type": "stream",
     "text": [
      "Calculating Cauchy deviates:  44%|████▍     | 221/500 [00:38<00:46,  6.03it/s]"
     ]
    },
    {
     "name": "stdout",
     "output_type": "stream",
     "text": [
      "Error: XFOIL output file is empty or has unexpected format.\n"
     ]
    },
    {
     "name": "stderr",
     "output_type": "stream",
     "text": [
      "Calculating Cauchy deviates:  50%|█████     | 251/500 [00:43<00:41,  6.06it/s]"
     ]
    },
    {
     "name": "stdout",
     "output_type": "stream",
     "text": [
      "Error: XFOIL output file is empty or has unexpected format.\n"
     ]
    },
    {
     "name": "stderr",
     "output_type": "stream",
     "text": [
      "Calculating Cauchy deviates:  69%|██████▉   | 347/500 [00:59<00:30,  4.97it/s]"
     ]
    },
    {
     "name": "stdout",
     "output_type": "stream",
     "text": [
      "Error: XFOIL output file is empty or has unexpected format.\n"
     ]
    },
    {
     "name": "stderr",
     "output_type": "stream",
     "text": [
      "Calculating Cauchy deviates:  71%|███████   | 354/500 [01:02<01:19,  1.83it/s]"
     ]
    },
    {
     "name": "stdout",
     "output_type": "stream",
     "text": [
      "Error: XFOIL output file is empty or has unexpected format.\n"
     ]
    },
    {
     "name": "stderr",
     "output_type": "stream",
     "text": [
      "Calculating Cauchy deviates:  74%|███████▍  | 372/500 [01:05<00:19,  6.66it/s]"
     ]
    },
    {
     "name": "stdout",
     "output_type": "stream",
     "text": [
      "Error: XFOIL output file is empty or has unexpected format.\n"
     ]
    },
    {
     "name": "stderr",
     "output_type": "stream",
     "text": [
      "Calculating Cauchy deviates:  78%|███████▊  | 390/500 [01:08<00:24,  4.48it/s]"
     ]
    },
    {
     "name": "stdout",
     "output_type": "stream",
     "text": [
      "Error: XFOIL output file is empty or has unexpected format.\n"
     ]
    },
    {
     "name": "stderr",
     "output_type": "stream",
     "text": [
      "Calculating Cauchy deviates:  81%|████████  | 403/500 [01:11<00:16,  5.81it/s]"
     ]
    },
    {
     "name": "stdout",
     "output_type": "stream",
     "text": [
      "Error: XFOIL output file is empty or has unexpected format.\n"
     ]
    },
    {
     "name": "stderr",
     "output_type": "stream",
     "text": [
      "Calculating Cauchy deviates:  81%|████████  | 405/500 [01:11<00:15,  6.27it/s]"
     ]
    },
    {
     "name": "stdout",
     "output_type": "stream",
     "text": [
      "Error: XFOIL output file is empty or has unexpected format.\n"
     ]
    },
    {
     "name": "stderr",
     "output_type": "stream",
     "text": [
      "Calculating Cauchy deviates:  82%|████████▏ | 412/500 [01:12<00:16,  5.36it/s]"
     ]
    },
    {
     "name": "stdout",
     "output_type": "stream",
     "text": [
      "Error: XFOIL output file is empty or has unexpected format.\n"
     ]
    },
    {
     "name": "stderr",
     "output_type": "stream",
     "text": [
      "Calculating Cauchy deviates: 100%|██████████| 500/500 [01:27<00:00,  5.73it/s]\n"
     ]
    },
    {
     "name": "stdout",
     "output_type": "stream",
     "text": [
      "Input x for min max y are NOT available for the Cauchy method!\n"
     ]
    }
   ],
   "source": [
    "y_cauchy = Propagation(vars_epi, coef_xfoil, \n",
    "                    # n_sam = 500, \n",
    "                    method = 'cauchy')"
   ]
  },
  {
   "cell_type": "code",
   "execution_count": 24,
   "metadata": {},
   "outputs": [
    {
     "data": {
      "image/png": "[encoded data removed]",
      "text/plain": [
       "<Figure size 640x480 with 1 Axes>"
      ]
     },
     "metadata": {},
     "output_type": "display_data"
    }
   ],
   "source": [
    "y_cauchy.un[0].display()"
   ]
  },
  {
   "cell_type": "code",
   "execution_count": 25,
   "metadata": {},
   "outputs": [
    {
     "data": {
      "image/png": "[encoded data removed]",
      "text/plain": [
       "<Figure size 640x480 with 1 Axes>"
      ]
     },
     "metadata": {},
     "output_type": "display_data"
    }
   ],
   "source": [
    "y_cauchy.un[1].display()"
   ]
  },
  {
   "cell_type": "code",
   "execution_count": 26,
   "metadata": {},
   "outputs": [
    {
     "data": {
      "text/plain": [
       "array([-0.0505043, -0.0440319])"
      ]
     },
     "execution_count": 26,
     "metadata": {},
     "output_type": "execute_result"
    }
   ],
   "source": [
    "y_cauchy.un[1].bounds\n"
   ]
  },
  {
   "cell_type": "markdown",
   "metadata": {},
   "source": [
    "### Optimisation methods"
   ]
  },
  {
   "cell_type": "code",
   "execution_count": null,
   "metadata": {},
   "outputs": [],
   "source": []
  },
  {
   "cell_type": "code",
   "execution_count": null,
   "metadata": {},
   "outputs": [],
   "source": []
  },
  {
   "cell_type": "code",
   "execution_count": null,
   "metadata": {},
   "outputs": [],
   "source": []
  },
  {
   "cell_type": "code",
   "execution_count": null,
   "metadata": {},
   "outputs": [],
   "source": []
  },
  {
   "cell_type": "markdown",
   "metadata": {},
   "source": [
    "Plotting the intervals"
   ]
  },
  {
   "cell_type": "code",
   "execution_count": 49,
   "metadata": {},
   "outputs": [],
   "source": [
    "import matplotlib.pyplot as plt\n",
    "import matplotlib.cm as cm\n",
    "\n",
    "def plot_interval(vars, colors=None, xlabel= None, labels: list= None, vlines:list=None):\n",
    "    \"\"\"\n",
    "    Plots an interval on a Matplotlib plot.\n",
    "\n",
    "    args:\n",
    "        interval (np.ndarray or list): The interval to plot.\n",
    "        color (str, optional): The color of the interval line. If None, it cycles through default colors. Defaults to None.\n",
    "        label (str, optional): The label for the interval in the legend. Defaults to None.\n",
    "        vline (float, optional): x-coordinate for the vertical line. If None, no vertical line is plotted. Defaults to None.\n",
    "    \"\"\"\n",
    "    intervals = np.zeros((len(vars), 2))\n",
    "    for i, un in enumerate(vars):\n",
    "        intervals[i, :] = un.bounds  # Get an np.array of bounds for all vars\n",
    "\n",
    "    # Automatic color cycling if colors is not provided\n",
    "    if colors is None:\n",
    "        cmap = cm.get_cmap('tab10')  # Use 'tab10' colormap\n",
    "        colors = [cmap(i % 10) for i in range(len(vars))]  # Generate a list of colors\n",
    "\n",
    "\n",
    "    if labels is None:\n",
    "        labels = np.zeros((len(vars)))\n",
    "        for i, un in enumerate(vars):\n",
    "            labels[i, :] = un.symbol  # Get an np.array of bounds for all vars\n",
    " \n",
    "    for i, interval in enumerate(intervals):\n",
    "        if isinstance(interval, np.ndarray) and interval.size == 2:\n",
    "            lower_bound, upper_bound = interval[0], interval[1]\n",
    "        elif isinstance(interval, list) and len(interval) == 2:\n",
    "            lower_bound, upper_bound = interval[0], interval[1]\n",
    "        else:\n",
    "            raise ValueError(f\"Invalid interval format for interval {i + 1}. Please provide a NumPy array or a list with two elements [lower_bound, upper_bound].\")\n",
    "\n",
    "        plt.plot([lower_bound, upper_bound],[1, 1], color=colors[i], linewidth=2, label=labels[i])\n",
    "        plt.plot([lower_bound, lower_bound],[0, 1], color=colors[i], linewidth=1)  # Vertical line at lower bound\n",
    "        plt.plot([upper_bound, upper_bound],[0, 1], color=colors[i], linewidth=1)  # Vertical line at upper bound\n",
    "\n",
    "    if isinstance(vlines, list) and all(isinstance(v, (float)) for v in vlines):\n",
    "        for x_coord in vlines:\n",
    "            plt.axvline(x=x_coord, color='black', linestyle='--', linewidth=3)\n",
    "    else:  \n",
    "        print(\"Invalid input for vlines. Please provide a list of numeric x-coordinates.\")\n",
    "\n",
    "     # Add legend if any labels are provided\n",
    "    if any(labels):\n",
    "        plt.legend()\n",
    "\n",
    "    # Add x and y axis labels\n",
    "    plt.xlabel(xlabel, fontsize=14)  \n",
    "    plt.ylabel(\"Cumulative Probability\", fontsize=14) \n",
    "    # Increase font size for axis numbers\n",
    "    plt.xticks(fontsize=12)\n",
    "    plt.yticks(fontsize=12)\n"
   ]
  },
  {
   "cell_type": "code",
   "execution_count": 50,
   "metadata": {},
   "outputs": [
    {
     "name": "stderr",
     "output_type": "stream",
     "text": [
      "C:\\Users\\Ioanna\\AppData\\Local\\Temp\\ipykernel_37036\\3143960624.py:20: MatplotlibDeprecationWarning: The get_cmap function was deprecated in Matplotlib 3.7 and will be removed in 3.11. Use ``matplotlib.colormaps[name]`` or ``matplotlib.colormaps.get_cmap()`` or ``pyplot.get_cmap()`` instead.\n",
      "  cmap = cm.get_cmap('tab10')  # Use 'tab10' colormap\n"
     ]
    },
    {
     "data": {
      "image/png": "[encoded data removed]",
      "text/plain": [
       "<Figure size 640x480 with 1 Axes>"
      ]
     },
     "metadata": {},
     "output_type": "display_data"
    }
   ],
   "source": [
    "#plotting the lift coefficient\n",
    "vars = [y_end.un[0], y_sub.un[0], y_mc.un[0], y_mc_end.un[0],y_lhs.un[0], y_cauchy.un[0]]\n",
    "labels = ['endpoints', 'subinterval', 'monte carlo', 'monte carlo + endpoints','latin_hypercube',  'cauchy']\n",
    "\n",
    "_= plot_interval(vars, colors=None, xlabel= \"lift coefficient\" , labels= labels, vlines =[0.155, 0.265])\n"
   ]
  },
  {
   "cell_type": "code",
   "execution_count": 51,
   "metadata": {},
   "outputs": [
    {
     "name": "stderr",
     "output_type": "stream",
     "text": [
      "C:\\Users\\Ioanna\\AppData\\Local\\Temp\\ipykernel_37036\\3143960624.py:20: MatplotlibDeprecationWarning: The get_cmap function was deprecated in Matplotlib 3.7 and will be removed in 3.11. Use ``matplotlib.colormaps[name]`` or ``matplotlib.colormaps.get_cmap()`` or ``pyplot.get_cmap()`` instead.\n",
      "  cmap = cm.get_cmap('tab10')  # Use 'tab10' colormap\n"
     ]
    },
    {
     "data": {
      "image/png": "[encoded data removed]",
      "text/plain": [
       "<Figure size 640x480 with 1 Axes>"
      ]
     },
     "metadata": {},
     "output_type": "display_data"
    }
   ],
   "source": [
    "#plotting the moment coefficient\n",
    "vars = [y_end.un[1], y_sub.un[1], y_mc.un[1], y_mc_end.un[1],y_lhs.un[1],y_cauchy.un[1]]\n",
    "labels = ['endpoints', 'subinterval', 'monte carlo', 'monte carlo + endpoints','latin_hypercube',  'cauchy']\n",
    "\n",
    "_= plot_interval(vars, colors=None, xlabel= \"moment coefficient\" , labels= labels, vlines =[-0.050,-0.044])\n"
   ]
  },
  {
   "cell_type": "markdown",
   "metadata": {},
   "source": [
    "***\n",
    "<a id=\"propagate_epistemic_uncertainty\"></a>\n",
    "# Mixed uncertainty"
   ]
  },
  {
   "cell_type": "code",
   "execution_count": null,
   "metadata": {},
   "outputs": [],
   "source": []
  },
  {
   "cell_type": "code",
   "execution_count": null,
   "metadata": {},
   "outputs": [],
   "source": []
  },
  {
   "cell_type": "code",
   "execution_count": null,
   "metadata": {},
   "outputs": [],
   "source": []
  }
 ],
 "metadata": {
  "kernelspec": {
   "display_name": "Python 3",
   "language": "python",
   "name": "python3"
  },
  "language_info": {
   "codemirror_mode": {
    "name": "ipython",
    "version": 3
   },
   "file_extension": ".py",
   "mimetype": "text/x-python",
   "name": "python",
   "nbconvert_exporter": "python",
   "pygments_lexer": "ipython3",
   "version": "3.12.4"
  }
 },
 "nbformat": 4,
 "nbformat_minor": 4
}
