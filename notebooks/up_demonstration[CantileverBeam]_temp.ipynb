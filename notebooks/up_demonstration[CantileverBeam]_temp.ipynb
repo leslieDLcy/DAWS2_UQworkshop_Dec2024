{
 "cells": [
  {
   "cell_type": "markdown",
   "metadata": {
    "jp-MarkdownHeadingCollapsed": true
   },
   "source": [
    "This notebook is written by the DAWS2 UQ team based in Univ. of Liverpool for the workshop of UQ & M of the DAWS2 project.\n",
    "\n",
    "Uncertainty Quantification & Management\n",
    "--\n",
    "\n",
    "\n",
    "DAWS2 UQ team: {Scott Ferson, Ioanna,  [(Leslie) Yu Chen](https://yuchenakaleslie.github.io/)}\n",
    "\n",
    "All rights reserved.\n",
    "\n",
    "==================="
   ]
  },
  {
   "cell_type": "markdown",
   "metadata": {},
   "source": [
    "## Table of Contents\n",
    "#### [1. Setup](#Setup)\n",
    "#### [2. Problem statement](#problem_statement)\n",
    "#### [3. Create propagating function](#create_propagating_function)\n",
    "#### [4. Epistemic uncertainty](#propagate_epistemic_uncertainty)\n",
    "#### <small>[4.1. Uncertainty Characterisation](#4.1-uncertainty-characterisation)</small>\n",
    "#### <small>[4.2. Uncertainty propagation methods](#4.2-uncertainty-propatation-methods)</small>\n",
    "##### <small>[4.2.1. Endpoints propagation](#4.2.1-Endpoints-propatation)</small>\n",
    "##### <small>[4.2.2. Subinterval reconstitution propagation](#4.2.2.-Subinterval-reconstitution-propagation)</small>\n",
    "##### <small>[4.2.3. Sampling propagation](#4.2.3.-Sampling-propagation)</small>\n",
    "##### <small>[4.2.4. Optimisation methods](#4.2.3.-Optimisation-methods)</small>\n",
    "#### [5. Aleatory uncertainty](#aleatory_uncertainty_propagation)\n",
    "#### [5. Mixed types of uncertainty](#mixed_uncertainty_propagation)"
   ]
  },
  {
   "cell_type": "markdown",
   "metadata": {},
   "source": [
    "***\n",
    "<a id=\"setup\"></a>\n",
    "# 1. Setup\n",
    "\n",
    "Import the libraries"
   ]
  },
  {
   "cell_type": "code",
   "execution_count": 9,
   "metadata": {},
   "outputs": [],
   "source": [
    "import numpy as np\n",
    "from pyuncertainnumber.propagation.uncertaintyPropagation import Propagation, epistemic_propagation, aleatory_propagation, mixed_propagation\n",
    "from pyuncertainnumber import UncertainNumber as UN\n",
    "import matplotlib.pyplot as plt"
   ]
  },
  {
   "cell_type": "code",
   "execution_count": 10,
   "metadata": {},
   "outputs": [
    {
     "name": "stdout",
     "output_type": "stream",
     "text": [
      "The autoreload extension is already loaded. To reload it, use:\n",
      "  %reload_ext autoreload\n",
      "The rich extension is already loaded. To reload it, use:\n",
      "  %reload_ext rich\n"
     ]
    }
   ],
   "source": [
    "%load_ext autoreload\n",
    "%autoreload 2\n",
    "%load_ext rich"
   ]
  },
  {
   "cell_type": "code",
   "execution_count": 11,
   "metadata": {},
   "outputs": [],
   "source": [
    "# # import user-defined function\n",
    "\n",
    "# # USER_dir = 'C:\\\\Users\\\\Ioanna\\\\Documents\\\\GitHub\\\\PyUncertainNumber\\\\cantilever_beam'\n",
    "# import sys\n",
    "# sys.path.append(USER_dir)"
   ]
  },
  {
   "cell_type": "markdown",
   "metadata": {},
   "source": [
    "***\n",
    "<a id=\"problem_statement\"></a>\n",
    "# 2. Problem statement\n",
    "\n",
    "The numerical example models a simple cantilever beam with length, $L$, distance to the neutral axis $y$, Young’s modulus, $E$, second moment of inertia, $I$, and external load, $F$. We will compute the bending stress $σ$, and the deflection $d$, assuming the above input parameters are **uncertain numbers**.\n",
    "\n",
    "We will use this example throughout the document to illustrate the differences among various uncertainty quantification approaches. A complete description of the following methods can be found in the [DAWS1 report](https://sites.google.com/view/dawsreports/up).\n",
    "\n",
    "![alt text](../assets/cantilever.png)\n",
    "\n",
    "**Fig.1** Cantilever beam with input parameters.  "
   ]
  },
  {
   "cell_type": "markdown",
   "metadata": {},
   "source": [
    "***\n",
    "<a id=\"create_propagating_function\"></a>\n",
    "# 3. Create the propagating function\n",
    "\n",
    "\n",
    "A propagating function is created which calculates the deflection, $d$, as a function of $L$, $E$, $I$, and $F$.\n",
    "- The function's input is only the uncertain numbers.\n",
    "- As sampling techniques are used it is likely that for a certain input combination the airfoil will fail to reach a solution. we use the try function to accomodate for this.\n",
    "\n",
    "\n",
    "Alternatively, such propating function can be imported as a Python function/method object from a certain local directory."
   ]
  },
  {
   "cell_type": "markdown",
   "metadata": {},
   "source": [
    "<a id=\"3.1.-create-function\"></a>\n",
    "\n",
    "## 3.1. Create propagating function"
   ]
  },
  {
   "cell_type": "code",
   "execution_count": 12,
   "metadata": {},
   "outputs": [],
   "source": [
    "def cantilever_beam_deflection(x):\n",
    "    \"\"\"Calculates deflection and stress for a cantilever beam.\n",
    "\n",
    "    Args:\n",
    "        x (np.array): Array of input parameters:\n",
    "            x[0]: Length of the beam (m)\n",
    "            x[1]: Second moment of area (mm^4)\n",
    "            x[2]: Applied force (N)\n",
    "            x[3]: Young's modulus (MPa)\n",
    "\n",
    "    Returns:\n",
    "        float: deflection (m)\n",
    "               Returns np.nan if calculation error occurs.\n",
    "    \"\"\"\n",
    "\n",
    "    beam_length = x[0]\n",
    "    I = x[1]\n",
    "    F = x[2]\n",
    "    E = x[3]\n",
    "    # try:  # try is used to account for cases where the input combinations leads to error in fun due to bugs\n",
    "    #     deflection = F * beam_length**3 / (3 * E * 10**6 * I)  # deflection in m\n",
    "        \n",
    "    # except:\n",
    "    #     deflection = np.nan\n",
    "    \n",
    "    deflection = F * beam_length**3 / (3 * E * 10**6 * I)  # deflection in m\n",
    "    return np.array([deflection])"
   ]
  },
  {
   "cell_type": "code",
   "execution_count": 13,
   "metadata": {},
   "outputs": [
    {
     "data": {
      "text/plain": [
       "\u001b[0;31mSignature:\u001b[0m \u001b[0mcantilever_beam_deflection\u001b[0m\u001b[0;34m(\u001b[0m\u001b[0mx\u001b[0m\u001b[0;34m)\u001b[0m\u001b[0;34m\u001b[0m\u001b[0;34m\u001b[0m\u001b[0m\n",
       "\u001b[0;31mDocstring:\u001b[0m\n",
       "Calculates deflection and stress for a cantilever beam.\n",
       "\n",
       "Args:\n",
       "    x (np.array): Array of input parameters:\n",
       "        x[0]: Length of the beam (m)\n",
       "        x[1]: Second moment of area (mm^4)\n",
       "        x[2]: Applied force (N)\n",
       "        x[3]: Young's modulus (MPa)\n",
       "\n",
       "Returns:\n",
       "    float: deflection (m)\n",
       "           Returns np.nan if calculation error occurs.\n",
       "\u001b[0;31mFile:\u001b[0m      /var/folders/dr/wmmn28yj3ldb2nmth0yqp2mr0000gn/T/ipykernel_97263/3680808391.py\n",
       "\u001b[0;31mType:\u001b[0m      function"
      ]
     },
     "metadata": {},
     "output_type": "display_data"
    }
   ],
   "source": [
    "# know the function with default Python help mechanism\n",
    "cantilever_beam_deflection?"
   ]
  },
  {
   "cell_type": "code",
   "execution_count": 63,
   "metadata": {},
   "outputs": [],
   "source": [
    "# import numpy as np \n",
    "# x = np.array([1.00500000e+01 , 3.86159100e-04 ,-8.24387293e+00 , 2.12872340e+02])\n",
    "# y = cantilever_beam_deflection(x)\n",
    "# print(y)"
   ]
  },
  {
   "cell_type": "markdown",
   "metadata": {},
   "source": [
    "<a id=\"3.2.-Upload-function\"></a>\n",
    "\n",
    "## 3.2. Upload propagating function"
   ]
  },
  {
   "cell_type": "code",
   "execution_count": 15,
   "metadata": {},
   "outputs": [],
   "source": [
    "# Alternatively, such propating function can be imported as a Python function/method object from a certain local directory.\n",
    "from pyuncertainnumber.propagation.performance_func import cb_deflection, cb_stress"
   ]
  },
  {
   "cell_type": "markdown",
   "metadata": {},
   "source": [
    "<a id=\"3.3.-verify-function\"></a>\n",
    "\n",
    "## 3.3. Verify the function\n",
    "\n",
    "To ensure that the function yields meaningful results. We consider that input has the nominal values seen below.\n",
    "\n",
    "The function should yield deflection equal to 0.162m.\n",
    " "
   ]
  },
  {
   "cell_type": "code",
   "execution_count": 16,
   "metadata": {},
   "outputs": [
    {
     "name": "stdout",
     "output_type": "stream",
     "text": [
      "[0.16216658]\n"
     ]
    }
   ],
   "source": [
    "# test the function\n",
    "\n",
    "y  = 0.155 # m\n",
    "L  = 10.05 # m\n",
    "I = 0.000386 # m**4\n",
    "F = 37 # kN\n",
    "E = 200 # GPa\n",
    "\n",
    "x = np.array([L, I, F, E])\n",
    "deflection = cantilever_beam_deflection(x)\n",
    "\n",
    "print(deflection) # 0.162m"
   ]
  },
  {
   "cell_type": "markdown",
   "metadata": {
    "jp-MarkdownHeadingCollapsed": true
   },
   "source": [
    "***\n",
    "<a id=\"propagate_epistemic_uncertainty\"></a>\n",
    "# 4. Epistemic uncertainty\n",
    "\n",
    "\n",
    "Construct `UncertainNumbers` objects for the inputs assuming they are intervals with the lower and upper values are seen below\n",
    "\n",
    "- $y = [0.145, 0.155] \\ m$\n",
    "\n",
    "- $L = [9.95, 10.05] \\ m$\n",
    "\n",
    "- $I = [0.0003861591, 0.0005213425] \\ m^{4}$\n",
    "\n",
    "- $F = [11, 37] \\ kN$\n",
    "\n",
    "- $E = [200, 220] \\ GPa$\n",
    "\n",
    "\n",
    "Choose from a suite of black box propagating techniques to propagate the intervals through the model. "
   ]
  },
  {
   "cell_type": "code",
   "execution_count": 17,
   "metadata": {},
   "outputs": [],
   "source": [
    "#y = UN(name='beam width', symbol='y', units='m', essence='interval', bounds=[0.145, 0.155]) # Required only for stress estimation\n",
    "L = UN(name='beam length', symbol='L', units='m', essence='interval', bounds= [9.95, 10.05])\n",
    "I = UN(name='moment of inertia', symbol='I', units='m', essence='interval', bounds= [0.0003861591, 0.0005213425])\n",
    "F = UN(name='vertical force', symbol='F', units='kN', essence='interval', bounds= [11, 37])\n",
    "E = UN(name='elastic modulus', symbol='E', units='GPa', essence='interval', bounds=[200, 220])"
   ]
  },
  {
   "cell_type": "code",
   "execution_count": 18,
   "metadata": {},
   "outputs": [],
   "source": [
    "defl = cantilever_beam_deflection([L, I, F, E])"
   ]
  },
  {
   "cell_type": "code",
   "execution_count": 19,
   "metadata": {},
   "outputs": [
    {
     "data": {
      "text/html": [
       "<pre style=\"white-space:pre;overflow-x:auto;line-height:normal;font-family:Menlo,'DejaVu Sans Mono',consolas,'Courier New',monospace\"></pre>\n"
      ],
      "text/plain": []
     },
     "metadata": {},
     "output_type": "display_data"
    },
    {
     "data": {
      "text/plain": [
       "\n",
       "\u001b[1;35marray\u001b[0m\u001b[1m(\u001b[0m\u001b[1m[\u001b[0m\u001b[1;35mUncertainNumber\u001b[0m\u001b[1m(\u001b[0m\u001b[33messence\u001b[0m=\u001b[32m'interval'\u001b[0m, \u001b[33mbounds\u001b[0m=\u001b[35mInterval\u001b[0m \u001b[1m[\u001b[0m\u001b[1;36m0.0314916\u001b[0m, \u001b[1;36m0.1621\u001b[0m\u001b[1m]\u001b[0m, \u001b[33m_construct\u001b[0m=\u001b[35mInterval\u001b[0m \u001b[1m[\u001b[0m\u001b[1;36m0.0314916\u001b[0m, \u001b[1;36m0.1621\u001b[0m\u001b[1m]\u001b[0m, \u001b[33mnaked_value\u001b[0m=\u001b[1;36m0\u001b[0m\u001b[1;36m.09679568741716935\u001b[0m\u001b[1m)\u001b[0m\u001b[1m]\u001b[0m,\n",
       "      \u001b[33mdtype\u001b[0m=\u001b[35mobject\u001b[0m\u001b[1m)\u001b[0m"
      ]
     },
     "execution_count": 19,
     "metadata": {},
     "output_type": "execute_result"
    }
   ],
   "source": [
    "defl"
   ]
  },
  {
   "cell_type": "markdown",
   "metadata": {},
   "source": [
    "<a id=\"4.2.1.-Endpoints-propatation\"></a>\n",
    "\n",
    "### 4.2.1. Endpoint propagation\n",
    "\n",
    "The endpoint propagation method (Dong and Shah, 1987) is a straightforward way to project intervals through the code, by projecting all input combinations produced by the Cartesian product of the interval bounds. This results in a total of $n = 2^{d}$. \n",
    "\n",
    "For the working example, there are d = 5 intervals which results in $n = 2^{5} = 32$ input combinations.\n",
    "\n",
    "#### Assumptions\n",
    "\n",
    "\n"
   ]
  },
  {
   "cell_type": "markdown",
   "metadata": {},
   "source": [
    "- [x] Ioanna's original top-level UP function with  the 'endspoints' method"
   ]
  },
  {
   "cell_type": "markdown",
   "metadata": {},
   "source": [
    "- [x] Leslie's standalone endspoints implementation"
   ]
  },
  {
   "cell_type": "code",
   "execution_count": 20,
   "metadata": {},
   "outputs": [
    {
     "name": "stdout",
     "output_type": "stream",
     "text": [
      "Total number of input combinations for the endpoint method: 16\n"
     ]
    },
    {
     "name": "stderr",
     "output_type": "stream",
     "text": [
      "Evaluating samples: 100%|█████████████████████████████████████████████████████████████████████████████████████████████████████████| 16/16 [00:00<00:00, 152520.15it/s]\n"
     ]
    }
   ],
   "source": [
    "METHOD = \"endpoints\"\n",
    "\n",
    "a = Propagation(vars=[L, I, F, E], \n",
    "          fun=cantilever_beam_deflection, \n",
    "          method = METHOD,\n",
    "          save_raw_data = \"no\" \n",
    "        #   save_raw_data = \"yes\", \n",
    "        #   base_path = USER_dir\n",
    "         )                 "
   ]
  },
  {
   "cell_type": "code",
   "execution_count": 23,
   "metadata": {},
   "outputs": [
    {
     "data": {
      "text/html": [
       "<pre style=\"white-space:pre;overflow-x:auto;line-height:normal;font-family:Menlo,'DejaVu Sans Mono',consolas,'Courier New',monospace\"></pre>\n"
      ],
      "text/plain": []
     },
     "metadata": {},
     "output_type": "display_data"
    },
    {
     "data": {
      "text/plain": [
       "\u001b[1;35mUncertainNumber\u001b[0m\u001b[1m(\u001b[0m\u001b[33messence\u001b[0m=\u001b[32m'interval'\u001b[0m, \u001b[33mbounds\u001b[0m=\u001b[1;35marray\u001b[0m\u001b[1m(\u001b[0m\u001b[1m[\u001b[0m\u001b[1;36m0.03149161\u001b[0m, \u001b[1;36m0.16209977\u001b[0m\u001b[1m]\u001b[0m\u001b[1m)\u001b[0m, \u001b[33m_construct\u001b[0m=\u001b[35mInterval\u001b[0m \u001b[1m[\u001b[0m\u001b[1;36m0.0314916\u001b[0m, \u001b[1;36m0.1621\u001b[0m\u001b[1m]\u001b[0m, \u001b[33mnaked_value\u001b[0m=\u001b[1;35mnp\u001b[0m\u001b[1;35m.float64\u001b[0m\u001b[1m(\u001b[0m\u001b[1;36m0.09679568741716935\u001b[0m\u001b[1m)\u001b[0m\u001b[1m)\u001b[0m"
      ]
     },
     "execution_count": 23,
     "metadata": {},
     "output_type": "execute_result"
    }
   ],
   "source": [
    "a.un"
   ]
  },
  {
   "cell_type": "markdown",
   "metadata": {},
   "source": [
    "<a id=\"4.2.2.-Subinterval-reconstitution-propagation\"></a>\n",
    "\n",
    "### 4.2.2. Subinterval reconstitution propagation\n",
    "\n",
    "The input intervals are partitioned into smaller intervals, which are then propagated through the model using endpoint propagation and the output interval can be reassembled (Ferson and Hajagos, 2004)."
   ]
  },
  {
   "cell_type": "code",
   "execution_count": 24,
   "metadata": {},
   "outputs": [
    {
     "name": "stdout",
     "output_type": "stream",
     "text": [
      "Total number of input combinations for the subinterval method: 256\n"
     ]
    },
    {
     "name": "stderr",
     "output_type": "stream",
     "text": [
      "Evaluating samples: 100%|███████████████████████████████████████████████████████████████████████████████████████████████████████| 256/256 [00:00<00:00, 535799.31it/s]\n"
     ]
    }
   ],
   "source": [
    "METHOD = \"subinterval\"\n",
    "\n",
    "a = Propagation(vars=[L, I, F, E], \n",
    "          fun=cantilever_beam_deflection, \n",
    "          method = METHOD,\n",
    "          save_raw_data = \"no\" \n",
    "        #   save_raw_data = \"yes\", \n",
    "        #   base_path = USER_dir\n",
    "         )        "
   ]
  },
  {
   "cell_type": "code",
   "execution_count": 25,
   "metadata": {},
   "outputs": [
    {
     "data": {
      "text/html": [
       "<pre style=\"white-space:pre;overflow-x:auto;line-height:normal;font-family:Menlo,'DejaVu Sans Mono',consolas,'Courier New',monospace\"></pre>\n"
      ],
      "text/plain": []
     },
     "metadata": {},
     "output_type": "display_data"
    },
    {
     "data": {
      "text/plain": [
       "\u001b[1;35mUncertainNumber\u001b[0m\u001b[1m(\u001b[0m\u001b[33messence\u001b[0m=\u001b[32m'interval'\u001b[0m, \u001b[33mbounds\u001b[0m=\u001b[1;35marray\u001b[0m\u001b[1m(\u001b[0m\u001b[1m[\u001b[0m\u001b[1;36m0.03149161\u001b[0m, \u001b[1;36m0.16209977\u001b[0m\u001b[1m]\u001b[0m\u001b[1m)\u001b[0m, \u001b[33m_construct\u001b[0m=\u001b[35mInterval\u001b[0m \u001b[1m[\u001b[0m\u001b[1;36m0.0314916\u001b[0m, \u001b[1;36m0.1621\u001b[0m\u001b[1m]\u001b[0m, \u001b[33mnaked_value\u001b[0m=\u001b[1;35mnp\u001b[0m\u001b[1;35m.float64\u001b[0m\u001b[1m(\u001b[0m\u001b[1;36m0.09679568741716935\u001b[0m\u001b[1m)\u001b[0m\u001b[1m)\u001b[0m"
      ]
     },
     "execution_count": 25,
     "metadata": {},
     "output_type": "execute_result"
    }
   ],
   "source": [
    "a.un"
   ]
  },
  {
   "cell_type": "markdown",
   "metadata": {},
   "source": [
    "<a id=\"4.2.3.-Sampling-propagation\"></a>\n",
    "\n",
    "### 4.2.3. Sampling propagation\n",
    "\n",
    "- Brute Monte Carlo\n",
    "- Latin Hypercube\n",
    "- Brute Monte Carlo + endpoints\n",
    "- Latin Hypercuve + endpoints"
   ]
  },
  {
   "cell_type": "code",
   "execution_count": 26,
   "metadata": {},
   "outputs": [
    {
     "name": "stdout",
     "output_type": "stream",
     "text": [
      "Total number of input combinations for the monte_carlo method: 1000\n"
     ]
    },
    {
     "name": "stderr",
     "output_type": "stream",
     "text": [
      "Evaluating samples: 100%|█████████████████████████████████████████████████████████████████████████████████████████████████████| 1000/1000 [00:00<00:00, 753016.88it/s]\n"
     ]
    }
   ],
   "source": [
    "METHOD = \"monte_carlo\"\n",
    "\n",
    "a = Propagation(vars=[L, I, F, E], \n",
    "          fun=cantilever_beam_deflection,\n",
    "          n_sam = 1000, \n",
    "          method = METHOD,\n",
    "          save_raw_data = \"no\" \n",
    "        #   save_raw_data = \"yes\", \n",
    "        #   base_path = USER_dir\n",
    "         )        "
   ]
  },
  {
   "cell_type": "code",
   "execution_count": 29,
   "metadata": {},
   "outputs": [
    {
     "data": {
      "text/html": [
       "<pre style=\"white-space:pre;overflow-x:auto;line-height:normal;font-family:Menlo,'DejaVu Sans Mono',consolas,'Courier New',monospace\"></pre>\n"
      ],
      "text/plain": []
     },
     "metadata": {},
     "output_type": "display_data"
    },
    {
     "data": {
      "text/plain": [
       "\u001b[1;35mUncertainNumber\u001b[0m\u001b[1m(\u001b[0m\u001b[33messence\u001b[0m=\u001b[32m'interval'\u001b[0m, \u001b[33mbounds\u001b[0m=\u001b[1;35marray\u001b[0m\u001b[1m(\u001b[0m\u001b[1m[\u001b[0m\u001b[1;36m0.03286865\u001b[0m, \u001b[1;36m0.1567389\u001b[0m \u001b[1m]\u001b[0m\u001b[1m)\u001b[0m, \u001b[33m_construct\u001b[0m=\u001b[35mInterval\u001b[0m \u001b[1m[\u001b[0m\u001b[1;36m0.0328686\u001b[0m, \u001b[1;36m0.156739\u001b[0m\u001b[1m]\u001b[0m, \u001b[33mnaked_value\u001b[0m=\u001b[1;35mnp\u001b[0m\u001b[1;35m.float64\u001b[0m\u001b[1m(\u001b[0m\u001b[1;36m0.09480377530913246\u001b[0m\u001b[1m)\u001b[0m\u001b[1m)\u001b[0m"
      ]
     },
     "execution_count": 29,
     "metadata": {},
     "output_type": "execute_result"
    }
   ],
   "source": [
    "a.un"
   ]
  },
  {
   "cell_type": "code",
   "execution_count": 31,
   "metadata": {},
   "outputs": [
    {
     "name": "stdout",
     "output_type": "stream",
     "text": [
      "Total number of input combinations for the monte_carlo method: 1000\n"
     ]
    },
    {
     "name": "stderr",
     "output_type": "stream",
     "text": [
      "Evaluating samples: 100%|█████████████████████████████████████████████████████████████████████████████████████████████████████| 1000/1000 [00:00<00:00, 724279.74it/s]\n"
     ]
    }
   ],
   "source": [
    "METHOD = \"monte_carlo\"\n",
    "\n",
    "b = epistemic_propagation(vars=[L, I, F, E], \n",
    "          fun=cantilever_beam_deflection,\n",
    "          n_sam = 1000,  \n",
    "          method = METHOD, \n",
    "          save_raw_data = \"no\"\n",
    "        #   save_raw_data = \"yes\", \n",
    "        #   base_path = USER_dir\n",
    "         )"
   ]
  },
  {
   "cell_type": "code",
   "execution_count": 32,
   "metadata": {},
   "outputs": [
    {
     "data": {
      "text/html": [
       "<pre style=\"white-space:pre;overflow-x:auto;line-height:normal;font-family:Menlo,'DejaVu Sans Mono',consolas,'Courier New',monospace\"></pre>\n"
      ],
      "text/plain": []
     },
     "metadata": {},
     "output_type": "display_data"
    },
    {
     "data": {
      "text/plain": [
       "\u001b[1;35mUncertainNumber\u001b[0m\u001b[1m(\u001b[0m\u001b[33messence\u001b[0m=\u001b[32m'interval'\u001b[0m, \u001b[33mbounds\u001b[0m=\u001b[1;35marray\u001b[0m\u001b[1m(\u001b[0m\u001b[1m[\u001b[0m\u001b[1;36m0.03535911\u001b[0m, \u001b[1;36m0.14967499\u001b[0m\u001b[1m]\u001b[0m\u001b[1m)\u001b[0m, \u001b[33m_construct\u001b[0m=\u001b[35mInterval\u001b[0m \u001b[1m[\u001b[0m\u001b[1;36m0.0353591\u001b[0m, \u001b[1;36m0.149675\u001b[0m\u001b[1m]\u001b[0m, \u001b[33mnaked_value\u001b[0m=\u001b[1;35mnp\u001b[0m\u001b[1;35m.float64\u001b[0m\u001b[1m(\u001b[0m\u001b[1;36m0.09251705139529531\u001b[0m\u001b[1m)\u001b[0m\u001b[1m)\u001b[0m"
      ]
     },
     "execution_count": 32,
     "metadata": {},
     "output_type": "execute_result"
    }
   ],
   "source": [
    "b.un"
   ]
  },
  {
   "cell_type": "code",
   "execution_count": 33,
   "metadata": {},
   "outputs": [
    {
     "name": "stdout",
     "output_type": "stream",
     "text": [
      "Total number of input combinations for the monte_carlo method: 1000\n"
     ]
    },
    {
     "name": "stderr",
     "output_type": "stream",
     "text": [
      "Evaluating samples: 100%|█████████████████████████████████████████████████████████████████████████████████████████████████████| 1016/1016 [00:00<00:00, 642165.89it/s]\n"
     ]
    }
   ],
   "source": [
    "METHOD = \"monte_carlo_endpoints\"\n",
    "\n",
    "c = Propagation(vars=[L, I, F, E], \n",
    "          fun=cantilever_beam_deflection,\n",
    "          n_sam = 1000,  \n",
    "          method = METHOD, \n",
    "          save_raw_data = \"no\"\n",
    "        #   save_raw_data = \"yes\", \n",
    "        #   base_path = USER_dir\n",
    "         )"
   ]
  },
  {
   "cell_type": "code",
   "execution_count": 34,
   "metadata": {},
   "outputs": [
    {
     "data": {
      "text/html": [
       "<pre style=\"white-space:pre;overflow-x:auto;line-height:normal;font-family:Menlo,'DejaVu Sans Mono',consolas,'Courier New',monospace\"></pre>\n"
      ],
      "text/plain": []
     },
     "metadata": {},
     "output_type": "display_data"
    },
    {
     "data": {
      "text/plain": [
       "\u001b[1;35mUncertainNumber\u001b[0m\u001b[1m(\u001b[0m\u001b[33messence\u001b[0m=\u001b[32m'interval'\u001b[0m, \u001b[33mbounds\u001b[0m=\u001b[1;35marray\u001b[0m\u001b[1m(\u001b[0m\u001b[1m[\u001b[0m\u001b[1;36m0.03149161\u001b[0m, \u001b[1;36m0.16209977\u001b[0m\u001b[1m]\u001b[0m\u001b[1m)\u001b[0m, \u001b[33m_construct\u001b[0m=\u001b[35mInterval\u001b[0m \u001b[1m[\u001b[0m\u001b[1;36m0.0314916\u001b[0m, \u001b[1;36m0.1621\u001b[0m\u001b[1m]\u001b[0m, \u001b[33mnaked_value\u001b[0m=\u001b[1;35mnp\u001b[0m\u001b[1;35m.float64\u001b[0m\u001b[1m(\u001b[0m\u001b[1;36m0.09679568741716935\u001b[0m\u001b[1m)\u001b[0m\u001b[1m)\u001b[0m"
      ]
     },
     "execution_count": 34,
     "metadata": {},
     "output_type": "execute_result"
    }
   ],
   "source": [
    "c.un"
   ]
  },
  {
   "cell_type": "code",
   "execution_count": 35,
   "metadata": {},
   "outputs": [
    {
     "name": "stdout",
     "output_type": "stream",
     "text": [
      "Total number of input combinations for the monte_carlo method: 1000\n"
     ]
    },
    {
     "name": "stderr",
     "output_type": "stream",
     "text": [
      "Evaluating samples: 100%|█████████████████████████████████████████████████████████████████████████████████████████████████████| 1016/1016 [00:00<00:00, 644691.81it/s]\n"
     ]
    }
   ],
   "source": [
    "METHOD = \"monte_carlo_endpoints\"\n",
    "\n",
    "d = epistemic_propagation(vars=[L, I, F, E], \n",
    "          fun=cantilever_beam_deflection,\n",
    "          n_sam = 1000,  \n",
    "          method = METHOD, \n",
    "          save_raw_data = \"no\"\n",
    "        #   save_raw_data = \"yes\", \n",
    "        #   base_path = USER_dir\n",
    "         )"
   ]
  },
  {
   "cell_type": "code",
   "execution_count": 36,
   "metadata": {},
   "outputs": [
    {
     "data": {
      "text/html": [
       "<pre style=\"white-space:pre;overflow-x:auto;line-height:normal;font-family:Menlo,'DejaVu Sans Mono',consolas,'Courier New',monospace\"></pre>\n"
      ],
      "text/plain": []
     },
     "metadata": {},
     "output_type": "display_data"
    },
    {
     "data": {
      "text/plain": [
       "\u001b[1;35mUncertainNumber\u001b[0m\u001b[1m(\u001b[0m\u001b[33messence\u001b[0m=\u001b[32m'interval'\u001b[0m, \u001b[33mbounds\u001b[0m=\u001b[1;35marray\u001b[0m\u001b[1m(\u001b[0m\u001b[1m[\u001b[0m\u001b[1;36m0.03149161\u001b[0m, \u001b[1;36m0.16209977\u001b[0m\u001b[1m]\u001b[0m\u001b[1m)\u001b[0m, \u001b[33m_construct\u001b[0m=\u001b[35mInterval\u001b[0m \u001b[1m[\u001b[0m\u001b[1;36m0.0314916\u001b[0m, \u001b[1;36m0.1621\u001b[0m\u001b[1m]\u001b[0m, \u001b[33mnaked_value\u001b[0m=\u001b[1;35mnp\u001b[0m\u001b[1;35m.float64\u001b[0m\u001b[1m(\u001b[0m\u001b[1;36m0.09679568741716935\u001b[0m\u001b[1m)\u001b[0m\u001b[1m)\u001b[0m"
      ]
     },
     "execution_count": 36,
     "metadata": {},
     "output_type": "execute_result"
    }
   ],
   "source": [
    "d.un"
   ]
  },
  {
   "cell_type": "markdown",
   "metadata": {},
   "source": [
    "### 4.2.4. Sampling propagation\n",
    "\n",
    "- Latin Hypercube\n",
    "- Latin Hypercuve + endpoints"
   ]
  },
  {
   "cell_type": "code",
   "execution_count": 37,
   "metadata": {},
   "outputs": [
    {
     "name": "stdout",
     "output_type": "stream",
     "text": [
      "Total number of input combinations for the latin_hypercube method: 1000\n"
     ]
    },
    {
     "name": "stderr",
     "output_type": "stream",
     "text": [
      "Evaluating samples: 100%|█████████████████████████████████████████████████████████████████████████████████████████████████████| 1000/1000 [00:00<00:00, 954118.29it/s]\n"
     ]
    }
   ],
   "source": [
    "METHOD = \"latin_hypercube\"\n",
    "\n",
    "a = Propagation(vars=[L, I, F, E], \n",
    "          fun=cantilever_beam_deflection,\n",
    "          n_sam = 1000, \n",
    "          method = METHOD,\n",
    "          save_raw_data = \"no\" \n",
    "        #   save_raw_data = \"yes\", \n",
    "        #   base_path = USER_dir\n",
    "         )        "
   ]
  },
  {
   "cell_type": "code",
   "execution_count": 38,
   "metadata": {},
   "outputs": [
    {
     "data": {
      "text/html": [
       "<pre style=\"white-space:pre;overflow-x:auto;line-height:normal;font-family:Menlo,'DejaVu Sans Mono',consolas,'Courier New',monospace\"></pre>\n"
      ],
      "text/plain": []
     },
     "metadata": {},
     "output_type": "display_data"
    },
    {
     "data": {
      "text/plain": [
       "\u001b[1;35mUncertainNumber\u001b[0m\u001b[1m(\u001b[0m\u001b[33messence\u001b[0m=\u001b[32m'interval'\u001b[0m, \u001b[33mbounds\u001b[0m=\u001b[1;35marray\u001b[0m\u001b[1m(\u001b[0m\u001b[1m[\u001b[0m\u001b[1;36m0.03315123\u001b[0m, \u001b[1;36m0.15256283\u001b[0m\u001b[1m]\u001b[0m\u001b[1m)\u001b[0m, \u001b[33m_construct\u001b[0m=\u001b[35mInterval\u001b[0m \u001b[1m[\u001b[0m\u001b[1;36m0.0331512\u001b[0m, \u001b[1;36m0.152563\u001b[0m\u001b[1m]\u001b[0m, \u001b[33mnaked_value\u001b[0m=\u001b[1;35mnp\u001b[0m\u001b[1;35m.float64\u001b[0m\u001b[1m(\u001b[0m\u001b[1;36m0.09285703033588368\u001b[0m\u001b[1m)\u001b[0m\u001b[1m)\u001b[0m"
      ]
     },
     "execution_count": 38,
     "metadata": {},
     "output_type": "execute_result"
    }
   ],
   "source": [
    "a.un"
   ]
  },
  {
   "cell_type": "code",
   "execution_count": 41,
   "metadata": {},
   "outputs": [],
   "source": [
    "# METHOD = \"latin_hypercube\"\n",
    "\n",
    "# b = epistemic_propagation(vars=['L', 'I', 'F', 'E'], \n",
    "#           fun=cantilever_beam_deflection,\n",
    "#           n_sam = 1000, \n",
    "#           method = METHOD,\n",
    "#           save_raw_data = \"no\" \n",
    "#         #   save_raw_data = \"yes\", \n",
    "#         #   base_path = USER_dir\n",
    "#          )        "
   ]
  },
  {
   "cell_type": "code",
   "execution_count": 40,
   "metadata": {},
   "outputs": [
    {
     "data": {
      "text/html": [
       "<pre style=\"white-space:pre;overflow-x:auto;line-height:normal;font-family:Menlo,'DejaVu Sans Mono',consolas,'Courier New',monospace\"></pre>\n"
      ],
      "text/plain": []
     },
     "metadata": {},
     "output_type": "display_data"
    },
    {
     "data": {
      "text/plain": [
       "\u001b[1;35mUncertainNumber\u001b[0m\u001b[1m(\u001b[0m\u001b[33messence\u001b[0m=\u001b[32m'interval'\u001b[0m, \u001b[33mbounds\u001b[0m=\u001b[1;35marray\u001b[0m\u001b[1m(\u001b[0m\u001b[1m[\u001b[0m\u001b[1;36m0.03535911\u001b[0m, \u001b[1;36m0.14967499\u001b[0m\u001b[1m]\u001b[0m\u001b[1m)\u001b[0m, \u001b[33m_construct\u001b[0m=\u001b[35mInterval\u001b[0m \u001b[1m[\u001b[0m\u001b[1;36m0.0353591\u001b[0m, \u001b[1;36m0.149675\u001b[0m\u001b[1m]\u001b[0m, \u001b[33mnaked_value\u001b[0m=\u001b[1;35mnp\u001b[0m\u001b[1;35m.float64\u001b[0m\u001b[1m(\u001b[0m\u001b[1;36m0.09251705139529531\u001b[0m\u001b[1m)\u001b[0m, \u001b[33m_field_str\u001b[0m=\u001b[32m\"essence\u001b[0m\u001b[32m='interval', \u001b[0m\u001b[32mbounds\u001b[0m\u001b[32m=\u001b[0m\u001b[32marray\u001b[0m\u001b[32m(\u001b[0m\u001b[32m[\u001b[0m\u001b[32m0.03535911, 0.14967499\u001b[0m\u001b[32m]\u001b[0m\u001b[32m)\u001b[0m\u001b[32m, \u001b[0m\u001b[32m_construct\u001b[0m\u001b[32m=\u001b[0m\u001b[32mInterval\u001b[0m\u001b[32m \u001b[0m\u001b[32m[\u001b[0m\u001b[32m0.0353591, 0.149675\u001b[0m\u001b[32m]\u001b[0m\u001b[32m, \u001b[0m\u001b[32mnaked_value\u001b[0m\u001b[32m=\u001b[0m\u001b[32mnp\u001b[0m\u001b[32m.float64\u001b[0m\u001b[32m(\u001b[0m\u001b[32m0.09251705139529531\u001b[0m\u001b[32m)\u001b[0m\u001b[32m\"\u001b[0m\u001b[1m)\u001b[0m"
      ]
     },
     "execution_count": 40,
     "metadata": {},
     "output_type": "execute_result"
    }
   ],
   "source": [
    "b.un"
   ]
  },
  {
   "cell_type": "code",
   "execution_count": 42,
   "metadata": {},
   "outputs": [
    {
     "name": "stdout",
     "output_type": "stream",
     "text": [
      "Total number of input combinations for the latin_hypercube method: 1000\n"
     ]
    },
    {
     "name": "stderr",
     "output_type": "stream",
     "text": [
      "Evaluating samples: 100%|█████████████████████████████████████████████████████████████████████████████████████████████████████| 1016/1016 [00:00<00:00, 622558.49it/s]\n"
     ]
    }
   ],
   "source": [
    "METHOD = \"latin_hypercube_endpoints\"\n",
    "\n",
    "c = Propagation(vars=[L, I, F, E], \n",
    "          fun=cantilever_beam_deflection,\n",
    "          n_sam = 1000, \n",
    "          method = METHOD,\n",
    "          save_raw_data = \"no\" \n",
    "        #   save_raw_data = \"yes\", \n",
    "        #   base_path = USER_dir\n",
    "         )       "
   ]
  },
  {
   "cell_type": "code",
   "execution_count": 43,
   "metadata": {},
   "outputs": [
    {
     "data": {
      "text/html": [
       "<pre style=\"white-space:pre;overflow-x:auto;line-height:normal;font-family:Menlo,'DejaVu Sans Mono',consolas,'Courier New',monospace\"></pre>\n"
      ],
      "text/plain": []
     },
     "metadata": {},
     "output_type": "display_data"
    },
    {
     "data": {
      "text/plain": [
       "\u001b[1;35mUncertainNumber\u001b[0m\u001b[1m(\u001b[0m\u001b[33messence\u001b[0m=\u001b[32m'interval'\u001b[0m, \u001b[33mbounds\u001b[0m=\u001b[1;35marray\u001b[0m\u001b[1m(\u001b[0m\u001b[1m[\u001b[0m\u001b[1;36m0.03149161\u001b[0m, \u001b[1;36m0.16209977\u001b[0m\u001b[1m]\u001b[0m\u001b[1m)\u001b[0m, \u001b[33m_construct\u001b[0m=\u001b[35mInterval\u001b[0m \u001b[1m[\u001b[0m\u001b[1;36m0.0314916\u001b[0m, \u001b[1;36m0.1621\u001b[0m\u001b[1m]\u001b[0m, \u001b[33mnaked_value\u001b[0m=\u001b[1;35mnp\u001b[0m\u001b[1;35m.float64\u001b[0m\u001b[1m(\u001b[0m\u001b[1;36m0.09679568741716935\u001b[0m\u001b[1m)\u001b[0m\u001b[1m)\u001b[0m"
      ]
     },
     "execution_count": 43,
     "metadata": {},
     "output_type": "execute_result"
    }
   ],
   "source": [
    "c.un"
   ]
  },
  {
   "cell_type": "code",
   "execution_count": 44,
   "metadata": {},
   "outputs": [
    {
     "name": "stdout",
     "output_type": "stream",
     "text": [
      "Total number of input combinations for the latin_hypercube method: 1000\n"
     ]
    },
    {
     "name": "stderr",
     "output_type": "stream",
     "text": [
      "Evaluating samples: 100%|█████████████████████████████████████████████████████████████████████████████████████████████████████| 1016/1016 [00:00<00:00, 567658.57it/s]\n"
     ]
    }
   ],
   "source": [
    "METHOD = \"latin_hypercube_endpoints\"\n",
    "\n",
    "d = epistemic_propagation(vars=[L, I, F, E], \n",
    "          fun=cantilever_beam_deflection,\n",
    "          n_sam = 1000, \n",
    "          method = METHOD,\n",
    "          save_raw_data = \"no\" \n",
    "        #   save_raw_data = \"yes\", \n",
    "        #   base_path = USER_dir\n",
    "         )      "
   ]
  },
  {
   "cell_type": "code",
   "execution_count": 47,
   "metadata": {},
   "outputs": [
    {
     "data": {
      "text/html": [
       "<pre style=\"white-space:pre;overflow-x:auto;line-height:normal;font-family:Menlo,'DejaVu Sans Mono',consolas,'Courier New',monospace\"></pre>\n"
      ],
      "text/plain": []
     },
     "metadata": {},
     "output_type": "display_data"
    },
    {
     "data": {
      "text/plain": [
       "\u001b[1;35mUncertainNumber\u001b[0m\u001b[1m(\u001b[0m\u001b[33messence\u001b[0m=\u001b[32m'interval'\u001b[0m, \u001b[33mbounds\u001b[0m=\u001b[1;35marray\u001b[0m\u001b[1m(\u001b[0m\u001b[1m[\u001b[0m\u001b[1;36m0.03149161\u001b[0m, \u001b[1;36m0.16209977\u001b[0m\u001b[1m]\u001b[0m\u001b[1m)\u001b[0m, \u001b[33m_construct\u001b[0m=\u001b[35mInterval\u001b[0m \u001b[1m[\u001b[0m\u001b[1;36m0.0314916\u001b[0m, \u001b[1;36m0.1621\u001b[0m\u001b[1m]\u001b[0m, \u001b[33mnaked_value\u001b[0m=\u001b[1;35mnp\u001b[0m\u001b[1;35m.float64\u001b[0m\u001b[1m(\u001b[0m\u001b[1;36m0.09679568741716935\u001b[0m\u001b[1m)\u001b[0m\u001b[1m)\u001b[0m"
      ]
     },
     "execution_count": 47,
     "metadata": {},
     "output_type": "execute_result"
    }
   ],
   "source": [
    "d.un"
   ]
  },
  {
   "cell_type": "markdown",
   "metadata": {},
   "source": [
    "<a id=\"4.2.5.-Optimisation-methors\"></a>\n",
    "\n",
    "### 4.2.5. Optimisation methods\n",
    "\n",
    "- Local optimisation\n",
    "- Genetic algorithm\n"
   ]
  },
  {
   "cell_type": "code",
   "execution_count": 53,
   "metadata": {},
   "outputs": [],
   "source": [
    "# METHOD = \"local_optimisation\"\n",
    "\n",
    "# a = Propagation(vars=[L, I, F, E], \n",
    "#        fun = cantilever_beam_deflection, \n",
    "#        x0 = None, \n",
    "#        method = METHOD, \n",
    "#        method_loc = 'Nelder-Mead')"
   ]
  },
  {
   "cell_type": "code",
   "execution_count": 54,
   "metadata": {},
   "outputs": [
    {
     "data": {
      "text/html": [
       "<pre style=\"white-space:pre;overflow-x:auto;line-height:normal;font-family:Menlo,'DejaVu Sans Mono',consolas,'Courier New',monospace\"><span style=\"color: #800000; text-decoration-color: #800000\">╭─────────────────────────────── </span><span style=\"color: #800000; text-decoration-color: #800000; font-weight: bold\">Traceback </span><span style=\"color: #bf7f7f; text-decoration-color: #bf7f7f; font-weight: bold\">(most recent call last)</span><span style=\"color: #800000; text-decoration-color: #800000\"> ────────────────────────────────╮</span>\n",
       "<span style=\"color: #800000; text-decoration-color: #800000\">│</span> in <span style=\"color: #00ff00; text-decoration-color: #00ff00\">&lt;module&gt;</span>:<span style=\"color: #0000ff; text-decoration-color: #0000ff\">2</span>                                                                                    <span style=\"color: #800000; text-decoration-color: #800000\">│</span>\n",
       "<span style=\"color: #800000; text-decoration-color: #800000\">│</span>                                                                                                  <span style=\"color: #800000; text-decoration-color: #800000\">│</span>\n",
       "<span style=\"color: #800000; text-decoration-color: #800000\">│</span>   <span style=\"color: #7f7f7f; text-decoration-color: #7f7f7f\">1 </span>a.un                                                                                         <span style=\"color: #800000; text-decoration-color: #800000\">│</span>\n",
       "<span style=\"color: #800000; text-decoration-color: #800000\">│</span> <span style=\"color: #800000; text-decoration-color: #800000\">❱ </span>2 <span style=\"font-weight: bold; text-decoration: underline\">a.print</span>()                                                                                    <span style=\"color: #800000; text-decoration-color: #800000\">│</span>\n",
       "<span style=\"color: #800000; text-decoration-color: #800000\">│</span>   <span style=\"color: #7f7f7f; text-decoration-color: #7f7f7f\">3 </span>                                                                                             <span style=\"color: #800000; text-decoration-color: #800000\">│</span>\n",
       "<span style=\"color: #800000; text-decoration-color: #800000\">╰──────────────────────────────────────────────────────────────────────────────────────────────────╯</span>\n",
       "<span style=\"color: #ff0000; text-decoration-color: #ff0000; font-weight: bold\">AttributeError: </span><span style=\"color: #008000; text-decoration-color: #008000\">'Propagation_results'</span> object has no attribute <span style=\"color: #008000; text-decoration-color: #008000\">'print'</span>\n",
       "</pre>\n"
      ],
      "text/plain": [
       "\u001b[31m╭─\u001b[0m\u001b[31m──────────────────────────────\u001b[0m\u001b[31m \u001b[0m\u001b[1;31mTraceback \u001b[0m\u001b[1;2;31m(most recent call last)\u001b[0m\u001b[31m \u001b[0m\u001b[31m───────────────────────────────\u001b[0m\u001b[31m─╮\u001b[0m\n",
       "\u001b[31m│\u001b[0m in \u001b[92m<module>\u001b[0m:\u001b[94m2\u001b[0m                                                                                    \u001b[31m│\u001b[0m\n",
       "\u001b[31m│\u001b[0m                                                                                                  \u001b[31m│\u001b[0m\n",
       "\u001b[31m│\u001b[0m   \u001b[2m1 \u001b[0ma.un                                                                                         \u001b[31m│\u001b[0m\n",
       "\u001b[31m│\u001b[0m \u001b[31m❱ \u001b[0m2 \u001b[1;4ma.print\u001b[0m()                                                                                    \u001b[31m│\u001b[0m\n",
       "\u001b[31m│\u001b[0m   \u001b[2m3 \u001b[0m                                                                                             \u001b[31m│\u001b[0m\n",
       "\u001b[31m╰──────────────────────────────────────────────────────────────────────────────────────────────────╯\u001b[0m\n",
       "\u001b[1;91mAttributeError: \u001b[0m\u001b[32m'Propagation_results'\u001b[0m object has no attribute \u001b[32m'print'\u001b[0m\n"
      ]
     },
     "metadata": {},
     "output_type": "display_data"
    }
   ],
   "source": [
    "a.un\n",
    "a.print()"
   ]
  },
  {
   "cell_type": "code",
   "execution_count": null,
   "metadata": {},
   "outputs": [],
   "source": [
    "# METHOD = \"local_optimisation\"\n",
    "\n",
    "# b = epistemic_propagation(vars=[L, I, F, E], \n",
    "#        fun = cantilever_beam_deflection, \n",
    "#        #x0 = None, \n",
    "#        method = METHOD, \n",
    "#        method_loc = 'Nelder-Mead')\n",
    "# b.print()\n",
    "# b.un"
   ]
  },
  {
   "cell_type": "code",
   "execution_count": 55,
   "metadata": {},
   "outputs": [
    {
     "name": "stdout",
     "output_type": "stream",
     "text": [
      "Convergence reached!\n",
      "Convergence reached!\n"
     ]
    }
   ],
   "source": [
    "METHOD = \"genetic_optimisation\"\n",
    "\n",
    "a = Propagation(vars=[L, I, F, E], \n",
    "       fun = cantilever_beam_deflection, \n",
    "       method = METHOD)"
   ]
  },
  {
   "cell_type": "code",
   "execution_count": 59,
   "metadata": {},
   "outputs": [
    {
     "data": {
      "text/html": [
       "<pre style=\"white-space:pre;overflow-x:auto;line-height:normal;font-family:Menlo,'DejaVu Sans Mono',consolas,'Courier New',monospace\"></pre>\n"
      ],
      "text/plain": []
     },
     "metadata": {},
     "output_type": "display_data"
    },
    {
     "data": {
      "text/plain": [
       "\u001b[1;35mUncertainNumber\u001b[0m\u001b[1m(\u001b[0m\u001b[33messence\u001b[0m=\u001b[32m'interval'\u001b[0m, \u001b[33mbounds\u001b[0m=\u001b[1;35marray\u001b[0m\u001b[1m(\u001b[0m\u001b[1m[\u001b[0m\u001b[1;36m0.0314993\u001b[0m , \u001b[1;36m0.16208952\u001b[0m\u001b[1m]\u001b[0m\u001b[1m)\u001b[0m, \u001b[33m_construct\u001b[0m=\u001b[35mInterval\u001b[0m \u001b[1m[\u001b[0m\u001b[1;36m0.0314993\u001b[0m, \u001b[1;36m0.16209\u001b[0m\u001b[1m]\u001b[0m, \u001b[33mnaked_value\u001b[0m=\u001b[1;35mnp\u001b[0m\u001b[1;35m.float64\u001b[0m\u001b[1m(\u001b[0m\u001b[1;36m0.0967944098712922\u001b[0m\u001b[1m)\u001b[0m\u001b[1m)\u001b[0m"
      ]
     },
     "execution_count": 59,
     "metadata": {},
     "output_type": "execute_result"
    }
   ],
   "source": [
    "a.un"
   ]
  },
  {
   "cell_type": "markdown",
   "metadata": {},
   "source": [
    "***\n",
    "<a id=\"aleatory_uncertainty_propagation\"></a>\n",
    "# 5. Aleatory uncertainty\n",
    "\n",
    "when inputs have various types of uncertainty."
   ]
  },
  {
   "cell_type": "code",
   "execution_count": 60,
   "metadata": {},
   "outputs": [],
   "source": [
    "# y = UN(name='beam width', symbol='y', units='m', essence='interval', bounds=[0.145, 0.155]) # Required only for stress estimation\n",
    "L = UN(name='beam length', symbol='L', units='m', essence='distribution', distribution_parameters=[\"gaussian\", [10.05, 0.033]])\n",
    "I = UN(name='moment of inertia', symbol='I', units='m', essence='distribution', distribution_parameters=[\"gaussian\", [0.000454, 4.5061e-5]])\n",
    "F = UN(name='vertical force', symbol='F', units='kN', essence='distribution', distribution_parameters=[\"gaussian\", [24, 8.67]])\n",
    "E = UN(name='elastic modulus', symbol='E', units='GPa', essence='distribution', distribution_parameters=[\"gaussian\", [210, 6.67]])"
   ]
  },
  {
   "cell_type": "code",
   "execution_count": 61,
   "metadata": {},
   "outputs": [
    {
     "name": "stdout",
     "output_type": "stream",
     "text": [
      "Total number of input combinations for the monte_carlo method: 100\n"
     ]
    },
    {
     "name": "stderr",
     "output_type": "stream",
     "text": [
      "Evaluating samples: 100%|███████████████████████████████████████████████████████████████████████████████████████████████████████| 100/100 [00:00<00:00, 855980.41it/s]\n"
     ]
    }
   ],
   "source": [
    "METHOD = \"monte_carlo\"\n",
    "\n",
    "a = Propagation(vars=[L, I, F, E], \n",
    "          fun = cantilever_beam_deflection, \n",
    "          n_sam = 100, \n",
    "          method = METHOD, \n",
    "          save_raw_data = \"no\"\n",
    "         )\n"
   ]
  },
  {
   "cell_type": "code",
   "execution_count": 62,
   "metadata": {},
   "outputs": [
    {
     "data": {
      "text/html": [
       "<pre style=\"white-space:pre;overflow-x:auto;line-height:normal;font-family:Menlo,'DejaVu Sans Mono',consolas,'Courier New',monospace\"></pre>\n"
      ],
      "text/plain": []
     },
     "metadata": {},
     "output_type": "display_data"
    },
    {
     "data": {
      "text/plain": [
       "\u001b[1m[\u001b[0mdist ~ sample-approximated distribution object\u001b[1m]\u001b[0m"
      ]
     },
     "execution_count": 62,
     "metadata": {},
     "output_type": "execute_result"
    }
   ],
   "source": [
    "a.un"
   ]
  },
  {
   "cell_type": "markdown",
   "metadata": {},
   "source": [
    "***\n",
    "<a id=\"mixed_uncertainty_propagation\"></a>\n",
    "# 6. Mixed types of uncertainty\n",
    "\n",
    "when inputs have various types of uncertainty."
   ]
  },
  {
   "cell_type": "markdown",
   "metadata": {},
   "source": [
    "# Naive pbox arithmetic"
   ]
  },
  {
   "cell_type": "code",
   "execution_count": 56,
   "metadata": {},
   "outputs": [],
   "source": [
    "# y = UN(name='beam width', symbol='y', units='m', essence='interval', bounds=[0.145, 0.155]) # Required only for stress estimation\n",
    "L = UN(name='beam length', symbol='L', units='m', essence='distribution', distribution_parameters=[\"gaussian\", [10.05, 0.033]])\n",
    "I = UN(name='moment of inertia', symbol='I', units='m', essence='distribution', distribution_parameters=[\"gaussian\", [0.000454, 4.5061e-5]])\n",
    "F = UN(name='vertical force', symbol='F', units='kN', essence='distribution', distribution_parameters=[\"gaussian\", [24, 8.67]])\n",
    "E = UN(name='elastic modulus', symbol='E', units='GPa', essence='distribution', distribution_parameters=[\"gaussian\", [210, 6.67]])"
   ]
  },
  {
   "cell_type": "code",
   "execution_count": 57,
   "metadata": {},
   "outputs": [],
   "source": [
    "defl = cantilever_beam_deflection([L, I, F, E])"
   ]
  },
  {
   "cell_type": "code",
   "execution_count": 58,
   "metadata": {},
   "outputs": [
    {
     "data": {
      "text/html": [
       "<pre style=\"white-space:pre;overflow-x:auto;line-height:normal;font-family:Menlo,'DejaVu Sans Mono',consolas,'Courier New',monospace\"></pre>\n"
      ],
      "text/plain": []
     },
     "metadata": {},
     "output_type": "display_data"
    },
    {
     "data": {
      "text/plain": [
       "\n",
       "\u001b[1;35marray\u001b[0m\u001b[1m(\u001b[0m\u001b[1m[\u001b[0m\u001b[1;35mUncertainNumber\u001b[0m\u001b[1m(\u001b[0m\u001b[33messence\u001b[0m=\u001b[32m'pbox'\u001b[0m, \u001b[33m_construct\u001b[0m=\u001b[35mPbox\u001b[0m: ~ \u001b[1m(\u001b[0m\u001b[33mrange\u001b[0m=\u001b[1m[\u001b[0m\u001b[32m'-0.05'\u001b[0m, \u001b[32m'0.37'\u001b[0m\u001b[1m]\u001b[0m, \u001b[33mmean\u001b[0m=\u001b[1m[\u001b[0m\u001b[1;36m0.0002\u001b[0m, \u001b[1;36m0.0045\u001b[0m\u001b[1m]\u001b[0m, \u001b[33mvar\u001b[0m=\u001b[1m[\u001b[0m\u001b[1;36m0.0002\u001b[0m, \u001b[1;36m0.0045\u001b[0m\u001b[1m]\u001b[0m\u001b[1m)\u001b[0m\u001b[1m)\u001b[0m\u001b[1m]\u001b[0m,\n",
       "      \u001b[33mdtype\u001b[0m=\u001b[35mobject\u001b[0m\u001b[1m)\u001b[0m"
      ]
     },
     "execution_count": 58,
     "metadata": {},
     "output_type": "execute_result"
    }
   ],
   "source": [
    "defl"
   ]
  }
 ],
 "metadata": {
  "kernelspec": {
   "display_name": "Python 3 (ipykernel)",
   "language": "python",
   "name": "python3"
  },
  "language_info": {
   "codemirror_mode": {
    "name": "ipython",
    "version": 3
   },
   "file_extension": ".py",
   "mimetype": "text/x-python",
   "name": "python",
   "nbconvert_exporter": "python",
   "pygments_lexer": "ipython3",
   "version": "3.11.10"
  }
 },
 "nbformat": 4,
 "nbformat_minor": 4
}
