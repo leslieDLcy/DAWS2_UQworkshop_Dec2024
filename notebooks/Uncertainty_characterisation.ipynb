{
 "cells": [
  {
   "cell_type": "markdown",
   "id": "d69d4d56-a843-487b-8621-7f9e1db49392",
   "metadata": {},
   "source": [
    "**preamble:**\n",
    "\n",
    "a draft version of a long notebook which provides a go-along hands-on experience"
   ]
  },
  {
   "cell_type": "markdown",
   "id": "906a955c-a0a6-466d-8b7f-e2a1a37e0ed6",
   "metadata": {},
   "source": [
    "### Introduction:\n",
    "\n",
    "`PyUncertainNumber` serves as a comprehensive toolkit for characterising and modelling with uncertainty, in the sense that it not only possess abundant methodologies in rigourously computing with uncertainty but also features comprehensive ancillary information in expressing uncertainty.\n",
    "\n",
    "\n",
    "`PyUncertainNumber` is a package that enables Probability Bounds Analysis."
   ]
  },
  {
   "cell_type": "code",
   "execution_count": null,
   "id": "d33b90ff-2bf2-4602-a130-22e071d9a571",
   "metadata": {},
   "outputs": [],
   "source": []
  },
  {
   "cell_type": "code",
   "execution_count": null,
   "id": "67bd385f-e4da-44f5-8888-4952d4ff7fab",
   "metadata": {},
   "outputs": [],
   "source": []
  },
  {
   "cell_type": "markdown",
   "id": "5302b485-6946-49a8-8870-dbed5dc70d18",
   "metadata": {},
   "source": [
    "# installation\n",
    "\n",
    "Detailed information regarding installation and managing dependencies should be found in the `Readme` page."
   ]
  },
  {
   "cell_type": "code",
   "execution_count": null,
   "id": "bb82f4fa-a396-4bf8-8e6d-d2f012b408c3",
   "metadata": {},
   "outputs": [],
   "source": []
  },
  {
   "cell_type": "code",
   "execution_count": null,
   "id": "8b8bffed-b80b-4f9f-80a0-5cbf20d57311",
   "metadata": {},
   "outputs": [],
   "source": []
  },
  {
   "cell_type": "code",
   "execution_count": null,
   "id": "fd87ed41-0ad6-4d1b-8448-b11de6d7c4f8",
   "metadata": {},
   "outputs": [],
   "source": []
  },
  {
   "cell_type": "markdown",
   "id": "d61465d6-3907-4472-b62d-2ba9bd54ee19",
   "metadata": {
    "jp-MarkdownHeadingCollapsed": true
   },
   "source": [
    "# instantiation of `UncertainNumber` objects\n",
    "\n",
    "- depending on various level of knowdge at hand"
   ]
  },
  {
   "cell_type": "code",
   "execution_count": null,
   "id": "c217936f-89b4-4f2d-9817-01469a588fe9",
   "metadata": {},
   "outputs": [],
   "source": []
  },
  {
   "cell_type": "code",
   "execution_count": null,
   "id": "e58c865b-9fa4-4e7b-adc6-1e83e88c0bfc",
   "metadata": {},
   "outputs": [],
   "source": []
  },
  {
   "cell_type": "markdown",
   "id": "163d8c1b-1fe7-4656-af89-fae60cd3eee1",
   "metadata": {},
   "source": [
    "create one (e.g. a pbox) from range information "
   ]
  },
  {
   "cell_type": "code",
   "execution_count": null,
   "id": "42d3377f-bce2-42b3-897b-4aba04f087a9",
   "metadata": {},
   "outputs": [],
   "source": []
  },
  {
   "cell_type": "markdown",
   "id": "380ee44a-ab0a-48c6-9b17-6489ca93d05c",
   "metadata": {},
   "source": [
    "ancillary information can be expressed"
   ]
  },
  {
   "cell_type": "code",
   "execution_count": null,
   "id": "3f1476d1-a2d4-49b8-b36a-45fa03e509f9",
   "metadata": {},
   "outputs": [],
   "source": []
  },
  {
   "cell_type": "code",
   "execution_count": null,
   "id": "e05bf7cd-f2c5-4e5f-99ac-9ee6b7316349",
   "metadata": {},
   "outputs": [],
   "source": []
  },
  {
   "cell_type": "markdown",
   "id": "e67674ab-3194-4382-b84b-652b65cfb1fc",
   "metadata": {},
   "source": [
    "you can display the UN objects for either an interval, probability distribution or a pbox."
   ]
  },
  {
   "cell_type": "code",
   "execution_count": null,
   "id": "35efaacc-4cfc-4b25-83c8-fc2748bb4ead",
   "metadata": {},
   "outputs": [],
   "source": []
  },
  {
   "cell_type": "markdown",
   "id": "6d71cda5-6b24-4ee5-a8d6-ee1b2874d26c",
   "metadata": {},
   "source": [
    "# natural language processing capacities\n",
    "\n",
    "- hedged language\n",
    "- natural language processing in instantiation\n",
    "- informative description of uncertain number"
   ]
  },
  {
   "cell_type": "markdown",
   "id": "5dda2470-5ce8-4782-ab05-c5de35490c07",
   "metadata": {},
   "source": [
    "Experts often describe the inaccuracy of their estimates in terms of imprecise words from natural language, such as “approximately 0.1”, etc. We have it covered!"
   ]
  },
  {
   "cell_type": "code",
   "execution_count": null,
   "id": "16584271-34b6-4b5c-ae8b-c5faa7f2a8f2",
   "metadata": {},
   "outputs": [],
   "source": []
  },
  {
   "cell_type": "code",
   "execution_count": null,
   "id": "a9ce0564-29e0-4f07-a525-b35fa65fb3dc",
   "metadata": {},
   "outputs": [],
   "source": []
  },
  {
   "cell_type": "markdown",
   "id": "90d4f0ba-c03b-4886-a9ea-91649bb0add9",
   "metadata": {},
   "source": [
    "# Interopolity\n",
    "\n",
    "- Save to disk UN objects in either readable JSON or a database\n",
    "- create multiple UN objects from JSON files"
   ]
  },
  {
   "cell_type": "code",
   "execution_count": null,
   "id": "2e6fd640-ab7c-41c1-91c3-7ed3b7b0333d",
   "metadata": {},
   "outputs": [],
   "source": []
  },
  {
   "cell_type": "code",
   "execution_count": null,
   "id": "8d36110d-aa50-4bfa-a263-c20d5b3bbf7f",
   "metadata": {},
   "outputs": [],
   "source": []
  },
  {
   "cell_type": "code",
   "execution_count": null,
   "id": "655e3b56-3f56-45f6-a804-1c1a0aa6f9c5",
   "metadata": {},
   "outputs": [],
   "source": []
  },
  {
   "cell_type": "markdown",
   "id": "5f557663-2138-4231-9e69-81036df04566",
   "metadata": {},
   "source": [
    "# uncertainty propagation\n",
    "\n",
    "- A bunch of UP methods are available in a consistent calling signature, such as ...."
   ]
  },
  {
   "cell_type": "code",
   "execution_count": null,
   "id": "f55486c9-7d87-47f1-b1e7-334cd844ba7b",
   "metadata": {},
   "outputs": [],
   "source": []
  },
  {
   "cell_type": "markdown",
   "id": "89cf0808-9565-492e-9cc8-cd6427b27a26",
   "metadata": {},
   "source": [
    "arithmetic operations"
   ]
  },
  {
   "cell_type": "code",
   "execution_count": null,
   "id": "75c48106-363b-408a-82ce-61ee90e26541",
   "metadata": {},
   "outputs": [],
   "source": []
  }
 ],
 "metadata": {
  "kernelspec": {
   "display_name": "pyun",
   "language": "python",
   "name": "pyun"
  },
  "language_info": {
   "codemirror_mode": {
    "name": "ipython",
    "version": 3
   },
   "file_extension": ".py",
   "mimetype": "text/x-python",
   "name": "python",
   "nbconvert_exporter": "python",
   "pygments_lexer": "ipython3",
   "version": "3.10.14"
  }
 },
 "nbformat": 4,
 "nbformat_minor": 5
}
