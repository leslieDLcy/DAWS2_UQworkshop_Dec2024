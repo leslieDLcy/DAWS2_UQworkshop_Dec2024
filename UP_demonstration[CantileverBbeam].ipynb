{
 "cells": [
  {
   "cell_type": "markdown",
   "metadata": {},
   "source": [
    "# Setup\n",
    "\n",
    "Import the libraries"
   ]
  },
  {
   "cell_type": "code",
   "execution_count": 1,
   "metadata": {},
   "outputs": [],
   "source": [
    "''' original from Ioanna '''\n",
    "\n",
    "# import importlib\n",
    "# #import PyUncertainNumber.UP.local_optimisation as up\n",
    "\n",
    "\n",
    "# import PyUncertainNumber.UP.main as main\n",
    "# #importlib.reload(up)\n",
    "# importlib.reload(main)\n",
    "\n",
    "# from PyUncertainNumber.UP.local_optimisation import local_optimisation_method \n",
    "import numpy as np\n",
    "from PyUncertainNumber.UP.uncertaintyPropagation import up_bb"
   ]
  },
  {
   "cell_type": "code",
   "execution_count": null,
   "metadata": {},
   "outputs": [],
   "source": [
    "from PyUncertainNumber import UncertainNumber as UN\n",
    "from PyUncertainNumber.UP.vertex import vertexMethod\n",
    "# from PyUncertainNumber.UP.performance_func import cantilever_beam_func, cantilever_beam_deflection, cantilever_beam_stress"
   ]
  },
  {
   "cell_type": "code",
   "execution_count": 2,
   "metadata": {},
   "outputs": [],
   "source": [
    "%load_ext autoreload\n",
    "%autoreload 2\n",
    "%load_ext rich"
   ]
  },
  {
   "cell_type": "markdown",
   "metadata": {
    "jp-MarkdownHeadingCollapsed": true
   },
   "source": [
    "# Problem statement\n",
    "\n",
    "The numerical example models a simple cantilever beam with length, $L$, distance to the neutral axis $y$, Young’s modulus, $E$, second moment of inertia, $I$, and external load, $F$. We will compute the bending stress $σ$, and the deflection $d$, assuming the above input parameters are **uncertain numbers**.\n",
    "\n",
    "We will use this example throughout the document to illustrate the differences among various uncertainty quantification approaches. A complete description of the following methods can be found in the [DAWS1 report](https://sites.google.com/view/dawsreports/up).\n",
    "\n",
    "![alt text](../assets/cantilever.png)\n",
    "\n",
    "**Fig.1** Cantilever beam with input parameters.  "
   ]
  },
  {
   "cell_type": "markdown",
   "metadata": {},
   "source": [
    "# Create the propagating function\n",
    "\n",
    "A propagating function is created which calculates the stress, $σ$, as a function of $L$, $y$, $E$, $I$, and $F$.\n",
    "- The function's input is only the uncertain numbers.\n",
    "- As sampling techniques are used it is likely that for a certain input combination the airfoil will fail to reach a solution. we use the try function to accomodate for this.\n",
    "\n",
    "\n",
    "Alternatively, such propating function can be imported as a Python function/method object from a certain local directory."
   ]
  },
  {
   "cell_type": "code",
   "execution_count": 3,
   "metadata": {},
   "outputs": [],
   "source": [
    "def cantilever_beam_deflection(x):\n",
    "    \"\"\"Calculates deflection and stress for a cantilever beam.\n",
    "\n",
    "    Args:\n",
    "        x (np.array): Array of input parameters:\n",
    "            x[0]: Length of the beam (m)\n",
    "            x[1]: Second moment of area (mm^4)\n",
    "            x[2]: Applied force (N)\n",
    "            x[3]: Young's modulus (MPa)\n",
    "\n",
    "    Returns:\n",
    "        float: deflection (m)\n",
    "               Returns np.nan if calculation error occurs.\n",
    "    \"\"\"\n",
    "\n",
    "    beam_length = x[0]\n",
    "    I = x[1]\n",
    "    F = x[2]\n",
    "    E = x[3]\n",
    "    try:  # try is used to account for cases where the input combinations leads to error in fun due to bugs\n",
    "        deflection = F * beam_length**3 / (3 * E * 10**6 * I)  # deflection in m\n",
    "        \n",
    "    except:\n",
    "        deflection = np.nan\n",
    "\n",
    "    return deflection"
   ]
  },
  {
   "cell_type": "code",
   "execution_count": null,
   "metadata": {},
   "outputs": [],
   "source": [
    "# know the function with default Python help mechanism\n",
    "cantilever_beam_deflection?"
   ]
  },
  {
   "cell_type": "code",
   "execution_count": null,
   "metadata": {},
   "outputs": [],
   "source": [
    "from PyUncertainNumber.UP.performance_func import cantilever_beam_deflection, cantilever_beam_stress"
   ]
  },
  {
   "cell_type": "markdown",
   "metadata": {},
   "source": [
    "## Verify the function\n",
    "\n",
    "To ensure that the function yields meaningful results. We consider that input has the nominal values seen below.\n",
    "\n",
    "The function should yield deflection equal to 0.162m.\n",
    " "
   ]
  },
  {
   "cell_type": "code",
   "execution_count": null,
   "metadata": {},
   "outputs": [],
   "source": [
    "# test the function\n",
    "\n",
    "y  = 0.155 # m\n",
    "L  = 10.05 # m\n",
    "I = 0.000386 # m**4\n",
    "F = 37 # kN\n",
    "E = 200 # GPa\n",
    "\n",
    "x = np.array([L, I, F, E])\n",
    "deflection = cantilever_beam_deflection(x)\n",
    "\n",
    "print(deflection) # 0.162m"
   ]
  },
  {
   "cell_type": "markdown",
   "metadata": {},
   "source": [
    "# Propagate epistemic uncertainty \n"
   ]
  },
  {
   "cell_type": "markdown",
   "metadata": {},
   "source": [
    "\n",
    "## Uncertainty Characterisation\n",
    "\n",
    "Construct `UncertainNumbers` objects for the inputs assuming they are intervals with the lower and upper values are seen below\n",
    "\n",
    "- $y = [0.145, 0.155] \\ m$\n",
    "\n",
    "- $L = [9.95, 10.05] \\ m$\n",
    "\n",
    "- $I = [0.0003861591, 0.0005213425] \\ m^{4}$\n",
    "\n",
    "- $F = [11, 37] \\ kN$\n",
    "\n",
    "- $E = [200, 220] \\ GPa$\n",
    " "
   ]
  },
  {
   "cell_type": "code",
   "execution_count": null,
   "metadata": {},
   "outputs": [],
   "source": [
    "y = UN(name='beam width', symbol='y', units='m', essence='interval', bounds=[0.145, 0.155])\n",
    "L = UN(name='beam length', symbol='L', units='m', essence='interval', bounds=[9.95, 10.05])\n",
    "I = UN(name='moment of inertia', symbol='I', units='m', essence='interval', bounds=[0.0003861591, 0.0005213425])\n",
    "F = UN(name='vertical force', symbol='F', units='kN', essence='interval', bounds=[11, 37])\n",
    "E = UN(name='elastic modulus', symbol='E', units='GPa', essence='interval', bounds=[200, 220])"
   ]
  },
  {
   "cell_type": "markdown",
   "metadata": {},
   "source": [
    "## Uncertainty Propagation methods \n",
    "\n",
    "Choose from a suite of black box propagating techniques to propagate the intervals through the model. "
   ]
  },
  {
   "cell_type": "markdown",
   "metadata": {},
   "source": [
    "### Endpoint propagation\n",
    "\n",
    "The endpoint propagation method (Dong and Shah, 1987) is a straightforward way to project intervals through the code, by projecting all input combinations produced by the Cartesian product of the interval bounds. This results in a total of $n = 2^{d}$. \n",
    "\n",
    "For the working example, there are d = 5 intervals which results in $n = 2^{5} = 32$ input combinations.\n",
    "\n",
    "#### Assumptions\n",
    "\n",
    "\n"
   ]
  },
  {
   "cell_type": "markdown",
   "metadata": {},
   "source": [
    "- [x] Ioanna's original top-level UP function with  the 'endspoints' method"
   ]
  },
  {
   "cell_type": "code",
   "execution_count": 4,
   "metadata": {},
   "outputs": [
    {
     "name": "stdout",
     "output_type": "stream",
     "text": [
      "[[9.950000e+00 1.005000e+01]\n",
      " [3.861591e-04 5.213425e-04]\n",
      " [1.100000e+01 3.700000e+01]\n",
      " [2.000000e+02 2.200000e+02]]\n"
     ]
    }
   ],
   "source": [
    "L =  np.array([9.95, 10.05]) # m\n",
    "\n",
    "I =  np.array([0.0003861591, 0.0005213425])# m**4\n",
    "\n",
    "F =  np.array([11, 37]) # kN\n",
    "\n",
    "E =  np.array([200, 220]) # GPa\n",
    "\n",
    "# Create a 2D np.array with all uncertain input parameters in the **correct** order.\n",
    "xInt = np.array([L, I, F, E])\n",
    "print(xInt)\n",
    "\n",
    "''' naive imple of hint on combination number of endpoints method '''\n",
    "# # How many input combinations are expected from the endpoint propagation?\n",
    "# d = xInt.shape[0] # is the number of uncertain input expressed as intervals.\n",
    "# n = 2**d # The total number of combinations \n",
    "# print(\"Total number of input combinations for the endpoint method:\", n) "
   ]
  },
  {
   "cell_type": "code",
   "execution_count": 5,
   "metadata": {},
   "outputs": [
    {
     "name": "stdout",
     "output_type": "stream",
     "text": [
      "Total number of input combinations for the endpoint method: 16\n"
     ]
    },
    {
     "name": "stderr",
     "output_type": "stream",
     "text": [
      "100%|██████████████████████████████████████████████████████████████████████████████████████████████████████████████████████████████████████| 15/15 [00:00<00:00, 24556.81it/s]"
     ]
    },
    {
     "name": "stdout",
     "output_type": "stream",
     "text": [
      "There are no NA values produced by the input\n"
     ]
    },
    {
     "name": "stderr",
     "output_type": "stream",
     "text": [
      "\n"
     ]
    }
   ],
   "source": [
    "''' original from Ioanna '''\n",
    "\n",
    "# method = \"endpoint\"\n",
    "# base_path = \"C:\\\\Users\\\\Ioanna\\\\Documents\\\\GitHub\\\\daws2\\\\cantilever_beam\"\n",
    "# min_y, max_y, x_miny, x_maxy = main.up_bb(xInt, cantilever_beam_deflection, n = None, method= method, save_raw_data = \"no\", base_path = base_path)\n",
    "\n",
    "# #TODO envelope the results of min_y nad max_y \n",
    "# # plot the extremities for each input variable\n",
    "# print(min_y)\n",
    "# print(max_y)\n",
    "\n",
    "\n",
    "# The endpoint method is being called \n",
    "\n",
    "METHOD = \"endpoint\"\n",
    "base_path = \"\"\n",
    "\n",
    "# TODO return either as namedTuple or dict to be explicit\n",
    "a = up_bb(xInt, \n",
    "          cantilever_beam_deflection, \n",
    "          n = None, \n",
    "          method = METHOD, \n",
    "          save_raw_data = \"yes\", \n",
    "          base_path = base_path)\n",
    "              \n",
    "\n",
    "#min_y, max_y, x_miny, x_maxy = up.endpoints_method(xInt, cantilever_beam_deflection, save_raw_data = 'no')\n",
    "\n",
    "# # check the results.\n",
    "# # print(min_y)\n",
    "# # print(max_y)\n",
    "# # print(x_miny)\n",
    "# # print(x_maxy)"
   ]
  },
  {
   "cell_type": "markdown",
   "metadata": {},
   "source": [
    "- [x] Leslie's standalone endspoints implementation"
   ]
  },
  {
   "cell_type": "code",
   "execution_count": null,
   "metadata": {},
   "outputs": [],
   "source": [
    "deflection_bounds_e = UN.endpointsMethod(vars=['L', 'I', 'F', 'E'], \n",
    "                                         func=cantilever_beam_deflection, \n",
    "                                         name='deflection', \n",
    "                                         symbol='D')\n",
    "deflection_bounds_e"
   ]
  },
  {
   "cell_type": "code",
   "execution_count": null,
   "metadata": {},
   "outputs": [],
   "source": [
    "stress_bounds_e = UN.endpointsMethod(vars=['y', 'L', 'I', 'F'], \n",
    "                                     func=cantilever_beam_stress, \n",
    "                                     name='stress', \n",
    "                                     symbol='S')\n",
    "stress_bounds_e"
   ]
  },
  {
   "cell_type": "code",
   "execution_count": null,
   "metadata": {},
   "outputs": [],
   "source": []
  },
  {
   "cell_type": "code",
   "execution_count": null,
   "metadata": {},
   "outputs": [],
   "source": []
  },
  {
   "cell_type": "markdown",
   "metadata": {},
   "source": [
    "### Subinterval reconstitution propagation\n",
    "\n",
    "The input intervals are partitioned into smaller intervals, which are then propagated through the model using endpoint propagation and the output interval can be reassembled (Ferson and Hajagos, 2004)."
   ]
  },
  {
   "cell_type": "code",
   "execution_count": null,
   "metadata": {},
   "outputs": [],
   "source": [
    "''' naive imple of hint on combination number of endpoints method '''\n",
    "# How many input combinations are expected from the subinterval reconstitution propagation?\n",
    "d = 5 # is the number of uncertain input expressed as intervals.\n",
    "m = 4 # is the number of partitions. \n",
    "n = (m+1)**d # The total number of combinations \n",
    "print(\"Total number of input combinations for the subinterval reconstitution method:\", n) "
   ]
  },
  {
   "cell_type": "markdown",
   "metadata": {},
   "source": [
    "<font color='red'>subinterval reconstitution method not implemented ?</font>"
   ]
  },
  {
   "cell_type": "markdown",
   "metadata": {},
   "source": [
    "### Sampling approach\n",
    "\n",
    "- Brute Monte Carlo\n",
    "- Latin Hypercube"
   ]
  },
  {
   "cell_type": "code",
   "execution_count": 7,
   "metadata": {},
   "outputs": [
    {
     "name": "stderr",
     "output_type": "stream",
     "text": [
      "100%|████████████████████████████████████████████████████████████████████████████████████████████████████████████████████████████████████████| 9/9 [00:00<00:00, 14271.73it/s]\n"
     ]
    }
   ],
   "source": [
    "METHOD = \"montecarlo\"\n",
    "base_path = \"\"\n",
    "a = up_bb(xInt, \n",
    "          cantilever_beam_deflection, \n",
    "          n = 10, \n",
    "          method = METHOD, \n",
    "          save_raw_data=\"yes\", \n",
    "          base_path = base_path)\n",
    "              \n",
    "#min_y, max_y, x_miny, x_maxy = up.endpoints_method(xInt, cantilever_beam_deflection, save_raw_data = 'no')\n",
    "\n",
    "# check the results.\n",
    "# print(min_y)\n",
    "# print(max_y)\n",
    "# print(x_miny)\n",
    "# print(x_maxy)\n"
   ]
  },
  {
   "cell_type": "code",
   "execution_count": null,
   "metadata": {},
   "outputs": [],
   "source": []
  },
  {
   "cell_type": "code",
   "execution_count": null,
   "metadata": {},
   "outputs": [],
   "source": [
    "# Check the results"
   ]
  },
  {
   "cell_type": "markdown",
   "metadata": {},
   "source": [
    "### Optimisation approach\n",
    "\n",
    "- Local optimisation\n",
    "- Genetic algorithm\n"
   ]
  },
  {
   "cell_type": "code",
   "execution_count": null,
   "metadata": {},
   "outputs": [],
   "source": [
    "METHOD = \"local_optimisation\"\n",
    "#base_path = \"C:\\\\Users\\\\Ioanna\\\\Documents\\\\GitHub\\\\daws2\\\\cantilever_beam\"\n",
    "a = main.up_bb(xInt, cantilever_beam_deflection, x0 = None, method = method, method_loc = 'Nelder-Mead')\n",
    "              \n",
    "#print(a)"
   ]
  },
  {
   "cell_type": "code",
   "execution_count": null,
   "metadata": {},
   "outputs": [],
   "source": [
    "# The local_optimisation is being called \n",
    "a = local_optimisation_method(xInt, cantilever_beam_deflection, x0 = None, method_loc = 'Nelder-Mead')\n",
    "\n",
    "# check the results.\n",
    "print(a)"
   ]
  },
  {
   "cell_type": "markdown",
   "metadata": {},
   "source": [
    "### Naive interval arithmetics"
   ]
  },
  {
   "cell_type": "code",
   "execution_count": null,
   "metadata": {},
   "outputs": [],
   "source": [
    "defl = cantilever_beam_deflection(L, I, F, E)"
   ]
  },
  {
   "cell_type": "code",
   "execution_count": null,
   "metadata": {},
   "outputs": [],
   "source": [
    "defl"
   ]
  },
  {
   "cell_type": "markdown",
   "metadata": {},
   "source": [
    "# Mixed types of uncertainty\n",
    "\n",
    "when inputs have various types of uncertainty."
   ]
  },
  {
   "cell_type": "code",
   "execution_count": null,
   "metadata": {},
   "outputs": [],
   "source": [
    "#TODO could Scott elaborate on envelop?"
   ]
  },
  {
   "cell_type": "code",
   "execution_count": null,
   "metadata": {},
   "outputs": [],
   "source": []
  },
  {
   "cell_type": "code",
   "execution_count": null,
   "metadata": {},
   "outputs": [],
   "source": []
  }
 ],
 "metadata": {
  "kernelspec": {
   "display_name": "Python 3 (ipykernel)",
   "language": "python",
   "name": "python3"
  },
  "language_info": {
   "codemirror_mode": {
    "name": "ipython",
    "version": 3
   },
   "file_extension": ".py",
   "mimetype": "text/x-python",
   "name": "python",
   "nbconvert_exporter": "python",
   "pygments_lexer": "ipython3",
   "version": "3.10.14"
  }
 },
 "nbformat": 4,
 "nbformat_minor": 4
}
