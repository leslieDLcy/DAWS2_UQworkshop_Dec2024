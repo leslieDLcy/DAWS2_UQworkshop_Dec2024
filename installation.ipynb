{
 "cells": [
  {
   "cell_type": "markdown",
   "id": "746ed3b7-40f4-44bc-9762-4799ec3c5e7d",
   "metadata": {},
   "source": [
    "# Installation of PyUncertainNumber\n",
    "\n",
    "- cover a few ways to install the package on a new machine\n",
    "- test if it works across multiple Python packages"
   ]
  },
  {
   "cell_type": "code",
   "execution_count": null,
   "id": "ee3724f9-993f-4818-95d4-24cbdef70a69",
   "metadata": {},
   "outputs": [],
   "source": []
  },
  {
   "cell_type": "code",
   "execution_count": null,
   "id": "e8870281-c69c-490d-98ba-ab98848b6e94",
   "metadata": {},
   "outputs": [],
   "source": []
  }
 ],
 "metadata": {
  "kernelspec": {
   "display_name": "pyun",
   "language": "python",
   "name": "pyun"
  },
  "language_info": {
   "codemirror_mode": {
    "name": "ipython",
    "version": 3
   },
   "file_extension": ".py",
   "mimetype": "text/x-python",
   "name": "python",
   "nbconvert_exporter": "python",
   "pygments_lexer": "ipython3",
   "version": "3.10.14"
  }
 },
 "nbformat": 4,
 "nbformat_minor": 5
}
